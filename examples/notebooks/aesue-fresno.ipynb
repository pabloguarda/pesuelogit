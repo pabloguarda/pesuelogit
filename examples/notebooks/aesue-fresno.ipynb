{
 "cells": [
  {
   "cell_type": "markdown",
   "metadata": {
    "collapsed": true,
    "pycharm": {
     "name": "#%% md\n"
    }
   },
   "source": [
    "## Setup"
   ]
  },
  {
   "cell_type": "code",
   "execution_count": 1,
   "metadata": {
    "pycharm": {
     "is_executing": true,
     "name": "#%%\n"
    }
   },
   "outputs": [],
   "source": [
    "import os\n",
    "from pathlib import Path\n",
    "from sklearn.model_selection import train_test_split\n",
    "from sklearn import preprocessing\n",
    "import matplotlib.pyplot as plt\n",
    "\n",
    "import numpy as np\n",
    "import pandas as pd\n",
    "import random\n",
    "# import cudf as pd\n",
    "import tensorflow as tf\n",
    "import isuelogit as isl\n",
    "import glob"
   ]
  },
  {
   "cell_type": "code",
   "execution_count": 2,
   "metadata": {
    "pycharm": {
     "name": "#%%\n"
    }
   },
   "outputs": [
    {
     "name": "stdout",
     "output_type": "stream",
     "text": [
      "main dir: /Users/pabloguarda/GitHub/aesuelogit\n"
     ]
    }
   ],
   "source": [
    "# Path management\n",
    "main_dir = str(Path(os.path.abspath('')).parents[1])\n",
    "os.chdir(main_dir)\n",
    "print('main dir:', main_dir)\n",
    "\n",
    "isl.config.dirs['read_network_data'] = \"input/network-data/fresno/\""
   ]
  },
  {
   "cell_type": "code",
   "execution_count": 3,
   "metadata": {
    "pycharm": {
     "name": "#%%\n"
    }
   },
   "outputs": [],
   "source": [
    "# Internal modules\n",
    "from src.aesuelogit.models import UtilityParameters, BPRParameters, ODParameters, AESUELOGIT, NGD\n",
    "from src.aesuelogit.visualizations import plot_predictive_performance\n",
    "from src.aesuelogit.networks import load_k_shortest_paths, read_paths, build_fresno_network, \\\n",
    "    Equilibrator, sparsify_OD, ColumnGenerator, read_OD\n",
    "from src.aesuelogit.etl import get_design_tensor, get_y_tensor, data_curation"
   ]
  },
  {
   "cell_type": "code",
   "execution_count": 4,
   "metadata": {
    "pycharm": {
     "name": "#%%\n"
    }
   },
   "outputs": [],
   "source": [
    "# Seed for reproducibility\n",
    "_SEED = 2022\n",
    "np.random.seed(_SEED)\n",
    "random.seed(_SEED)\n",
    "tf.random.set_seed(_SEED)"
   ]
  },
  {
   "cell_type": "markdown",
   "metadata": {
    "pycharm": {
     "name": "#%% md\n"
    }
   },
   "source": [
    "## Build Fresno network"
   ]
  },
  {
   "cell_type": "code",
   "execution_count": 5,
   "metadata": {
    "pycharm": {
     "name": "#%%\n"
    }
   },
   "outputs": [],
   "source": [
    "fresno_network = build_fresno_network()"
   ]
  },
  {
   "cell_type": "markdown",
   "metadata": {
    "pycharm": {
     "name": "#%% md\n"
    }
   },
   "source": [
    "## Read OD matrix"
   ]
  },
  {
   "cell_type": "code",
   "execution_count": 6,
   "metadata": {
    "pycharm": {
     "name": "#%%\n"
    }
   },
   "outputs": [
    {
     "name": "stdout",
     "output_type": "stream",
     "text": [
      "Matrix Q (1789, 1789) read in 0.1[s] with sparse format\n",
      "66266.3 trips were loaded among 6970 o-d pairs\n"
     ]
    }
   ],
   "source": [
    "read_OD(network=fresno_network, sparse=True)"
   ]
  },
  {
   "cell_type": "markdown",
   "metadata": {
    "pycharm": {
     "name": "#%% md\n"
    }
   },
   "source": [
    "## Read paths"
   ]
  },
  {
   "cell_type": "code",
   "execution_count": 7,
   "metadata": {
    "pycharm": {
     "name": "#%%\n"
    }
   },
   "outputs": [
    {
     "name": "stdout",
     "output_type": "stream",
     "text": [
      "18289 paths were read in 68.6[s]              \n",
      "\n",
      "18289 paths were loaded in the network\n",
      "\n",
      "Updating incidence matrices\n",
      "\n",
      "Matrix D (2413, 18289) generated in 63.2[s]               \n",
      "\n",
      "Generating M: |####################| 98.8% Matrix C (18289, 18289) generated in 9.6[s]               \n",
      "\n"
     ]
    }
   ],
   "source": [
    "#eread_paths(network=fresno_network, update_incidence_matrices=True, filename='paths-fresno.csv')\n",
    "read_paths(network=fresno_network, update_incidence_matrices=True, filename = 'paths-full-model-fresno.csv')\n",
    "\n",
    "# For quick testing\n",
    "# Q = fresno_network.load_OD(sparsify_OD(fresno_network.Q, prop_od_pairs=0.99))\n",
    "# load_k_shortest_paths(network=fresno_network, k=2, update_incidence_matrices=True)"
   ]
  },
  {
   "cell_type": "markdown",
   "metadata": {
    "pycharm": {
     "name": "#%% md\n"
    }
   },
   "source": [
    "## Read spatiotemporal data"
   ]
  },
  {
   "cell_type": "code",
   "execution_count": 8,
   "metadata": {
    "pycharm": {
     "name": "#%%\n"
    }
   },
   "outputs": [],
   "source": [
    "folderpath = isl.config.dirs['read_network_data'] + 'links/spatiotemporal-data/'\n",
    "df = pd.concat([pd.read_csv(file) for file in glob.glob(folderpath + \"*fresno-link-data*\")], axis=0)\n",
    "\n",
    "df['date'] = pd.to_datetime(df['date'], format='%Y-%m-%d')\n",
    "df = df[df['date'].dt.dayofweek.between(0, 4)]\n",
    "# df = df[df['date'].dt.year == 2019]\n",
    "\n",
    "df['period'] = df['date'].astype(str) + '-' + df['hour'].astype(str)\n",
    "df['period'] = df.period.map(hash)"
   ]
  },
  {
   "cell_type": "markdown",
   "metadata": {
    "pycharm": {
     "name": "#%% md\n"
    }
   },
   "source": [
    "## Data curation"
   ]
  },
  {
   "cell_type": "code",
   "execution_count": 9,
   "metadata": {
    "pycharm": {
     "name": "#%%\n"
    }
   },
   "outputs": [],
   "source": [
    "df['tt_ff'] = np.where(df['link_type'] != 'LWRLK', 0,df['length']/df['speed_ref_avg'])\n",
    "df.loc[(df.link_type == \"LWRLK\") & (df.speed_ref_avg == 0),'tt_ff'] = float('nan')\n",
    "\n",
    "df['tt_avg'] = np.where(df['link_type'] != 'LWRLK', 0,df['length']/df['speed_hist_avg'])\n",
    "df.loc[(df.link_type == \"LWRLK\") & (df.speed_hist_avg == 0),'tt_avg'] = float('nan')\n",
    "\n",
    "df = data_curation(df)"
   ]
  },
  {
   "cell_type": "markdown",
   "metadata": {
    "pycharm": {
     "name": "#%% md\n"
    }
   },
   "source": [
    "## Utility function"
   ]
  },
  {
   "cell_type": "code",
   "execution_count": 10,
   "metadata": {
    "pycharm": {
     "name": "#%%\n"
    }
   },
   "outputs": [],
   "source": [
    "features_Z = ['speed_sd', 'median_inc', 'incidents', 'bus_stops', 'intersections']\n",
    "\n",
    "utility_parameters = UtilityParameters(features_Y=['tt'],\n",
    "                                       features_Z=features_Z,\n",
    "                                       periods = 1,\n",
    "                                       initial_values={'tt': 0, 'c': 0, 's': 0, 'psc_factor': 0,\n",
    "                                                       'fixed_effect': np.zeros_like(fresno_network.links)},\n",
    "                                       signs={'tt': '-', 'speed_sd': '-', 'median_inc': '+', 'incidents': '-',\n",
    "                                              'bus_stops': '-', 'intersections': '-'},\n",
    "                                       trainables={'psc_factor': False, 'fixed_effect': False},\n",
    "                                       )\n",
    "\n",
    "utility_parameters.constant_initializer(0)"
   ]
  },
  {
   "cell_type": "markdown",
   "metadata": {
    "pycharm": {
     "name": "#%% md\n"
    }
   },
   "source": [
    "## Data processing"
   ]
  },
  {
   "cell_type": "code",
   "execution_count": 11,
   "metadata": {
    "pycharm": {
     "name": "#%%\n"
    }
   },
   "outputs": [],
   "source": [
    "n_links = len(fresno_network.links)\n",
    "df['date'] = pd.to_datetime(df['date'], format='%Y-%m-%d')\n",
    "df['year'] = df.date.dt.year\n",
    "X, Y = {}, {}"
   ]
  },
  {
   "cell_type": "code",
   "execution_count": 12,
   "metadata": {
    "pycharm": {
     "name": "#%%\n"
    }
   },
   "outputs": [
    {
     "data": {
      "text/html": [
       "<div>\n",
       "<style scoped>\n",
       "    .dataframe tbody tr th:only-of-type {\n",
       "        vertical-align: middle;\n",
       "    }\n",
       "\n",
       "    .dataframe tbody tr th {\n",
       "        vertical-align: top;\n",
       "    }\n",
       "\n",
       "    .dataframe thead th {\n",
       "        text-align: right;\n",
       "    }\n",
       "</style>\n",
       "<table border=\"1\" class=\"dataframe\">\n",
       "  <thead>\n",
       "    <tr style=\"text-align: right;\">\n",
       "      <th></th>\n",
       "      <th>counts</th>\n",
       "      <th>tt_ff</th>\n",
       "      <th>tt_avg</th>\n",
       "      <th>tf_inrix</th>\n",
       "    </tr>\n",
       "  </thead>\n",
       "  <tbody>\n",
       "    <tr>\n",
       "      <th>count</th>\n",
       "      <td>9704.000000</td>\n",
       "      <td>166497.000000</td>\n",
       "      <td>166497.000000</td>\n",
       "      <td>166497.000000</td>\n",
       "    </tr>\n",
       "    <tr>\n",
       "      <th>mean</th>\n",
       "      <td>1880.469281</td>\n",
       "      <td>0.150823</td>\n",
       "      <td>0.301647</td>\n",
       "      <td>0.192740</td>\n",
       "    </tr>\n",
       "    <tr>\n",
       "      <th>std</th>\n",
       "      <td>791.369747</td>\n",
       "      <td>0.172423</td>\n",
       "      <td>0.344845</td>\n",
       "      <td>0.224399</td>\n",
       "    </tr>\n",
       "    <tr>\n",
       "      <th>min</th>\n",
       "      <td>3.000000</td>\n",
       "      <td>0.000000</td>\n",
       "      <td>0.000000</td>\n",
       "      <td>0.000000</td>\n",
       "    </tr>\n",
       "    <tr>\n",
       "      <th>25%</th>\n",
       "      <td>1361.000000</td>\n",
       "      <td>0.000000</td>\n",
       "      <td>0.000000</td>\n",
       "      <td>0.000000</td>\n",
       "    </tr>\n",
       "    <tr>\n",
       "      <th>50%</th>\n",
       "      <td>1787.000000</td>\n",
       "      <td>0.121000</td>\n",
       "      <td>0.242000</td>\n",
       "      <td>0.144000</td>\n",
       "    </tr>\n",
       "    <tr>\n",
       "      <th>75%</th>\n",
       "      <td>2302.700000</td>\n",
       "      <td>0.205000</td>\n",
       "      <td>0.410000</td>\n",
       "      <td>0.272000</td>\n",
       "    </tr>\n",
       "    <tr>\n",
       "      <th>max</th>\n",
       "      <td>4807.000000</td>\n",
       "      <td>2.113000</td>\n",
       "      <td>4.226000</td>\n",
       "      <td>4.605000</td>\n",
       "    </tr>\n",
       "  </tbody>\n",
       "</table>\n",
       "</div>"
      ],
      "text/plain": [
       "            counts          tt_ff         tt_avg       tf_inrix\n",
       "count  9704.000000  166497.000000  166497.000000  166497.000000\n",
       "mean   1880.469281       0.150823       0.301647       0.192740\n",
       "std     791.369747       0.172423       0.344845       0.224399\n",
       "min       3.000000       0.000000       0.000000       0.000000\n",
       "25%    1361.000000       0.000000       0.000000       0.000000\n",
       "50%    1787.000000       0.121000       0.242000       0.144000\n",
       "75%    2302.700000       0.205000       0.410000       0.272000\n",
       "max    4807.000000       2.113000       4.226000       4.605000"
      ]
     },
     "execution_count": 12,
     "metadata": {},
     "output_type": "execute_result"
    }
   ],
   "source": [
    "df.query('year == 2019')[['counts', 'tt_ff', 'tt_avg', 'tf_inrix']].describe()"
   ]
  },
  {
   "cell_type": "code",
   "execution_count": 13,
   "metadata": {
    "pycharm": {
     "name": "#%%\n"
    }
   },
   "outputs": [
    {
     "data": {
      "text/html": [
       "<div>\n",
       "<style scoped>\n",
       "    .dataframe tbody tr th:only-of-type {\n",
       "        vertical-align: middle;\n",
       "    }\n",
       "\n",
       "    .dataframe tbody tr th {\n",
       "        vertical-align: top;\n",
       "    }\n",
       "\n",
       "    .dataframe thead th {\n",
       "        text-align: right;\n",
       "    }\n",
       "</style>\n",
       "<table border=\"1\" class=\"dataframe\">\n",
       "  <thead>\n",
       "    <tr style=\"text-align: right;\">\n",
       "      <th></th>\n",
       "      <th>counts</th>\n",
       "      <th>tt_ff</th>\n",
       "      <th>tt_avg</th>\n",
       "      <th>tf_inrix</th>\n",
       "    </tr>\n",
       "  </thead>\n",
       "  <tbody>\n",
       "    <tr>\n",
       "      <th>count</th>\n",
       "      <td>9290.000000</td>\n",
       "      <td>159258.000000</td>\n",
       "      <td>159258.000000</td>\n",
       "      <td>159258.000000</td>\n",
       "    </tr>\n",
       "    <tr>\n",
       "      <th>mean</th>\n",
       "      <td>1822.742196</td>\n",
       "      <td>0.150823</td>\n",
       "      <td>0.301647</td>\n",
       "      <td>0.188521</td>\n",
       "    </tr>\n",
       "    <tr>\n",
       "      <th>std</th>\n",
       "      <td>795.855464</td>\n",
       "      <td>0.172423</td>\n",
       "      <td>0.344845</td>\n",
       "      <td>0.219121</td>\n",
       "    </tr>\n",
       "    <tr>\n",
       "      <th>min</th>\n",
       "      <td>31.000000</td>\n",
       "      <td>0.000000</td>\n",
       "      <td>0.000000</td>\n",
       "      <td>0.000000</td>\n",
       "    </tr>\n",
       "    <tr>\n",
       "      <th>25%</th>\n",
       "      <td>1275.125000</td>\n",
       "      <td>0.000000</td>\n",
       "      <td>0.000000</td>\n",
       "      <td>0.000000</td>\n",
       "    </tr>\n",
       "    <tr>\n",
       "      <th>50%</th>\n",
       "      <td>1715.000000</td>\n",
       "      <td>0.121000</td>\n",
       "      <td>0.242000</td>\n",
       "      <td>0.142000</td>\n",
       "    </tr>\n",
       "    <tr>\n",
       "      <th>75%</th>\n",
       "      <td>2242.750000</td>\n",
       "      <td>0.205000</td>\n",
       "      <td>0.410000</td>\n",
       "      <td>0.263000</td>\n",
       "    </tr>\n",
       "    <tr>\n",
       "      <th>max</th>\n",
       "      <td>4798.000000</td>\n",
       "      <td>2.113000</td>\n",
       "      <td>4.226000</td>\n",
       "      <td>3.775000</td>\n",
       "    </tr>\n",
       "  </tbody>\n",
       "</table>\n",
       "</div>"
      ],
      "text/plain": [
       "            counts          tt_ff         tt_avg       tf_inrix\n",
       "count  9290.000000  159258.000000  159258.000000  159258.000000\n",
       "mean   1822.742196       0.150823       0.301647       0.188521\n",
       "std     795.855464       0.172423       0.344845       0.219121\n",
       "min      31.000000       0.000000       0.000000       0.000000\n",
       "25%    1275.125000       0.000000       0.000000       0.000000\n",
       "50%    1715.000000       0.121000       0.242000       0.142000\n",
       "75%    2242.750000       0.205000       0.410000       0.263000\n",
       "max    4798.000000       2.113000       4.226000       3.775000"
      ]
     },
     "execution_count": 13,
     "metadata": {},
     "output_type": "execute_result"
    }
   ],
   "source": [
    "df.query('year == 2020')[['counts', 'tt_ff', 'tt_avg', 'tf_inrix']].describe()"
   ]
  },
  {
   "cell_type": "code",
   "execution_count": 14,
   "metadata": {
    "pycharm": {
     "name": "#%%\n"
    }
   },
   "outputs": [],
   "source": [
    "# Normalization of features to range [0,1]\n",
    "\n",
    "df[features_Z + ['tt_avg'] + ['tt_ff']] \\\n",
    "    = preprocessing.MaxAbsScaler().fit_transform(df[features_Z + ['tt_avg'] + ['tt_ff']])"
   ]
  },
  {
   "cell_type": "code",
   "execution_count": 15,
   "metadata": {
    "pycharm": {
     "name": "#%%\n"
    }
   },
   "outputs": [],
   "source": [
    "# Set free flow travel times\n",
    "tt_ff_links = df.groupby('link_key')['tt_ff'].min()\n",
    "for link in fresno_network.links:\n",
    "    fresno_network.links_dict[link.key].performance_function.tf = float(tt_ff_links[tt_ff_links.index==str(link.key)])"
   ]
  },
  {
   "cell_type": "markdown",
   "metadata": {
    "pycharm": {
     "name": "#%% md\n"
    }
   },
   "source": [
    "## Training and validation sets"
   ]
  },
  {
   "cell_type": "code",
   "execution_count": 16,
   "metadata": {
    "pycharm": {
     "name": "#%%\n"
    }
   },
   "outputs": [
    {
     "name": "stderr",
     "output_type": "stream",
     "text": [
      "2022-05-31 11:50:05.626432: I tensorflow/core/platform/cpu_feature_guard.cc:151] This TensorFlow binary is optimized with oneAPI Deep Neural Network Library (oneDNN) to use the following CPU instructions in performance-critical operations:  AVX2 FMA\n",
      "To enable them in other operations, rebuild TensorFlow with the appropriate compiler flags.\n"
     ]
    }
   ],
   "source": [
    "for year in sorted(df['year'].unique()):\n",
    "    df_year = df[df['year'] == year]\n",
    "\n",
    "    n_days, n_hours = len(df_year.date.unique()), len(df_year.hour.unique())\n",
    "\n",
    "    traveltime_data = get_y_tensor(y=df_year[['tt_avg']], n_links=n_links, n_days=n_days, n_hours=n_hours)\n",
    "    flow_data = get_y_tensor(y=df_year[['counts']], n_links=n_links, n_days=n_days, n_hours=n_hours)\n",
    "\n",
    "    Y[year] = tf.concat([traveltime_data, flow_data], axis=3)\n",
    "\n",
    "    X[year] = get_design_tensor(Z=df_year[['tt_avg'] + features_Z], n_links=n_links, n_days=n_days, n_hours=n_hours)\n",
    "\n",
    "    tt_ff = get_design_tensor(Z=df_year[['tt_ff']], n_links=n_links, n_days=n_days, n_hours=n_hours)"
   ]
  },
  {
   "cell_type": "code",
   "execution_count": 17,
   "metadata": {
    "pycharm": {
     "name": "#%%\n"
    }
   },
   "outputs": [],
   "source": [
    "# Prepare the training and validation dataset\n",
    "\n",
    "X_train, X_val, Y_train, Y_val = X[2019], X[2020], Y[2019], Y[2020]\n",
    "\n",
    "X_train, X_val, Y_train, Y_val = [tf.constant(i) for i in [X_train, X_val, Y_train, Y_val]]"
   ]
  },
  {
   "cell_type": "markdown",
   "metadata": {
    "pycharm": {
     "name": "#%% md\n"
    }
   },
   "source": [
    "## Learning parameters"
   ]
  },
  {
   "cell_type": "code",
   "execution_count": 18,
   "metadata": {
    "pycharm": {
     "name": "#%%\n"
    }
   },
   "outputs": [],
   "source": [
    "_EPOCHS = 10\n",
    "_BATCH_SIZE = 4\n",
    "_LR = 5e-1  # Default is 1e-3. With 1e-1, training becomes unstable"
   ]
  },
  {
   "cell_type": "markdown",
   "metadata": {
    "pycharm": {
     "name": "#%% md\n"
    }
   },
   "source": [
    "## Network equilibrium predictor"
   ]
  },
  {
   "cell_type": "code",
   "execution_count": 19,
   "metadata": {
    "pycharm": {
     "name": "#%%\n"
    }
   },
   "outputs": [],
   "source": [
    "equilibrator = Equilibrator(\n",
    "    network=fresno_network,\n",
    "    # paths_generator=paths_generator,\n",
    "    utility=utility_parameters,\n",
    "    max_iters=100,\n",
    "    method='fw',\n",
    "    iters_fw=50,\n",
    "    accuracy=1e-4,\n",
    ")\n",
    "\n",
    "column_generator = ColumnGenerator(equilibrator=equilibrator,\n",
    "                                   utility=utility_parameters,\n",
    "                                   n_paths=0,\n",
    "                                   ods_coverage=0.1,\n",
    "                                   ods_sampling='sequential',\n",
    "                                   # ods_sampling='demand',\n",
    "                                   )"
   ]
  },
  {
   "cell_type": "markdown",
   "metadata": {
    "pycharm": {
     "name": "#%% md\n"
    }
   },
   "source": [
    "## Models"
   ]
  },
  {
   "cell_type": "code",
   "execution_count": 21,
   "metadata": {
    "pycharm": {
     "name": "#%%\n"
    }
   },
   "outputs": [],
   "source": [
    "models = dict.fromkeys(['m1', 'm2', 'm3', 'm4'], True)\n",
    "# models = dict.fromkeys(['m1', 'm2', 'm3', 'm4'], False)\n",
    "# models['m1'] = True\n",
    "# models['m2'] = True\n",
    "# models['m3'] = True\n",
    "# models['m4'] = True"
   ]
  },
  {
   "cell_type": "code",
   "execution_count": 22,
   "metadata": {
    "pycharm": {
     "name": "#%%\n"
    }
   },
   "outputs": [],
   "source": [
    "train_losses_dfs = {}\n",
    "val_losses_dfs = {}"
   ]
  },
  {
   "cell_type": "markdown",
   "metadata": {
    "pycharm": {
     "name": "#%% md\n"
    }
   },
   "source": [
    "### Model 1: Benchmark of aesuelogit and isuelogit"
   ]
  },
  {
   "cell_type": "code",
   "execution_count": 23,
   "metadata": {
    "pycharm": {
     "name": "#%%\n"
    }
   },
   "outputs": [
    {
     "name": "stdout",
     "output_type": "stream",
     "text": [
      "\n",
      "model 1: Benchmark of aesuelogit and isuelogit (utility only)\n",
      "\n",
      "Epoch: 0, n_train: 23, n_test: 22\n",
      "\n",
      "SUE via fw (max iters: 100)\n",
      "\n",
      "Equilibrium gaps: ['0E+00']\n",
      "Initial Fisk Objective: -152,811.47\n",
      "Final Fisk Objective: -152,811.47\n",
      "Improvement Fisk Objective: 0.00%\n",
      "Final gap: 0E+00. Acc. bound: 1E-04. Time: 93.9 [s]\n",
      "\n",
      "\n",
      "0: train_loss=2.3e+06,  val_loss=2.4e+06, train_loss tt=0.013, val_loss tt=0.013, train_loss flow=2.3e+06, val_loss flow=2.4e+06, train_loss bpr=0.0029, val_loss bpr=0.0027, theta = [0. 0. 0. 0. 0. 0.], vot = nan, psc_factor = 0.0, avg abs theta fixed effect = 0, avg alpha = 0.15, avg beta = 4, avg abs diff demand =8e-16, time:  132.4\n",
      "val generalization error =0.86, \n",
      "\n",
      "Epoch: 1, n_train: 23, n_test: 22\n",
      "\n",
      "SUE via fw (max iters: 100)\n",
      "\n",
      "Equilibrium gaps: ['0E+00']\n",
      "Initial Fisk Objective: -1,624,357.99\n",
      "Final Fisk Objective: -1,622,826.64\n",
      "Improvement Fisk Objective: 0.09%\n",
      "Final gap: 0E+00. Acc. bound: 1E-04. Time: 105.1 [s]\n",
      "\n",
      "\n",
      "1: train_loss=1.6e+06,  val_loss=1.7e+06, train_loss tt=0.0041, val_loss tt=0.004, train_loss flow=1.6e+06, val_loss flow=1.7e+06, train_loss bpr=0.0029, val_loss bpr=0.0027, theta = [-1.0127  0.      0.     -2.1582  0.     -0.3868], vot = nan, psc_factor = 0.0, avg abs theta fixed effect = 0, avg alpha = 0.15, avg beta = 4, avg abs diff demand =8e-16, time:  189.1\n",
      "val generalization error =0.77, \n",
      "\n",
      "Epoch: 2, n_train: 23, n_test: 22\n",
      "\n",
      "SUE via fw (max iters: 100)\n",
      "\n",
      "Equilibrium gaps: ['2E-09']\n",
      "Initial Fisk Objective: -2,453,264.68\n",
      "Final Fisk Objective: -2,451,014.48\n",
      "Improvement Fisk Objective: 0.09%\n",
      "Final gap: 2E-09. Acc. bound: 1E-04. Time: 103.5 [s]\n",
      "\n",
      "\n",
      "2: train_loss=1.6e+06,  val_loss=1.6e+06, train_loss tt=0.0038, val_loss tt=0.0038, train_loss flow=1.6e+06, val_loss flow=1.6e+06, train_loss bpr=0.0029, val_loss bpr=0.0027, theta = [-1.4714  0.      0.     -3.436   0.     -0.6199], vot = nan, psc_factor = 0.0, avg abs theta fixed effect = 0, avg alpha = 0.15, avg beta = 4, avg abs diff demand =8e-16, time:  178.7\n",
      "val generalization error =0.78, \n",
      "\n",
      "Epoch: 3, n_train: 23, n_test: 22\n",
      "\n",
      "SUE via fw (max iters: 100)\n",
      "\n",
      "Equilibrium gaps: ['1E-07']\n",
      "Initial Fisk Objective: -2,828,823.1\n",
      "Final Fisk Objective: -2,826,453.5\n",
      "Improvement Fisk Objective: 0.08%\n",
      "Final gap: 1E-07. Acc. bound: 1E-04. Time: 104.9 [s]\n",
      "\n",
      "\n",
      "3: train_loss=1.6e+06,  val_loss=1.6e+06, train_loss tt=0.0038, val_loss tt=0.0038, train_loss flow=1.6e+06, val_loss flow=1.6e+06, train_loss bpr=0.0029, val_loss bpr=0.0027, theta = [-1.6178  0.      0.     -4.0267  0.     -0.6739], vot = nan, psc_factor = 0.0, avg abs theta fixed effect = 0, avg alpha = 0.15, avg beta = 4, avg abs diff demand =8e-16, time:  184.6\n",
      "val generalization error =0.78, \n",
      "\n",
      "Epoch: 4, n_train: 23, n_test: 22\n",
      "\n",
      "SUE via fw (max iters: 100)\n",
      "\n",
      "Equilibrium gaps: ['7E-07']\n",
      "Initial Fisk Objective: -3,079,563.99\n",
      "Final Fisk Objective: -3,077,239.97\n",
      "Improvement Fisk Objective: 0.08%\n",
      "Final gap: 7E-07. Acc. bound: 1E-04. Time: 109.3 [s]\n",
      "\n",
      "\n",
      "4: train_loss=1.6e+06,  val_loss=1.6e+06, train_loss tt=0.0037, val_loss tt=0.0038, train_loss flow=1.6e+06, val_loss flow=1.6e+06, train_loss bpr=0.0029, val_loss bpr=0.0027, theta = [-1.6704  0.      0.     -4.4197  0.     -0.7367], vot = nan, psc_factor = 0.0, avg abs theta fixed effect = 0, avg alpha = 0.15, avg beta = 4, avg abs diff demand =8e-16, time:  182.4\n",
      "val generalization error =0.78, \n",
      "\n",
      "Epoch: 5, n_train: 23, n_test: 22\n",
      "\n",
      "SUE via fw (max iters: 100)\n",
      "\n",
      "Equilibrium gaps: ['9E-07']\n",
      "Initial Fisk Objective: -3,249,529.04\n",
      "Final Fisk Objective: -3,247,142.71\n",
      "Improvement Fisk Objective: 0.07%\n",
      "Final gap: 9E-07. Acc. bound: 1E-04. Time: 120.4 [s]\n",
      "\n",
      "\n",
      "5: train_loss=1.6e+06,  val_loss=1.6e+06, train_loss tt=0.0037, val_loss tt=0.0038, train_loss flow=1.6e+06, val_loss flow=1.6e+06, train_loss bpr=0.0029, val_loss bpr=0.0027, theta = [-1.741   0.      0.     -4.6906  0.     -0.7371], vot = nan, psc_factor = 0.0, avg abs theta fixed effect = 0, avg alpha = 0.15, avg beta = 4, avg abs diff demand =8e-16, time:  201.8\n",
      "val generalization error =0.78, \n",
      "\n",
      "Epoch: 6, n_train: 23, n_test: 22\n",
      "\n",
      "SUE via fw (max iters: 100)\n",
      "\n",
      "Equilibrium gaps: ['1E-06']\n",
      "Initial Fisk Objective: -3,371,655.53\n",
      "Final Fisk Objective: -3,369,219.1\n",
      "Improvement Fisk Objective: 0.07%\n",
      "Final gap: 1E-06. Acc. bound: 1E-04. Time: 113.6 [s]\n",
      "\n",
      "\n",
      "6: train_loss=1.6e+06,  val_loss=1.6e+06, train_loss tt=0.0037, val_loss tt=0.0038, train_loss flow=1.6e+06, val_loss flow=1.6e+06, train_loss bpr=0.0029, val_loss bpr=0.0027, theta = [-1.7935  0.      0.     -4.8835  0.     -0.7495], vot = nan, psc_factor = 0.0, avg abs theta fixed effect = 0, avg alpha = 0.15, avg beta = 4, avg abs diff demand =8e-16, time:  188.8\n",
      "val generalization error =0.78, \n",
      "\n",
      "Epoch: 7, n_train: 23, n_test: 22\n",
      "\n",
      "SUE via fw (max iters: 100)\n",
      "\n",
      "Equilibrium gaps: ['1E-06']\n",
      "Initial Fisk Objective: -3,479,630.23\n",
      "Final Fisk Objective: -3,477,147.68\n",
      "Improvement Fisk Objective: 0.07%\n",
      "Final gap: 1E-06. Acc. bound: 1E-04. Time: 116.6 [s]\n",
      "\n",
      "\n",
      "7: train_loss=1.6e+06,  val_loss=1.6e+06, train_loss tt=0.0037, val_loss tt=0.0038, train_loss flow=1.6e+06, val_loss flow=1.6e+06, train_loss bpr=0.0029, val_loss bpr=0.0027, theta = [-1.8413  0.      0.     -5.055   0.     -0.7532], vot = nan, psc_factor = 0.0, avg abs theta fixed effect = 0, avg alpha = 0.15, avg beta = 4, avg abs diff demand =8e-16, time:  194.6\n",
      "val generalization error =0.78, \n",
      "\n",
      "Epoch: 8, n_train: 23, n_test: 22\n",
      "\n",
      "SUE via fw (max iters: 100)\n",
      "\n",
      "Equilibrium gaps: ['1E-06']\n",
      "Initial Fisk Objective: -3,570,426.51\n",
      "Final Fisk Objective: -3,567,922.02\n",
      "Improvement Fisk Objective: 0.07%\n",
      "Final gap: 1E-06. Acc. bound: 1E-04. Time: 118.7 [s]\n",
      "\n",
      "\n",
      "8: train_loss=1.6e+06,  val_loss=1.6e+06, train_loss tt=0.0037, val_loss tt=0.0038, train_loss flow=1.6e+06, val_loss flow=1.6e+06, train_loss bpr=0.0029, val_loss bpr=0.0027, theta = [-1.8751  0.      0.     -5.1993  0.     -0.7579], vot = nan, psc_factor = 0.0, avg abs theta fixed effect = 0, avg alpha = 0.15, avg beta = 4, avg abs diff demand =8e-16, time:  201.4\n",
      "val generalization error =0.79, \n",
      "\n",
      "Epoch: 9, n_train: 23, n_test: 22\n",
      "\n",
      "SUE via fw (max iters: 100)\n",
      "\n",
      "Equilibrium gaps: ['1E-06']\n",
      "Initial Fisk Objective: -3,644,045.75\n",
      "Final Fisk Objective: -3,641,562.79\n",
      "Improvement Fisk Objective: 0.07%\n",
      "Final gap: 1E-06. Acc. bound: 1E-04. Time: 116.8 [s]\n",
      "\n",
      "\n",
      "9: train_loss=1.6e+06,  val_loss=1.6e+06, train_loss tt=0.0037, val_loss tt=0.0038, train_loss flow=1.6e+06, val_loss flow=1.6e+06, train_loss bpr=0.0029, val_loss bpr=0.0027, theta = [-1.8866  0.      0.     -5.3147  0.     -0.7788], vot = nan, psc_factor = 0.0, avg abs theta fixed effect = 0, avg alpha = 0.15, avg beta = 4, avg abs diff demand =8e-16, time:  195.7\n",
      "val generalization error =0.79, \n",
      "\n",
      "Epoch: 10, n_train: 23, n_test: 22\n",
      "\n",
      "SUE via fw (max iters: 100)\n",
      "\n",
      "Equilibrium gaps: ['2E-06']\n",
      "Initial Fisk Objective: -3,695,677.2\n",
      "Final Fisk Objective: -3,693,160.65\n",
      "Improvement Fisk Objective: 0.07%\n",
      "Final gap: 2E-06. Acc. bound: 1E-04. Time: 118.6 [s]\n",
      "\n",
      "\n",
      "10: train_loss=1.6e+06,  val_loss=1.6e+06, train_loss tt=0.0037, val_loss tt=0.0038, train_loss flow=1.6e+06, val_loss flow=1.6e+06, train_loss bpr=0.0029, val_loss bpr=0.0027, theta = [-1.9141  0.      0.     -5.3967  0.     -0.7797], vot = nan, psc_factor = 0.0, avg abs theta fixed effect = 0, avg alpha = 0.15, avg beta = 4, avg abs diff demand =8e-16, time:  205.3\n",
      "val generalization error =0.79, \n"
     ]
    },
    {
     "name": "stderr",
     "output_type": "stream",
     "text": [
      "/Users/pabloguarda/GitHub/aesuelogit/src/aesuelogit/visualizations.py:65: UserWarning: Matplotlib is currently using module://matplotlib_inline.backend_inline, which is a non-GUI backend, so cannot show the figure.\n",
      "  fig.show()\n"
     ]
    },
    {
     "name": "stdout",
     "output_type": "stream",
     "text": [
      "theta = {'tt': -1.935538605890071, 'speed_sd': 0.0, 'median_inc': 0.0, 'incidents': -5.470610158763652, 'bus_stops': 0.0, 'intersections': -0.7864337563053643}\n",
      "alpha =  0.15, beta  =  4.00\n",
      "Avg abs diff of observed and estimated OD:  0.00\n"
     ]
    },
    {
     "data": {
      "image/png": "[encoded data removed]",
      "text/plain": [
       "<Figure size 432x288 with 1 Axes>"
      ]
     },
     "metadata": {
      "needs_background": "light"
     },
     "output_type": "display_data"
    }
   ],
   "source": [
    "if models['m1']:\n",
    "    print('\\nmodel 1: Benchmark of aesuelogit and isuelogit (utility only)')\n",
    "\n",
    "    _LR = 5e-1\n",
    "\n",
    "    optimizer = NGD(learning_rate=_LR)\n",
    "\n",
    "    bpr_parameters = BPRParameters(keys=['alpha', 'beta'],\n",
    "                                   initial_values={'alpha': 0.15, 'beta': 4},\n",
    "                                   trainables=dict.fromkeys(['alpha', 'beta'], False),\n",
    "                                   )\n",
    "\n",
    "    od_parameters = ODParameters(key='od',\n",
    "                                 periods=1,\n",
    "                                 # initial_values=0.6 * tntp_network.q.flatten(),\n",
    "                                 initial_values=fresno_network.q.flatten(),\n",
    "                                 true_values=fresno_network.q.flatten(),\n",
    "                                 historic_values={1: fresno_network.q.flatten()},\n",
    "                                 trainable=False)\n",
    "\n",
    "    model_1 = AESUELOGIT(\n",
    "        key='model_1',\n",
    "        network=fresno_network,\n",
    "        dtype=tf.float64,\n",
    "        equilibrator = equilibrator,\n",
    "        column_generator = column_generator,\n",
    "        utility=utility_parameters,\n",
    "        bpr=bpr_parameters,\n",
    "        od=od_parameters\n",
    "    )\n",
    "\n",
    "    train_losses_dfs['model_1'], val_losses_dfs['model_1'] = model_1.train(\n",
    "        X_train, Y_train, X_val, Y_val,\n",
    "        optimizer=optimizer,\n",
    "        generalization_error={'train': False, 'validation': True},\n",
    "        batch_size=_BATCH_SIZE,\n",
    "        loss_weights={'od': 0, 'theta': 0, 'tt': 0, 'flow': 1, 'bpr': 0},\n",
    "        epochs=_EPOCHS)\n",
    "\n",
    "    plot_predictive_performance(train_losses=train_losses_dfs['model_1'], val_losses=val_losses_dfs['model_1'])\n",
    "    \n",
    "    plt.show()\n",
    "\n",
    "    print(f\"theta = {dict(zip(utility_parameters.true_values.keys(), list(model_1.theta.numpy())))}\")\n",
    "    print(f\"alpha = {model_1.alpha: 0.2f}, beta  = {model_1.beta: 0.2f}\")\n",
    "    print(f\"Avg abs diff of observed and estimated OD: {np.mean(np.abs(model_1.q - fresno_network.q.flatten())): 0.2f}\")"
   ]
  },
  {
   "cell_type": "markdown",
   "metadata": {
    "pycharm": {
     "name": "#%% md\n"
    }
   },
   "source": [
    "### Model 2: OD + utility estimation with historic OD"
   ]
  },
  {
   "cell_type": "code",
   "execution_count": 24,
   "metadata": {
    "pycharm": {
     "name": "#%%\n"
    }
   },
   "outputs": [
    {
     "name": "stdout",
     "output_type": "stream",
     "text": [
      "\n",
      "model 2: OD + utility estimation with historic OD\n",
      "\n",
      "Epoch: 0, n_train: 23, n_test: 22\n",
      "\n",
      "SUE via fw (max iters: 100)\n",
      "\n",
      "Equilibrium gaps: ['0E+00']\n",
      "Initial Fisk Objective: -152,811.47\n",
      "Final Fisk Objective: -152,811.47\n",
      "Improvement Fisk Objective: 0.00%\n",
      "Final gap: 0E+00. Acc. bound: 1E-04. Time: 91.0 [s]\n",
      "\n",
      "\n",
      "0: train_loss=2.3e+06,  val_loss=2.4e+06, train_loss tt=0.013, val_loss tt=0.013, train_loss flow=2.3e+06, val_loss flow=2.4e+06, train_loss bpr=0.0029, val_loss bpr=0.0027, theta = [0. 0. 0. 0. 0. 0.], vot = nan, psc_factor = 0.0, avg abs theta fixed effect = 0, avg alpha = 0.15, avg beta = 4, avg abs diff demand =8e-16, time:  120.6\n",
      "val generalization error =0.86, \n",
      "\n",
      "Epoch: 1, n_train: 23, n_test: 22\n",
      "\n",
      "SUE via fw (max iters: 100)\n",
      "\n",
      "Equilibrium gaps: ['0E+00']\n",
      "Initial Fisk Objective: -1,282,927.38\n",
      "Final Fisk Objective: -1,282,678.77\n",
      "Improvement Fisk Objective: 0.02%\n",
      "Final gap: 0E+00. Acc. bound: 1E-04. Time: 105.9 [s]\n",
      "\n",
      "\n",
      "1: train_loss=7.7e+05,  val_loss=8e+05, train_loss tt=0.00029, val_loss tt=0.00027, train_loss flow=7.7e+05, val_loss flow=8e+05, train_loss bpr=0.0029, val_loss bpr=0.0027, theta = [-1.5859 -1.4677  0.     -1.6551  0.     -1.468 ], vot = nan, psc_factor = 0.0, avg abs theta fixed effect = 0, avg alpha = 0.15, avg beta = 4, avg abs diff demand =4.7, time:  193.8\n",
      "val generalization error =0.5, \n",
      "\n",
      "Epoch: 2, n_train: 23, n_test: 22\n",
      "\n",
      "SUE via fw (max iters: 100)\n",
      "\n",
      "Equilibrium gaps: ['1E-05']\n",
      "Initial Fisk Objective: -1,914,834.43\n",
      "Final Fisk Objective: -1,912,629.12\n",
      "Improvement Fisk Objective: 0.12%\n",
      "Final gap: 1E-05. Acc. bound: 1E-04. Time: 110.0 [s]\n",
      "\n",
      "\n",
      "2: train_loss=6e+05,  val_loss=6.4e+05, train_loss tt=0.00089, val_loss tt=0.00085, train_loss flow=6e+05, val_loss flow=6.4e+05, train_loss bpr=0.0029, val_loss bpr=0.0027, theta = [-2.1072 -1.8564  0.     -2.2411  0.     -1.8573], vot = nan, psc_factor = 0.0, avg abs theta fixed effect = 0, avg alpha = 0.15, avg beta = 4, avg abs diff demand =6.3, time:  201.1\n",
      "val generalization error =0.46, \n",
      "\n",
      "Epoch: 3, n_train: 23, n_test: 22\n",
      "\n",
      "SUE via fw (max iters: 100)\n",
      "\n",
      "Equilibrium gaps: ['2E-06']\n",
      "Initial Fisk Objective: -2,119,990.42\n",
      "Final Fisk Objective: -2,119,003.03\n",
      "Improvement Fisk Objective: 0.05%\n",
      "Final gap: 2E-06. Acc. bound: 1E-04. Time: 105.4 [s]\n",
      "\n",
      "\n",
      "3: train_loss=5.2e+05,  val_loss=5.7e+05, train_loss tt=0.00058, val_loss tt=0.00056, train_loss flow=5.2e+05, val_loss flow=5.7e+05, train_loss bpr=0.0029, val_loss bpr=0.0027, theta = [-2.3757 -1.6637  0.     -2.5542  0.     -2.1215], vot = nan, psc_factor = 0.0, avg abs theta fixed effect = 0, avg alpha = 0.15, avg beta = 4, avg abs diff demand =7.1, time:  190.5\n",
      "val generalization error =0.43, \n",
      "\n",
      "Epoch: 4, n_train: 23, n_test: 22\n",
      "\n",
      "SUE via fw (max iters: 100)\n",
      "\n",
      "Equilibrium gaps: ['9E-06']\n",
      "Initial Fisk Objective: -2,184,108.82\n",
      "Final Fisk Objective: -2,182,535.26\n",
      "Improvement Fisk Objective: 0.07%\n",
      "Final gap: 9E-06. Acc. bound: 1E-04. Time: 111.3 [s]\n",
      "\n",
      "\n",
      "4: train_loss=4.8e+05,  val_loss=5.5e+05, train_loss tt=0.00057, val_loss tt=0.00052, train_loss flow=4.8e+05, val_loss flow=5.5e+05, train_loss bpr=0.0029, val_loss bpr=0.0027, theta = [-2.5565 -1.3169  0.     -2.6965  0.     -2.3048], vot = nan, psc_factor = 0.0, avg abs theta fixed effect = 0, avg alpha = 0.15, avg beta = 4, avg abs diff demand =7.7, time:  204.4\n",
      "val generalization error =0.44, \n",
      "\n",
      "Epoch: 5, n_train: 23, n_test: 22\n",
      "\n",
      "SUE via fw (max iters: 100)\n",
      "\n",
      "Equilibrium gaps: ['2E-05']\n",
      "Initial Fisk Objective: -2,139,106.68\n",
      "Final Fisk Objective: -2,137,417.05\n",
      "Improvement Fisk Objective: 0.08%\n",
      "Final gap: 2E-05. Acc. bound: 1E-04. Time: 120.0 [s]\n",
      "\n",
      "\n",
      "5: train_loss=4.6e+05,  val_loss=5.2e+05, train_loss tt=0.00048, val_loss tt=0.00047, train_loss flow=4.6e+05, val_loss flow=5.2e+05, train_loss bpr=0.0029, val_loss bpr=0.0027, theta = [-2.6793 -0.8666  0.     -2.7804  0.     -2.4556], vot = nan, psc_factor = 0.0, avg abs theta fixed effect = 0, avg alpha = 0.15, avg beta = 4, avg abs diff demand =7.9, time:  204.6\n",
      "val generalization error =0.41, \n",
      "\n",
      "Epoch: 6, n_train: 23, n_test: 22\n",
      "\n",
      "SUE via fw (max iters: 100)\n",
      "\n",
      "Equilibrium gaps: ['6E-05']\n",
      "Initial Fisk Objective: -2,201,024.22\n",
      "Final Fisk Objective: -2,198,092.74\n",
      "Improvement Fisk Objective: 0.13%\n",
      "Final gap: 6E-05. Acc. bound: 1E-04. Time: 115.2 [s]\n",
      "\n",
      "\n",
      "6: train_loss=4.4e+05,  val_loss=5.2e+05, train_loss tt=0.00066, val_loss tt=0.00064, train_loss flow=4.4e+05, val_loss flow=5.2e+05, train_loss bpr=0.0029, val_loss bpr=0.0027, theta = [-2.7901 -0.5586  0.     -2.7935  0.     -2.5762], vot = nan, psc_factor = 0.0, avg abs theta fixed effect = 0, avg alpha = 0.15, avg beta = 4, avg abs diff demand =8.5, time:  201.7\n",
      "val generalization error =0.44, \n",
      "\n",
      "Epoch: 7, n_train: 23, n_test: 22\n",
      "\n",
      "SUE via fw (max iters: 100)\n",
      "\n",
      "Equilibrium gaps: ['3E-05']\n",
      "Initial Fisk Objective: -2,122,598.64\n",
      "Final Fisk Objective: -2,120,099.9\n",
      "Improvement Fisk Objective: 0.12%\n",
      "Final gap: 3E-05. Acc. bound: 1E-04. Time: 110.0 [s]\n",
      "\n",
      "\n",
      "7: train_loss=4.3e+05,  val_loss=4.9e+05, train_loss tt=0.00048, val_loss tt=0.00048, train_loss flow=4.3e+05, val_loss flow=4.9e+05, train_loss bpr=0.0029, val_loss bpr=0.0027, theta = [-2.8992 -0.2916  0.     -2.8172  0.     -2.6505], vot = nan, psc_factor = 0.0, avg abs theta fixed effect = 0, avg alpha = 0.15, avg beta = 4, avg abs diff demand =8.5, time:  197.9\n",
      "val generalization error =0.41, \n",
      "\n",
      "Epoch: 8, n_train: 23, n_test: 22\n",
      "\n",
      "SUE via fw (max iters: 100)\n",
      "\n",
      "Equilibrium gaps: ['7E-05']\n",
      "Initial Fisk Objective: -2,137,829.37\n",
      "Final Fisk Objective: -2,133,180.09\n",
      "Improvement Fisk Objective: 0.22%\n",
      "Final gap: 7E-05. Acc. bound: 1E-04. Time: 110.2 [s]\n",
      "\n",
      "\n",
      "8: train_loss=4.2e+05,  val_loss=4.9e+05, train_loss tt=0.00056, val_loss tt=0.00054, train_loss flow=4.2e+05, val_loss flow=4.9e+05, train_loss bpr=0.0029, val_loss bpr=0.0027, theta = [-3.0031 -0.2414  0.     -2.7874  0.     -2.7292], vot = nan, psc_factor = 0.0, avg abs theta fixed effect = 0, avg alpha = 0.15, avg beta = 4, avg abs diff demand =8.7, time:  199.7\n",
      "val generalization error =0.42, \n",
      "\n",
      "Epoch: 9, n_train: 23, n_test: 22\n",
      "\n",
      "SUE via fw (max iters: 100)\n",
      "\n",
      "Equilibrium gaps: ['3E-04', '0E+00']\n",
      "Initial Fisk Objective: -2,145,450.45\n",
      "Final Fisk Objective: -2,136,578.49\n",
      "Improvement Fisk Objective: 0.41%\n",
      "Final gap: 0E+00. Acc. bound: 1E-04. Time: 146.1 [s]\n",
      "\n",
      "\n",
      "9: train_loss=4.2e+05,  val_loss=4.9e+05, train_loss tt=0.00079, val_loss tt=0.00076, train_loss flow=4.2e+05, val_loss flow=4.9e+05, train_loss bpr=0.0029, val_loss bpr=0.0027, theta = [-3.0902 -0.2563  0.     -2.737   0.     -2.8243], vot = nan, psc_factor = 0.0, avg abs theta fixed effect = 0, avg alpha = 0.15, avg beta = 4, avg abs diff demand =8.8, time:  232.4\n",
      "val generalization error =0.43, \n",
      "\n",
      "Epoch: 10, n_train: 23, n_test: 22\n",
      "\n",
      "SUE via fw (max iters: 100)\n",
      "\n",
      "Equilibrium gaps: ['1E-04', '5E-07']\n",
      "Initial Fisk Objective: -2,137,171.78\n",
      "Final Fisk Objective: -2,128,802.2\n",
      "Improvement Fisk Objective: 0.39%\n",
      "Final gap: 5E-07. Acc. bound: 1E-04. Time: 143.1 [s]\n",
      "\n",
      "\n",
      "10: train_loss=4.1e+05,  val_loss=4.8e+05, train_loss tt=0.00058, val_loss tt=0.00055, train_loss flow=4.1e+05, val_loss flow=4.8e+05, train_loss bpr=0.0029, val_loss bpr=0.0027, theta = [-3.1809 -0.3265  0.     -2.7146  0.     -2.8772], vot = nan, psc_factor = 0.0, avg abs theta fixed effect = 0, avg alpha = 0.15, avg beta = 4, avg abs diff demand =8.9, time:  231.6\n",
      "val generalization error =0.42, \n"
     ]
    },
    {
     "name": "stderr",
     "output_type": "stream",
     "text": [
      "/Users/pabloguarda/GitHub/aesuelogit/src/aesuelogit/visualizations.py:65: UserWarning: Matplotlib is currently using module://matplotlib_inline.backend_inline, which is a non-GUI backend, so cannot show the figure.\n",
      "  fig.show()\n"
     ]
    },
    {
     "name": "stdout",
     "output_type": "stream",
     "text": [
      "theta = {'tt': -3.2752591391163475, 'speed_sd': -0.37639985597419784, 'median_inc': 0.0, 'incidents': -2.6762134399341697, 'bus_stops': 0.0, 'intersections': -2.920184204292795}\n",
      "alpha =  0.15, beta  =  4.00\n",
      "Avg abs diff of observed and estimated OD:  8.98\n"
     ]
    },
    {
     "data": {
      "image/png": "[encoded data removed]",
      "text/plain": [
       "<Figure size 432x288 with 1 Axes>"
      ]
     },
     "metadata": {
      "needs_background": "light"
     },
     "output_type": "display_data"
    }
   ],
   "source": [
    "if models['m2']:\n",
    "    print('\\nmodel 2: OD + utility estimation with historic OD')\n",
    "    \n",
    "    # optimizer = tf.keras.optimizers.Adagrad(learning_rate=_LR)\n",
    "    optimizer = tf.keras.optimizers.Adam(learning_rate=_LR)\n",
    "\n",
    "    bpr_parameters = BPRParameters(keys=['alpha', 'beta'],\n",
    "                                   initial_values={'alpha': 0.15, 'beta': 4},\n",
    "                                   trainables=dict.fromkeys(['alpha', 'beta'], False),\n",
    "                                   )\n",
    "\n",
    "    od_parameters = ODParameters(key='od',\n",
    "                                 periods=1,\n",
    "                                 initial_values=fresno_network.q.flatten(),\n",
    "                                 historic_values={1: fresno_network.q.flatten()},\n",
    "                                 trainable=True)\n",
    "\n",
    "    model_2 = AESUELOGIT(\n",
    "        key='model_2',\n",
    "        network=fresno_network,\n",
    "        dtype=tf.float64,\n",
    "        equilibrator=equilibrator,\n",
    "        column_generator=column_generator,\n",
    "        utility=utility_parameters,\n",
    "        bpr=bpr_parameters,\n",
    "        od=od_parameters,\n",
    "    )\n",
    "\n",
    "    train_losses_dfs['model_2'], val_losses_dfs['model_2'] = model_2.train(\n",
    "        X_train, Y_train, X_val, Y_val,\n",
    "        optimizer=optimizer,\n",
    "        generalization_error={'train': False, 'validation': True},\n",
    "        batch_size=_BATCH_SIZE,\n",
    "        loss_weights={'od': 1, 'theta': 0, 'tt': 1, 'flow': 1, 'bpr': 0},\n",
    "        epochs=_EPOCHS)\n",
    "\n",
    "    plot_predictive_performance(train_losses=train_losses_dfs['model_2'], val_losses=val_losses_dfs['model_2'])\n",
    "    \n",
    "    plt.show()\n",
    "\n",
    "    print(f\"theta = {dict(zip(utility_parameters.true_values.keys(), list(model_2.theta.numpy())))}\")\n",
    "    print(f\"alpha = {model_2.alpha: 0.2f}, beta  = {model_2.beta: 0.2f}\")\n",
    "    print(f\"Avg abs diff of observed and estimated OD: {np.mean(np.abs(model_2.q - fresno_network.q.flatten())): 0.2f}\")"
   ]
  },
  {
   "cell_type": "markdown",
   "metadata": {
    "pycharm": {
     "name": "#%% md\n"
    }
   },
   "source": [
    "### Model 3: ODLUE + link performance parameters without historic OD matrix"
   ]
  },
  {
   "cell_type": "code",
   "execution_count": 25,
   "metadata": {
    "pycharm": {
     "name": "#%%\n"
    }
   },
   "outputs": [
    {
     "name": "stdout",
     "output_type": "stream",
     "text": [
      "\n",
      "model 3: ODLUE + link performance parameters without historic OD matrix\n",
      "\n",
      "Epoch: 0, n_train: 23, n_test: 22\n",
      "\n",
      "SUE via fw (max iters: 100)\n",
      "\n",
      "Equilibrium gaps: ['0E+00']\n",
      "Initial Fisk Objective: -152,811.47\n",
      "Final Fisk Objective: -152,811.47\n",
      "Improvement Fisk Objective: 0.00%\n",
      "Final gap: 0E+00. Acc. bound: 1E-04. Time: 79.8 [s]\n",
      "\n",
      "\n",
      "0: train_loss=2.3e+06,  val_loss=2.4e+06, train_loss tt=0.0002, val_loss tt=0.0002, train_loss flow=2.3e+06, val_loss flow=2.4e+06, train_loss bpr=0.00069, val_loss bpr=0.00063, theta = [0. 0. 0. 0. 0. 0.], vot = nan, psc_factor = 0.0, avg abs theta fixed effect = 0, avg alpha = 0.15, avg beta = 1, avg abs diff demand =8e-16, time:  108.5\n",
      "val generalization error =0.86, \n",
      "\n",
      "Epoch: 1, n_train: 23, n_test: 22\n",
      "\n",
      "SUE via fw (max iters: 100)\n",
      "\n",
      "Equilibrium gaps: ['0E+00']\n",
      "Initial Fisk Objective: -1,623,088.64\n",
      "Final Fisk Objective: -1,623,088.64\n",
      "Improvement Fisk Objective: 0.00%\n",
      "Final gap: 0E+00. Acc. bound: 1E-04. Time: 84.9 [s]\n",
      "\n",
      "\n",
      "1: train_loss=7.5e+05,  val_loss=7.9e+05, train_loss tt=8.1e-07, val_loss tt=8.1e-07, train_loss flow=7.5e+05, val_loss flow=7.9e+05, train_loss bpr=5.4e-06, val_loss bpr=4.9e-06, theta = [-1.8915 -1.703   0.     -2.0002  0.     -1.6835], vot = nan, psc_factor = 0.0, avg abs theta fixed effect = 0, avg alpha = 0.013, avg beta = 1, avg abs diff demand =5.5, time:  172.4\n",
      "val generalization error =0.52, \n",
      "\n",
      "Epoch: 2, n_train: 23, n_test: 22\n",
      "\n",
      "SUE via fw (max iters: 100)\n",
      "\n",
      "Equilibrium gaps: ['0E+00']\n",
      "Initial Fisk Objective: -2,534,902.98\n",
      "Final Fisk Objective: -2,534,902.98\n",
      "Improvement Fisk Objective: 0.00%\n",
      "Final gap: 0E+00. Acc. bound: 1E-04. Time: 85.2 [s]\n",
      "\n",
      "\n",
      "2: train_loss=5.5e+05,  val_loss=6e+05, train_loss tt=5.3e-08, val_loss tt=5.3e-08, train_loss flow=5.5e+05, val_loss flow=6e+05, train_loss bpr=2.7e-07, val_loss bpr=2.5e-07, theta = [-2.8621 -2.1399  0.     -3.1335  0.     -2.4759], vot = nan, psc_factor = 0.0, avg abs theta fixed effect = 0, avg alpha = 0.003, avg beta = 1, avg abs diff demand =7.8, time:  181.4\n",
      "val generalization error =0.44, \n",
      "\n",
      "Epoch: 3, n_train: 23, n_test: 22\n",
      "\n",
      "SUE via fw (max iters: 100)\n",
      "\n",
      "Equilibrium gaps: ['0E+00']\n",
      "Initial Fisk Objective: -3,065,605.39\n",
      "Final Fisk Objective: -3,065,605.39\n",
      "Improvement Fisk Objective: 0.00%\n",
      "Final gap: 0E+00. Acc. bound: 1E-04. Time: 80.5 [s]\n",
      "\n",
      "\n",
      "3: train_loss=4.8e+05,  val_loss=5.5e+05, train_loss tt=1e-08, val_loss tt=1e-08, train_loss flow=4.8e+05, val_loss flow=5.5e+05, train_loss bpr=5.1e-08, val_loss bpr=4.7e-08, theta = [-3.4375 -2.0035  0.     -3.7129  0.     -2.9766], vot = nan, psc_factor = 0.0, avg abs theta fixed effect = 0, avg alpha = 0.0013, avg beta = 1, avg abs diff demand =9, time:  165.5\n",
      "val generalization error =0.47, \n",
      "\n",
      "Epoch: 4, n_train: 23, n_test: 22\n",
      "\n",
      "SUE via fw (max iters: 100)\n",
      "\n",
      "Equilibrium gaps: ['0E+00']\n",
      "Initial Fisk Objective: -3,249,088.22\n",
      "Final Fisk Objective: -3,249,088.22\n",
      "Improvement Fisk Objective: 0.00%\n",
      "Final gap: 0E+00. Acc. bound: 1E-04. Time: 83.5 [s]\n",
      "\n",
      "\n",
      "4: train_loss=4.4e+05,  val_loss=5.2e+05, train_loss tt=4.1e-09, val_loss tt=4.1e-09, train_loss flow=4.4e+05, val_loss flow=5.2e+05, train_loss bpr=2e-08, val_loss bpr=1.9e-08, theta = [-3.7811 -1.5711  0.     -4.0416  0.     -3.3208], vot = nan, psc_factor = 0.0, avg abs theta fixed effect = 0, avg alpha = 0.00082, avg beta = 1, avg abs diff demand =9.7, time:  168.4\n",
      "val generalization error =0.47, \n",
      "\n",
      "Epoch: 5, n_train: 23, n_test: 22\n",
      "\n",
      "SUE via fw (max iters: 100)\n",
      "\n",
      "Equilibrium gaps: ['0E+00']\n",
      "Initial Fisk Objective: -3,310,086.79\n",
      "Final Fisk Objective: -3,310,086.79\n",
      "Improvement Fisk Objective: 0.00%\n",
      "Final gap: 0E+00. Acc. bound: 1E-04. Time: 82.2 [s]\n",
      "\n",
      "\n",
      "5: train_loss=4.3e+05,  val_loss=5e+05, train_loss tt=2.5e-09, val_loss tt=2.5e-09, train_loss flow=4.3e+05, val_loss flow=5e+05, train_loss bpr=1.2e-08, val_loss bpr=1.1e-08, theta = [-4.0403 -1.1692  0.     -4.224   0.     -3.5128], vot = nan, psc_factor = 0.0, avg abs theta fixed effect = 0, avg alpha = 0.00063, avg beta = 1, avg abs diff demand =10, time:  166.6\n",
      "val generalization error =0.45, \n",
      "\n",
      "Epoch: 6, n_train: 23, n_test: 22\n",
      "\n",
      "SUE via fw (max iters: 100)\n",
      "\n",
      "Equilibrium gaps: ['0E+00']\n",
      "Initial Fisk Objective: -3,369,675.44\n",
      "Final Fisk Objective: -3,369,675.44\n",
      "Improvement Fisk Objective: 0.00%\n",
      "Final gap: 0E+00. Acc. bound: 1E-04. Time: 82.5 [s]\n",
      "\n",
      "\n",
      "6: train_loss=4.2e+05,  val_loss=4.9e+05, train_loss tt=2e-09, val_loss tt=2e-09, train_loss flow=4.2e+05, val_loss flow=4.9e+05, train_loss bpr=9.3e-09, val_loss bpr=8.6e-09, theta = [-4.2443 -0.9436  0.     -4.2476  0.     -3.6655], vot = nan, psc_factor = 0.0, avg abs theta fixed effect = 0, avg alpha = 0.00055, avg beta = 1, avg abs diff demand =11, time:  168.8\n",
      "val generalization error =0.48, \n",
      "\n",
      "Epoch: 7, n_train: 23, n_test: 22\n",
      "\n",
      "SUE via fw (max iters: 100)\n",
      "\n",
      "Equilibrium gaps: ['0E+00']\n",
      "Initial Fisk Objective: -3,243,628.2\n",
      "Final Fisk Objective: -3,243,628.2\n",
      "Improvement Fisk Objective: 0.00%\n",
      "Final gap: 0E+00. Acc. bound: 1E-04. Time: 83.5 [s]\n",
      "\n",
      "\n",
      "7: train_loss=4.1e+05,  val_loss=4.8e+05, train_loss tt=1.7e-09, val_loss tt=1.7e-09, train_loss flow=4.1e+05, val_loss flow=4.8e+05, train_loss bpr=8e-09, val_loss bpr=7.3e-09, theta = [-4.4005 -0.7529  0.     -4.1968  0.     -3.8068], vot = nan, psc_factor = 0.0, avg abs theta fixed effect = 0, avg alpha = 0.00051, avg beta = 1, avg abs diff demand =11, time:  172.9\n",
      "val generalization error =0.47, \n",
      "\n",
      "Epoch: 8, n_train: 23, n_test: 22\n",
      "\n",
      "SUE via fw (max iters: 100)\n",
      "\n",
      "Equilibrium gaps: ['0E+00']\n",
      "Initial Fisk Objective: -3,341,955.64\n",
      "Final Fisk Objective: -3,341,955.64\n",
      "Improvement Fisk Objective: 0.00%\n",
      "Final gap: 0E+00. Acc. bound: 1E-04. Time: 87.8 [s]\n",
      "\n",
      "\n",
      "8: train_loss=4.1e+05,  val_loss=4.8e+05, train_loss tt=1.7e-09, val_loss tt=1.7e-09, train_loss flow=4.1e+05, val_loss flow=4.8e+05, train_loss bpr=7.3e-09, val_loss bpr=6.8e-09, theta = [-4.5486 -0.6832  0.     -4.1351  0.     -3.8783], vot = nan, psc_factor = 0.0, avg abs theta fixed effect = 0, avg alpha = 0.00049, avg beta = 1, avg abs diff demand =11, time:  183.7\n",
      "val generalization error =0.52, \n",
      "\n",
      "Epoch: 9, n_train: 23, n_test: 22\n",
      "\n",
      "SUE via fw (max iters: 100)\n",
      "\n",
      "Equilibrium gaps: ['0E+00']\n",
      "Initial Fisk Objective: -3,323,703.54\n",
      "Final Fisk Objective: -3,323,703.54\n",
      "Improvement Fisk Objective: 0.00%\n",
      "Final gap: 0E+00. Acc. bound: 1E-04. Time: 80.0 [s]\n",
      "\n",
      "\n",
      "9: train_loss=4e+05,  val_loss=4.7e+05, train_loss tt=1.6e-09, val_loss tt=1.6e-09, train_loss flow=4e+05, val_loss flow=4.7e+05, train_loss bpr=7e-09, val_loss bpr=6.4e-09, theta = [-4.664  -0.6164  0.     -4.0738  0.     -3.9324], vot = nan, psc_factor = 0.0, avg abs theta fixed effect = 0, avg alpha = 0.00048, avg beta = 1, avg abs diff demand =11, time:  165.6\n",
      "val generalization error =0.54, \n",
      "\n",
      "Epoch: 10, n_train: 23, n_test: 22\n",
      "\n",
      "SUE via fw (max iters: 100)\n",
      "\n",
      "Equilibrium gaps: ['0E+00']\n",
      "Initial Fisk Objective: -3,207,376.27\n",
      "Final Fisk Objective: -3,207,376.27\n",
      "Improvement Fisk Objective: 0.00%\n",
      "Final gap: 0E+00. Acc. bound: 1E-04. Time: 79.4 [s]\n",
      "\n",
      "\n",
      "10: train_loss=4.1e+05,  val_loss=4.7e+05, train_loss tt=1.5e-09, val_loss tt=1.5e-09, train_loss flow=4.1e+05, val_loss flow=4.7e+05, train_loss bpr=6.8e-09, val_loss bpr=6.3e-09, theta = [-4.7356 -0.542   0.     -4.0542  0.     -3.9853], vot = nan, psc_factor = 0.0, avg abs theta fixed effect = 0, avg alpha = 0.00047, avg beta = 1, avg abs diff demand =11, time:  163.4\n",
      "val generalization error =0.51, \n"
     ]
    },
    {
     "name": "stderr",
     "output_type": "stream",
     "text": [
      "/Users/pabloguarda/GitHub/aesuelogit/src/aesuelogit/visualizations.py:65: UserWarning: Matplotlib is currently using module://matplotlib_inline.backend_inline, which is a non-GUI backend, so cannot show the figure.\n",
      "  fig.show()\n"
     ]
    },
    {
     "name": "stdout",
     "output_type": "stream",
     "text": [
      "theta = {'tt': -4.804940902192045, 'speed_sd': -0.5578203373182022, 'median_inc': 0.0, 'incidents': -4.009731437414267, 'bus_stops': 0.0, 'intersections': -4.026924151396852}\n",
      "alpha =  0.00, beta  =  1.00\n",
      "Avg abs diff of observed and estimated OD:  11.39\n"
     ]
    },
    {
     "data": {
      "image/png": "[encoded data removed]",
      "text/plain": [
       "<Figure size 432x288 with 1 Axes>"
      ]
     },
     "metadata": {
      "needs_background": "light"
     },
     "output_type": "display_data"
    }
   ],
   "source": [
    "if models['m3']:\n",
    "\n",
    "    print('\\nmodel 3: ODLUE + link performance parameters without historic OD matrix')\n",
    "\n",
    "    bpr_parameters = BPRParameters(keys=['alpha', 'beta'],\n",
    "                                   initial_values={'alpha': 0.15, 'beta': 1},\n",
    "                                   # initial_values={'alpha': 0.15, 'beta': 4},\n",
    "                                   trainables={'alpha': True, 'beta':True},\n",
    "                                   )\n",
    "\n",
    "    od_parameters = ODParameters(key='od',\n",
    "                                 periods=1,\n",
    "                                 initial_values=fresno_network.q.flatten(),\n",
    "                                 # historic_values={1: fresno_network.q.flatten()},\n",
    "                                 trainable=True)\n",
    "\n",
    "    model_3 = AESUELOGIT(\n",
    "        key='model_3',\n",
    "        network=fresno_network,\n",
    "        dtype=tf.float64,\n",
    "        equilibrator=equilibrator,\n",
    "        column_generator=column_generator,\n",
    "        utility=utility_parameters,\n",
    "        bpr=bpr_parameters,\n",
    "        od=od_parameters,\n",
    "    )\n",
    "\n",
    "    train_losses_dfs['model_3'], val_losses_dfs['model_3'] = model_3.train(\n",
    "        X_train, Y_train, X_val, Y_val,\n",
    "        optimizer=optimizer,\n",
    "        generalization_error={'train': False, 'validation': True},\n",
    "        batch_size=_BATCH_SIZE,\n",
    "        loss_weights={'od': 0, 'theta': 0, 'tt': 1, 'flow': 1, 'bpr': 0},\n",
    "        epochs=_EPOCHS)\n",
    "\n",
    "    plot_predictive_performance(train_losses=train_losses_dfs['model_3'], val_losses=val_losses_dfs['model_3'])\n",
    "    \n",
    "    plt.show()\n",
    "\n",
    "    print(f\"theta = {dict(zip(utility_parameters.true_values.keys(), list(model_3.theta.numpy())))}\")\n",
    "    print(f\"alpha = {model_3.alpha: 0.2f}, beta  = {model_3.beta: 0.2f}\")\n",
    "    print(f\"Avg abs diff of observed and estimated OD: {np.mean(np.abs(model_3.q - fresno_network.q.flatten())): 0.2f}\")"
   ]
  },
  {
   "cell_type": "markdown",
   "metadata": {
    "pycharm": {
     "name": "#%% md\n"
    }
   },
   "source": [
    "### Model 4: Time specific utility and OD, link performance parameters, no historic OD"
   ]
  },
  {
   "cell_type": "code",
   "execution_count": 26,
   "metadata": {
    "pycharm": {
     "name": "#%%\n"
    }
   },
   "outputs": [
    {
     "name": "stdout",
     "output_type": "stream",
     "text": [
      "\n",
      "model 4: Time specific utility and OD, link performance parameters, no historic OD\n",
      "\n",
      "Epoch: 0, n_train: 23, n_test: 22\n",
      "0: train_loss=2.3e+06,  val_loss=2.4e+06, train_loss tt=0.013, val_loss tt=0.013, train_loss flow=2.3e+06, val_loss flow=2.4e+06, train_loss bpr=0.0029, val_loss bpr=0.0027, theta = [[0. 0. 0. 0. 0. 0.]\n",
      " [0. 0. 0. 0. 0. 0.]\n",
      " [0. 0. 0. 0. 0. 0.]], vot = nan, psc_factor = 0.0, avg abs theta fixed effect = 0, avg alpha = 0.15, avg beta = 4, avg abs diff demand =8e-16, time:  22.3\n",
      "\n",
      "Epoch: 1, n_train: 23, n_test: 22\n",
      "1: train_loss=8.3e+05,  val_loss=9e+05, train_loss tt=1.3e-05, val_loss tt=1.2e-05, train_loss flow=8.3e+05, val_loss flow=9e+05, train_loss bpr=1.4e-05, val_loss bpr=1.3e-05, theta = [[-2.5166 -2.7298  0.     -2.5438  0.     -2.2564]\n",
      " [-2.5216 -2.619   0.     -2.666   0.     -2.266 ]\n",
      " [-2.4838 -2.4551  0.     -2.6491  0.     -2.3201]], vot = nan, psc_factor = 0.0, avg abs theta fixed effect = 0, avg alpha = 0.01, avg beta = 4, avg abs diff demand =6.6, time:  86.0\n",
      "\n",
      "Epoch: 2, n_train: 23, n_test: 22\n",
      "2: train_loss=5.6e+05,  val_loss=6.2e+05, train_loss tt=2.6e-07, val_loss tt=2.3e-07, train_loss flow=5.6e+05, val_loss flow=6.2e+05, train_loss bpr=7.1e-07, val_loss bpr=6.7e-07, theta = [[-3.815  -3.9359  0.     -3.9437  0.     -3.4006]\n",
      " [-3.8304 -3.6819  0.     -4.248   0.     -3.3866]\n",
      " [-3.7921 -3.1508  0.     -4.1378  0.     -3.4839]], vot = nan, psc_factor = 0.0, avg abs theta fixed effect = 0, avg alpha = 0.0024, avg beta = 4, avg abs diff demand =9, time:  82.1\n",
      "\n",
      "Epoch: 3, n_train: 23, n_test: 22\n",
      "3: train_loss=4.7e+05,  val_loss=5.4e+05, train_loss tt=3.8e-08, val_loss tt=3.5e-08, train_loss flow=4.7e+05, val_loss flow=5.4e+05, train_loss bpr=1.4e-07, val_loss bpr=1.3e-07, theta = [[-4.576  -4.3187  0.     -4.6927  0.     -4.1374]\n",
      " [-4.6247 -3.9962  0.     -5.1146  0.     -4.0344]\n",
      " [-4.5532 -3.0051  0.     -4.9375  0.     -4.2296]], vot = nan, psc_factor = 0.0, avg abs theta fixed effect = 0, avg alpha = 0.0011, avg beta = 4, avg abs diff demand =9.8, time:  83.6\n",
      "\n",
      "Epoch: 4, n_train: 23, n_test: 22\n",
      "4: train_loss=4.5e+05,  val_loss=5.3e+05, train_loss tt=1.4e-08, val_loss tt=1.3e-08, train_loss flow=4.5e+05, val_loss flow=5.3e+05, train_loss bpr=6e-08, val_loss bpr=5.6e-08, theta = [[-5.0477 -4.3731  0.     -5.0677  0.     -4.6273]\n",
      " [-5.1075 -3.9498  0.     -5.5937  0.     -4.4838]\n",
      " [-5.0314 -2.6759  0.     -5.3881  0.     -4.6489]], vot = nan, psc_factor = 0.0, avg abs theta fixed effect = 0, avg alpha = 0.00068, avg beta = 4, avg abs diff demand =11, time:  80.8\n",
      "\n",
      "Epoch: 5, n_train: 23, n_test: 22\n",
      "5: train_loss=4.6e+05,  val_loss=5.6e+05, train_loss tt=2.1e-08, val_loss tt=1.9e-08, train_loss flow=4.6e+05, val_loss flow=5.6e+05, train_loss bpr=3.8e-08, val_loss bpr=3.5e-08, theta = [[-5.3778 -4.3749  0.     -5.1938  0.     -4.9422]\n",
      " [-5.4757 -3.6794  0.     -5.8216  0.     -4.8066]\n",
      " [-5.3723 -2.3984  0.     -5.5781  0.     -4.8934]], vot = nan, psc_factor = 0.0, avg abs theta fixed effect = 0, avg alpha = 0.00054, avg beta = 4, avg abs diff demand =12, time:  89.5\n",
      "\n",
      "Epoch: 6, n_train: 23, n_test: 22\n",
      "6: train_loss=4.3e+05,  val_loss=5e+05, train_loss tt=1.1e-08, val_loss tt=9.9e-09, train_loss flow=4.3e+05, val_loss flow=5e+05, train_loss bpr=2.9e-08, val_loss bpr=2.7e-08, theta = [[-5.5903 -4.2907  0.     -5.1912  0.     -5.2211]\n",
      " [-5.7338 -3.4652  0.     -5.9127  0.     -5.0103]\n",
      " [-5.6126 -2.2478  0.     -5.5601  0.     -5.1028]], vot = nan, psc_factor = 0.0, avg abs theta fixed effect = 0, avg alpha = 0.00048, avg beta = 4, avg abs diff demand =11, time:  90.4\n",
      "\n",
      "Epoch: 7, n_train: 23, n_test: 22\n",
      "7: train_loss=4.2e+05,  val_loss=4.9e+05, train_loss tt=1.4e-08, val_loss tt=1.3e-08, train_loss flow=4.2e+05, val_loss flow=4.9e+05, train_loss bpr=2.5e-08, val_loss bpr=2.4e-08, theta = [[-5.7749 -4.2532  0.     -5.0978  0.     -5.4031]\n",
      " [-5.9291 -3.3037  0.     -5.8714  0.     -5.1975]\n",
      " [-5.7922 -2.1898  0.     -5.5256  0.     -5.2163]], vot = nan, psc_factor = 0.0, avg abs theta fixed effect = 0, avg alpha = 0.00044, avg beta = 4, avg abs diff demand =12, time:  86.4\n",
      "\n",
      "Epoch: 8, n_train: 23, n_test: 22\n",
      "8: train_loss=4.2e+05,  val_loss=5.1e+05, train_loss tt=1.5e-08, val_loss tt=1.4e-08, train_loss flow=4.2e+05, val_loss flow=5.1e+05, train_loss bpr=2.3e-08, val_loss bpr=2.2e-08, theta = [[-5.8891 -4.265   0.     -4.9623  0.     -5.5487]\n",
      " [-6.0866 -3.1392  0.     -5.8307  0.     -5.3053]\n",
      " [-5.9251 -2.1339  0.     -5.4808  0.     -5.2838]], vot = nan, psc_factor = 0.0, avg abs theta fixed effect = 0, avg alpha = 0.00043, avg beta = 4, avg abs diff demand =12, time:  88.1\n",
      "\n",
      "Epoch: 9, n_train: 23, n_test: 22\n",
      "9: train_loss=4.1e+05,  val_loss=4.9e+05, train_loss tt=1.7e-08, val_loss tt=1.5e-08, train_loss flow=4.1e+05, val_loss flow=4.9e+05, train_loss bpr=2.3e-08, val_loss bpr=2.1e-08, theta = [[-5.9752 -4.2312  0.     -4.8646  0.     -5.6624]\n",
      " [-6.1815 -3.0169  0.     -5.7879  0.     -5.3915]\n",
      " [-6.0179 -2.1155  0.     -5.4064  0.     -5.3632]], vot = nan, psc_factor = 0.0, avg abs theta fixed effect = 0, avg alpha = 0.00042, avg beta = 4, avg abs diff demand =12, time:  80.5\n",
      "\n",
      "Epoch: 10, n_train: 23, n_test: 22\n",
      "10: train_loss=4.1e+05,  val_loss=4.8e+05, train_loss tt=1.8e-08, val_loss tt=1.5e-08, train_loss flow=4.1e+05, val_loss flow=4.8e+05, train_loss bpr=2.2e-08, val_loss bpr=2.1e-08, theta = [[-6.0216 -4.1569  0.     -4.8265  0.     -5.7515]\n",
      " [-6.2569 -2.867   0.     -5.7602  0.     -5.4628]\n",
      " [-6.0843 -2.0833  0.     -5.2979  0.     -5.4561]], vot = nan, psc_factor = 0.0, avg abs theta fixed effect = 0, avg alpha = 0.00041, avg beta = 4, avg abs diff demand =12, time:  80.5\n"
     ]
    },
    {
     "name": "stderr",
     "output_type": "stream",
     "text": [
      "/Users/pabloguarda/GitHub/aesuelogit/src/aesuelogit/visualizations.py:65: UserWarning: Matplotlib is currently using module://matplotlib_inline.backend_inline, which is a non-GUI backend, so cannot show the figure.\n",
      "  fig.show()\n"
     ]
    },
    {
     "name": "stdout",
     "output_type": "stream",
     "text": [
      "features = ['tt', 'speed_sd', 'median_inc', 'incidents', 'bus_stops', 'intersections']\n",
      "theta = [[-6.072  -4.182   0.     -4.698   0.     -5.8283]\n",
      " [-6.3109 -2.7663  0.     -5.6591  0.     -5.5655]\n",
      " [-6.1376 -1.9529  0.     -5.3152  0.     -5.4688]]\n",
      "alpha =  0.00, beta  =  4.00\n",
      "Avg abs diff of observed and estimated OD:  12.38\n"
     ]
    },
    {
     "data": {
      "image/png": "[encoded data removed]",
      "text/plain": [
       "<Figure size 432x288 with 1 Axes>"
      ]
     },
     "metadata": {
      "needs_background": "light"
     },
     "output_type": "display_data"
    }
   ],
   "source": [
    "if models['m4']:\n",
    "    print('\\nmodel 4: Time specific utility and OD, link performance parameters, no historic OD')\n",
    "\n",
    "    utility_parameters = UtilityParameters(features_Y=['tt'],\n",
    "                                           features_Z=features_Z,\n",
    "                                           periods=3,\n",
    "                                           initial_values={'tt': 0, 'c': 0, 's': 0, 'psc_factor': 0,\n",
    "                                                           'fixed_effect': np.zeros_like(fresno_network.links)},\n",
    "                                           signs={'tt': '-', 'speed_sd': '-', 'median_inc': '+', 'incidents': '-',\n",
    "                                                  'bus_stops': '-', 'intersections': '-'},\n",
    "                                           trainables={'psc_factor': False, 'fixed_effect': False},\n",
    "                                           )\n",
    "\n",
    "    bpr_parameters = BPRParameters(keys=['alpha', 'beta'],\n",
    "                                   initial_values={'alpha': 0.15, 'beta': 4},\n",
    "                                   # initial_values={'alpha': 0.1, 'beta': 1},\n",
    "                                   trainables={'alpha': True, 'beta': False},\n",
    "                                   # trainables=dict.fromkeys(['alpha', 'beta'], False),\n",
    "                                   )\n",
    "\n",
    "    od_parameters = ODParameters(key='od',\n",
    "                                 periods=3,\n",
    "                                 initial_values=fresno_network.q.flatten(),\n",
    "                                 trainable=True)\n",
    "\n",
    "    model_4 = AESUELOGIT(\n",
    "        key='model_4',\n",
    "        network=fresno_network,\n",
    "        dtype=tf.float64,\n",
    "        equilibrator=equilibrator,\n",
    "        column_generator=column_generator,\n",
    "        utility=utility_parameters,\n",
    "        bpr=bpr_parameters,\n",
    "        od=od_parameters,\n",
    "    )\n",
    "\n",
    "    train_losses_dfs['model_4'], val_losses_dfs['model_4'] = model_4.train(\n",
    "        X_train, Y_train, X_val, Y_val,\n",
    "        optimizer=optimizer,\n",
    "        #generalization_error={'train': False, 'validation': True},\n",
    "        batch_size=_BATCH_SIZE,\n",
    "        loss_weights={'od': 0, 'theta': 0, 'tt': 1, 'flow': 1, 'bpr': 0},\n",
    "        epochs=_EPOCHS)\n",
    "\n",
    "    plot_predictive_performance(train_losses=train_losses_dfs['model_4'], val_losses=val_losses_dfs['model_4'])\n",
    "    \n",
    "    plt.show()\n",
    "\n",
    "    print(f\"features = {utility_parameters.features}\")\n",
    "    print(f\"theta = {model_4.theta.numpy()}\")\n",
    "    print(f\"alpha = {model_4.alpha: 0.2f}, beta  = {model_4.beta: 0.2f}\")\n",
    "    print(f\"Avg abs diff of observed and estimated OD: {np.mean(np.abs(model_4.q - fresno_network.q.flatten())): 0.2f}\")"
   ]
  },
  {
   "cell_type": "code",
   "execution_count": null,
   "metadata": {},
   "outputs": [],
   "source": []
  }
 ],
 "metadata": {
  "kernelspec": {
   "display_name": "aesuelogit-0GhO54mq-py3.8",
   "language": "python",
   "name": "aesuelogit-0gho54mq-py3.8"
  },
  "language_info": {
   "codemirror_mode": {
    "name": "ipython",
    "version": 3
   },
   "file_extension": ".py",
   "mimetype": "text/x-python",
   "name": "python",
   "nbconvert_exporter": "python",
   "pygments_lexer": "ipython3",
   "version": "3.8.13"
  }
 },
 "nbformat": 4,
 "nbformat_minor": 1
}
