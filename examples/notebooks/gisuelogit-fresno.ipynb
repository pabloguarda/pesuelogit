{
 "cells": [
  {
   "cell_type": "markdown",
   "metadata": {
    "collapsed": true
   },
   "source": [
    "## Setup"
   ]
  },
  {
   "cell_type": "code",
   "execution_count": 1,
   "metadata": {},
   "outputs": [],
   "source": [
    "import os\n",
    "from pathlib import Path\n",
    "from sklearn.model_selection import train_test_split\n",
    "from sklearn import preprocessing\n",
    "import matplotlib.pyplot as plt\n",
    "\n",
    "import numpy as np\n",
    "import pandas as pd\n",
    "import random\n",
    "# import cudf as pd\n",
    "import tensorflow as tf\n",
    "import isuelogit as isl\n",
    "import glob"
   ]
  },
  {
   "cell_type": "code",
   "execution_count": 2,
   "metadata": {},
   "outputs": [
    {
     "name": "stdout",
     "output_type": "stream",
     "text": [
      "main dir: /Users/pablo/Library/CloudStorage/OneDrive-Personal/data-science/github/gisuelogit\n"
     ]
    }
   ],
   "source": [
    "# Path management\n",
    "main_dir = str(Path(os.path.abspath('')).parents[1])\n",
    "os.chdir(main_dir)\n",
    "print('main dir:', main_dir)\n",
    "\n",
    "isl.config.dirs['read_network_data'] = \"input/network-data/fresno/\""
   ]
  },
  {
   "cell_type": "code",
   "execution_count": 3,
   "metadata": {},
   "outputs": [],
   "source": [
    "# Internal modules\n",
    "from src.aesuelogit.models import UtilityParameters, BPRParameters, ODParameters, GISUELOGIT, NGD\n",
    "from src.aesuelogit.visualizations import plot_predictive_performance\n",
    "from src.aesuelogit.networks import load_k_shortest_paths, read_paths, build_fresno_network, \\\n",
    "    Equilibrator, sparsify_OD, ColumnGenerator, read_OD\n",
    "from src.aesuelogit.etl import get_design_tensor, get_y_tensor, data_curation, temporal_split\n",
    "from src.aesuelogit.descriptive_statistics import mse, btcg_mse, mnrmse"
   ]
  },
  {
   "cell_type": "code",
   "execution_count": 4,
   "metadata": {},
   "outputs": [],
   "source": [
    "# Seed for reproducibility\n",
    "_SEED = 2022\n",
    "np.random.seed(_SEED)\n",
    "random.seed(_SEED)\n",
    "tf.random.set_seed(_SEED)"
   ]
  },
  {
   "cell_type": "markdown",
   "metadata": {},
   "source": [
    "## Build Fresno network"
   ]
  },
  {
   "cell_type": "code",
   "execution_count": 5,
   "metadata": {},
   "outputs": [],
   "source": [
    "fresno_network = build_fresno_network()"
   ]
  },
  {
   "cell_type": "markdown",
   "metadata": {},
   "source": [
    "## Read OD matrix"
   ]
  },
  {
   "cell_type": "code",
   "execution_count": 6,
   "metadata": {},
   "outputs": [
    {
     "name": "stdout",
     "output_type": "stream",
     "text": [
      "Matrix Q (1789, 1789) read in 0.0[s] with sparse format\n",
      "66266.3 trips were loaded among 6970 o-d pairs\n"
     ]
    }
   ],
   "source": [
    "read_OD(network=fresno_network, sparse=True)"
   ]
  },
  {
   "cell_type": "markdown",
   "metadata": {},
   "source": [
    "## Read paths"
   ]
  },
  {
   "cell_type": "code",
   "execution_count": 7,
   "metadata": {},
   "outputs": [
    {
     "name": "stdout",
     "output_type": "stream",
     "text": [
      "18289 paths were read in 18.9[s]              \n",
      "\n",
      "18289 paths were loaded in the network\n",
      "\n",
      "Updating incidence matrices\n",
      "\n",
      "Matrix D (2413, 18289) generated in 17.6[s]               \n",
      "\n",
      "Matrix M (6970, 18289) generated in 6.9[s]               \n",
      "\n",
      "Matrix C (18289, 18289) generated in 3.7[s]               \n",
      "\n"
     ]
    }
   ],
   "source": [
    "# read_paths(network=fresno_network, update_incidence_matrices=True, filename='paths-fresno.csv')\n",
    "read_paths(network=fresno_network, update_incidence_matrices=True, filename = 'paths-full-model-fresno.csv')\n",
    "\n",
    "# For quick testing\n",
    "# Q = fresno_network.load_OD(sparsify_OD(fresno_network.Q, prop_od_pairs=0.99))\n",
    "# load_k_shortest_paths(network=fresno_network, k=2, update_incidence_matrices=True)"
   ]
  },
  {
   "cell_type": "markdown",
   "metadata": {},
   "source": [
    "## Read spatiotemporal data"
   ]
  },
  {
   "cell_type": "code",
   "execution_count": 8,
   "metadata": {},
   "outputs": [],
   "source": [
    "folderpath = isl.config.dirs['read_network_data'] + 'links/spatiotemporal-data/'\n",
    "df = pd.concat([pd.read_csv(file) for file in glob.glob(folderpath + \"*fresno-link-data*\")], axis=0)\n",
    "\n",
    "df['date'] = pd.to_datetime(df['date'], format='%Y-%m-%d')\n",
    "df = df[df['date'].dt.dayofweek.between(0, 4)]\n",
    "# df = df[df['date'].dt.year == 2019]\n",
    "\n",
    "df['period'] = df['date'].astype(str) + '-' + df['hour'].astype(str)\n",
    "df['period'] = df.period.map(hash)"
   ]
  },
  {
   "cell_type": "markdown",
   "metadata": {},
   "source": [
    "## Data curation"
   ]
  },
  {
   "cell_type": "code",
   "execution_count": 9,
   "metadata": {},
   "outputs": [],
   "source": [
    "df['tt_ff'] = np.where(df['link_type'] != 'LWRLK', 0,df['length']/df['speed_ref_avg'])\n",
    "df.loc[(df.link_type == \"LWRLK\") & (df.speed_ref_avg == 0),'tt_ff'] = float('nan')\n",
    "\n",
    "df['tt_avg'] = np.where(df['link_type'] != 'LWRLK', 0,df['length']/df['speed_hist_avg'])\n",
    "df.loc[(df.link_type == \"LWRLK\") & (df.speed_hist_avg == 0),'tt_avg'] = float('nan')\n",
    "\n",
    "df = data_curation(df)"
   ]
  },
  {
   "cell_type": "markdown",
   "metadata": {},
   "source": [
    "## Utility function"
   ]
  },
  {
   "cell_type": "code",
   "execution_count": 10,
   "metadata": {},
   "outputs": [],
   "source": [
    "features_Z = ['speed_sd', 'median_inc', 'incidents', 'bus_stops', 'intersections']\n",
    "\n",
    "utility_parameters = UtilityParameters(features_Y=['tt'],\n",
    "                                       features_Z=features_Z,\n",
    "                                       periods = 1,\n",
    "                                       initial_values={'tt': 0, 'c': 0, 's': 0, 'psc_factor': 0,\n",
    "                                                       'fixed_effect': np.zeros_like(fresno_network.links)},\n",
    "                                       signs={'tt': '-', 'speed_sd': '-', 'median_inc': '+', 'incidents': '-',\n",
    "                                              'bus_stops': '-', 'intersections': '-'},\n",
    "                                       trainables={'psc_factor': False, 'fixed_effect': False},\n",
    "                                       )\n",
    "\n",
    "utility_parameters.constant_initializer(0)"
   ]
  },
  {
   "cell_type": "markdown",
   "metadata": {},
   "source": [
    "## Data processing"
   ]
  },
  {
   "cell_type": "code",
   "execution_count": 11,
   "metadata": {},
   "outputs": [],
   "source": [
    "n_links = len(fresno_network.links)\n",
    "df['date'] = pd.to_datetime(df['date'], format='%Y-%m-%d')\n",
    "df['year'] = df.date.dt.year\n",
    "X, Y = {}, {}"
   ]
  },
  {
   "cell_type": "code",
   "execution_count": 12,
   "metadata": {},
   "outputs": [
    {
     "data": {
      "text/plain": "            counts          tt_ff         tt_avg       tf_inrix\ncount  9704.000000  166497.000000  127290.000000  166497.000000\nmean   1880.469281       0.003388       0.003647       0.192740\nstd     791.369747       0.004391       0.004636       0.224399\nmin       3.000000       0.000000       0.000000       0.000000\n25%    1361.000000       0.000000       0.000000       0.000000\n50%    1787.000000       0.002470       0.002667       0.144000\n75%    2302.700000       0.004641       0.005429       0.272000\nmax    4807.000000       0.070339       0.059900       4.605000",
      "text/html": "<div>\n<style scoped>\n    .dataframe tbody tr th:only-of-type {\n        vertical-align: middle;\n    }\n\n    .dataframe tbody tr th {\n        vertical-align: top;\n    }\n\n    .dataframe thead th {\n        text-align: right;\n    }\n</style>\n<table border=\"1\" class=\"dataframe\">\n  <thead>\n    <tr style=\"text-align: right;\">\n      <th></th>\n      <th>counts</th>\n      <th>tt_ff</th>\n      <th>tt_avg</th>\n      <th>tf_inrix</th>\n    </tr>\n  </thead>\n  <tbody>\n    <tr>\n      <th>count</th>\n      <td>9704.000000</td>\n      <td>166497.000000</td>\n      <td>127290.000000</td>\n      <td>166497.000000</td>\n    </tr>\n    <tr>\n      <th>mean</th>\n      <td>1880.469281</td>\n      <td>0.003388</td>\n      <td>0.003647</td>\n      <td>0.192740</td>\n    </tr>\n    <tr>\n      <th>std</th>\n      <td>791.369747</td>\n      <td>0.004391</td>\n      <td>0.004636</td>\n      <td>0.224399</td>\n    </tr>\n    <tr>\n      <th>min</th>\n      <td>3.000000</td>\n      <td>0.000000</td>\n      <td>0.000000</td>\n      <td>0.000000</td>\n    </tr>\n    <tr>\n      <th>25%</th>\n      <td>1361.000000</td>\n      <td>0.000000</td>\n      <td>0.000000</td>\n      <td>0.000000</td>\n    </tr>\n    <tr>\n      <th>50%</th>\n      <td>1787.000000</td>\n      <td>0.002470</td>\n      <td>0.002667</td>\n      <td>0.144000</td>\n    </tr>\n    <tr>\n      <th>75%</th>\n      <td>2302.700000</td>\n      <td>0.004641</td>\n      <td>0.005429</td>\n      <td>0.272000</td>\n    </tr>\n    <tr>\n      <th>max</th>\n      <td>4807.000000</td>\n      <td>0.070339</td>\n      <td>0.059900</td>\n      <td>4.605000</td>\n    </tr>\n  </tbody>\n</table>\n</div>"
     },
     "execution_count": 12,
     "metadata": {},
     "output_type": "execute_result"
    }
   ],
   "source": [
    "df.query('year == 2019')[['counts', 'tt_ff', 'tt_avg', 'tf_inrix']].describe()"
   ]
  },
  {
   "cell_type": "code",
   "execution_count": 13,
   "metadata": {},
   "outputs": [
    {
     "data": {
      "text/plain": "            counts          tt_ff         tt_avg       tf_inrix\ncount  9290.000000  159258.000000  120497.000000  159258.000000\nmean   1822.742196       0.003351       0.003463       0.188521\nstd     795.855464       0.004363       0.004431       0.219121\nmin      31.000000       0.000000       0.000000       0.000000\n25%    1275.125000       0.000000       0.000000       0.000000\n50%    1715.000000       0.002429       0.002551       0.142000\n75%    2242.750000       0.004539       0.005131       0.263000\nmax    4798.000000       0.070339       0.058472       3.775000",
      "text/html": "<div>\n<style scoped>\n    .dataframe tbody tr th:only-of-type {\n        vertical-align: middle;\n    }\n\n    .dataframe tbody tr th {\n        vertical-align: top;\n    }\n\n    .dataframe thead th {\n        text-align: right;\n    }\n</style>\n<table border=\"1\" class=\"dataframe\">\n  <thead>\n    <tr style=\"text-align: right;\">\n      <th></th>\n      <th>counts</th>\n      <th>tt_ff</th>\n      <th>tt_avg</th>\n      <th>tf_inrix</th>\n    </tr>\n  </thead>\n  <tbody>\n    <tr>\n      <th>count</th>\n      <td>9290.000000</td>\n      <td>159258.000000</td>\n      <td>120497.000000</td>\n      <td>159258.000000</td>\n    </tr>\n    <tr>\n      <th>mean</th>\n      <td>1822.742196</td>\n      <td>0.003351</td>\n      <td>0.003463</td>\n      <td>0.188521</td>\n    </tr>\n    <tr>\n      <th>std</th>\n      <td>795.855464</td>\n      <td>0.004363</td>\n      <td>0.004431</td>\n      <td>0.219121</td>\n    </tr>\n    <tr>\n      <th>min</th>\n      <td>31.000000</td>\n      <td>0.000000</td>\n      <td>0.000000</td>\n      <td>0.000000</td>\n    </tr>\n    <tr>\n      <th>25%</th>\n      <td>1275.125000</td>\n      <td>0.000000</td>\n      <td>0.000000</td>\n      <td>0.000000</td>\n    </tr>\n    <tr>\n      <th>50%</th>\n      <td>1715.000000</td>\n      <td>0.002429</td>\n      <td>0.002551</td>\n      <td>0.142000</td>\n    </tr>\n    <tr>\n      <th>75%</th>\n      <td>2242.750000</td>\n      <td>0.004539</td>\n      <td>0.005131</td>\n      <td>0.263000</td>\n    </tr>\n    <tr>\n      <th>max</th>\n      <td>4798.000000</td>\n      <td>0.070339</td>\n      <td>0.058472</td>\n      <td>3.775000</td>\n    </tr>\n  </tbody>\n</table>\n</div>"
     },
     "execution_count": 13,
     "metadata": {},
     "output_type": "execute_result"
    }
   ],
   "source": [
    "df.query('year == 2020')[['counts', 'tt_ff', 'tt_avg', 'tf_inrix']].describe()"
   ]
  },
  {
   "cell_type": "code",
   "execution_count": 14,
   "metadata": {},
   "outputs": [],
   "source": [
    "# Set free flow travel times\n",
    "tt_ff_links = df.groupby('link_key')['tt_ff'].min()\n",
    "for link in fresno_network.links:\n",
    "    fresno_network.links_dict[link.key].performance_function.tf = float(tt_ff_links[tt_ff_links.index==str(link.key)])"
   ]
  },
  {
   "cell_type": "markdown",
   "metadata": {},
   "source": [
    "## Training and validation sets"
   ]
  },
  {
   "cell_type": "code",
   "execution_count": 15,
   "metadata": {},
   "outputs": [
    {
     "name": "stderr",
     "output_type": "stream",
     "text": [
      "2022-10-04 00:04:07.757939: I tensorflow/core/platform/cpu_feature_guard.cc:193] This TensorFlow binary is optimized with oneAPI Deep Neural Network Library (oneDNN) to use the following CPU instructions in performance-critical operations:  AVX2 FMA\n",
      "To enable them in other operations, rebuild TensorFlow with the appropriate compiler flags.\n"
     ]
    }
   ],
   "source": [
    "df = df.sort_values(by = 'date').copy()\n",
    "\n",
    "for year in sorted(df['year'].unique()):\n",
    "    df_year = df[df['year'] == year]\n",
    "\n",
    "    n_days, n_hours = len(df_year.date.unique()), len(df_year.hour.unique())\n",
    "\n",
    "    traveltime_data = get_y_tensor(y=df_year[['tt_avg']], n_links=n_links, n_days=n_days, n_hours=n_hours)\n",
    "    flow_data = get_y_tensor(y=df_year[['counts']], n_links=n_links, n_days=n_days, n_hours=n_hours)\n",
    "\n",
    "    Y[year] = tf.concat([traveltime_data, flow_data], axis=3)\n",
    "\n",
    "    X[year] = get_design_tensor(Z=df_year[features_Z], n_links=n_links, n_days=n_days, n_hours=n_hours)\n",
    "\n",
    "    tt_ff = get_design_tensor(Z=df_year[['tt_ff']], n_links=n_links, n_days=n_days, n_hours=n_hours)"
   ]
  },
  {
   "cell_type": "code",
   "execution_count": 16,
   "metadata": {},
   "outputs": [],
   "source": [
    "# We only pick data from one year\n",
    "X = X[2019]\n",
    "Y = Y[2019]\n",
    "\n",
    "# Prepare the training and validation dataset\n",
    "X, Y = tf.concat(X,axis = 0), tf.concat(Y,axis = 0)\n",
    "#X_train, X_test, Y_train, Y_test = train_test_split(X.numpy(), Y.numpy(), test_size=0.5, random_state=_SEED)\n",
    "X_train, X_test, Y_train, Y_test = temporal_split(X.numpy(), Y.numpy(), n_days = 20)\n",
    "X_train, X_test, Y_train, Y_test = [tf.constant(i) for i in [X_train, X_test, Y_train, Y_test]]"
   ]
  },
  {
   "cell_type": "markdown",
   "metadata": {},
   "source": [
    "## Network equilibrium predictor"
   ]
  },
  {
   "cell_type": "code",
   "execution_count": 17,
   "metadata": {},
   "outputs": [],
   "source": [
    "equilibrator = Equilibrator(\n",
    "    network=fresno_network,\n",
    "    # paths_generator=paths_generator,\n",
    "    utility=utility_parameters,\n",
    "    max_iters=100,\n",
    "    method='fw',\n",
    "    iters_fw=50,\n",
    "    accuracy=1e-4,\n",
    ")\n",
    "\n",
    "column_generator = ColumnGenerator(equilibrator=equilibrator,\n",
    "                                   utility=utility_parameters,\n",
    "                                   n_paths=0,\n",
    "                                   ods_coverage=0.1,\n",
    "                                   ods_sampling='sequential',\n",
    "                                   # ods_sampling='demand',\n",
    "                                   )"
   ]
  },
  {
   "cell_type": "markdown",
   "metadata": {},
   "source": [
    "## Configuration"
   ]
  },
  {
   "cell_type": "code",
   "execution_count": 18,
   "metadata": {},
   "outputs": [],
   "source": [
    "_EPOCHS = 500\n",
    "_BATCH_SIZE = 16\n",
    "_LR = 5e-1\n",
    "_RELATIVE_GAP = 1e-4\n",
    "_XTICKS_SPACING = 50\n",
    "_EPOCHS_PRINT_INTERVAL = 10"
   ]
  },
  {
   "cell_type": "markdown",
   "metadata": {},
   "source": [
    "## Models"
   ]
  },
  {
   "cell_type": "code",
   "execution_count": 19,
   "metadata": {},
   "outputs": [],
   "source": [
    "run_model = dict.fromkeys(['equilibrium', 'lue', 'ode', 'odlue', 'odlulpe-1','odlulpe-2', 'tvodlulpe'], False)\n",
    "\n",
    "run_model['lue'] = True\n",
    "run_model['odlue'] = True\n",
    "run_model['odlulpe-1'] = True\n",
    "run_model['odlulpe-2'] = True\n",
    "\n"
   ]
  },
  {
   "cell_type": "code",
   "execution_count": 20,
   "metadata": {},
   "outputs": [],
   "source": [
    "train_losses_dfs = {}\n",
    "val_losses_dfs = {}"
   ]
  },
  {
   "cell_type": "markdown",
   "metadata": {},
   "source": [
    "### Model 1: Benchmark of aesuelogit and isuelogit"
   ]
  },
  {
   "cell_type": "code",
   "execution_count": 21,
   "metadata": {},
   "outputs": [
    {
     "name": "stdout",
     "output_type": "stream",
     "text": [
      "\n",
      "LUE: Benchmark of aesuelogit and isuelogit (utility only)\n",
      "\n",
      "Epoch: 0, n_train: 10, n_test: 10\n",
      "\n",
      "0: train_loss=2.7e+06, val_loss=2.7e+06, train_loss tt=3.8e-05, val_loss tt=3.6e-05, train_loss flow=2.3e+06, val_loss flow=2.3e+06, theta = [0. 0. 0. 0. 0. 0.], vot = nan, psc_factor = 0.0, avg abs theta fixed effect = 0, avg alpha=0.15, avg beta=4, loss demand=3.2e-29, relative x=1.4e-16, relative gap=1e+10, train tt equilibrium loss=4e-36, train flow equilibrium loss=3.1e-26, time:  12.3\n",
      "\n",
      "Epoch: 10, n_train: 10, n_test: 10\n",
      "\n",
      "10: train_loss=2.7e+06, val_loss=2.7e+06, train_loss tt=2.8e-05, val_loss tt=2.6e-05, train_loss flow=2.3e+06, val_loss flow=2.3e+06, theta = [-2.0687 -2.1545  0.     -2.0318 -2.0235 -2.0452], vot = nan, psc_factor = 0.0, avg abs theta fixed effect = 1.1, avg alpha=0.15, avg beta=4, loss demand=3.2e-29, relative x=0.19, relative gap=0.044, train tt equilibrium loss=1.4e-06, train flow equilibrium loss=1.1e+05, time:  170.1\n",
      "\n",
      "Epoch: 20, n_train: 10, n_test: 10\n",
      "\n",
      "20: train_loss=2.6e+06, val_loss=2.6e+06, train_loss tt=2.8e-05, val_loss tt=2.6e-05, train_loss flow=2.3e+06, val_loss flow=2.3e+06, theta = [-2.6089 -2.7032  0.     -2.3428 -2.4743 -2.4694], vot = nan, psc_factor = 0.0, avg abs theta fixed effect = 1.4, avg alpha=0.15, avg beta=4, loss demand=3.2e-29, relative x=0.18, relative gap=0.0097, train tt equilibrium loss=2.2e-07, train flow equilibrium loss=3.8e+04, time:  165.2\n",
      "\n",
      "Epoch: 30, n_train: 10, n_test: 10\n",
      "\n",
      "30: train_loss=2.5e+06, val_loss=2.6e+06, train_loss tt=2.8e-05, val_loss tt=2.6e-05, train_loss flow=2.2e+06, val_loss flow=2.3e+06, theta = [-2.8123 -2.8491  0.     -2.1463 -2.6067 -2.5222], vot = nan, psc_factor = 0.0, avg abs theta fixed effect = 1.6, avg alpha=0.15, avg beta=4, loss demand=3.2e-29, relative x=0.17, relative gap=0.00018, train tt equilibrium loss=5.3e-08, train flow equilibrium loss=1.4e+04, time:  165.1\n",
      "\n",
      "Epoch: 40, n_train: 10, n_test: 10\n",
      "\n",
      "40: train_loss=2.5e+06, val_loss=2.6e+06, train_loss tt=2.8e-05, val_loss tt=2.6e-05, train_loss flow=2.2e+06, val_loss flow=2.3e+06, theta = [-2.8992 -2.8211  0.     -1.6667 -2.5954 -2.4231], vot = nan, psc_factor = 0.0, avg abs theta fixed effect = 1.7, avg alpha=0.15, avg beta=4, loss demand=3.2e-29, relative x=0.15, relative gap=-0.0031, train tt equilibrium loss=2.7e-08, train flow equilibrium loss=6.1e+03, time:  167.9\n",
      "\n",
      "Epoch: 50, n_train: 10, n_test: 10\n",
      "\n",
      "50: train_loss=2.5e+06, val_loss=2.5e+06, train_loss tt=2.8e-05, val_loss tt=2.6e-05, train_loss flow=2.2e+06, val_loss flow=2.3e+06, theta = [-2.9367 -2.7589  0.     -1.1409 -2.4679 -2.2383], vot = nan, psc_factor = 0.0, avg abs theta fixed effect = 1.8, avg alpha=0.15, avg beta=4, loss demand=3.2e-29, relative x=0.15, relative gap=-0.0082, train tt equilibrium loss=1.1e-08, train flow equilibrium loss=3.6e+03, time:  175.0\n",
      "\n",
      "Epoch: 60, n_train: 10, n_test: 10\n",
      "\n",
      "60: train_loss=2.4e+06, val_loss=2.5e+06, train_loss tt=2.8e-05, val_loss tt=2.6e-05, train_loss flow=2.2e+06, val_loss flow=2.2e+06, theta = [-2.9501 -2.5816  0.     -0.3012 -2.3081 -1.9986], vot = nan, psc_factor = 0.0, avg abs theta fixed effect = 1.9, avg alpha=0.15, avg beta=4, loss demand=3.2e-29, relative x=0.15, relative gap=-0.025, train tt equilibrium loss=1.6e-08, train flow equilibrium loss=4.4e+03, time:  169.6\n",
      "\n",
      "Epoch: 70, n_train: 10, n_test: 10\n",
      "\n",
      "70: train_loss=2.4e+06, val_loss=2.5e+06, train_loss tt=2.8e-05, val_loss tt=2.6e-05, train_loss flow=2.1e+06, val_loss flow=2.2e+06, theta = [-2.9688 -2.4012  0.      0.     -2.1874 -1.7312], vot = nan, psc_factor = 0.0, avg abs theta fixed effect = 2, avg alpha=0.15, avg beta=4, loss demand=3.2e-29, relative x=0.14, relative gap=-0.0074, train tt equilibrium loss=1.5e-08, train flow equilibrium loss=4.6e+03, time:  167.3\n",
      "\n",
      "Epoch: 80, n_train: 10, n_test: 10\n",
      "\n",
      "80: train_loss=2.4e+06, val_loss=2.5e+06, train_loss tt=2.8e-05, val_loss tt=2.6e-05, train_loss flow=2.1e+06, val_loss flow=2.2e+06, theta = [-2.9695 -2.0747  0.      0.     -1.9713 -1.3765], vot = nan, psc_factor = 0.0, avg abs theta fixed effect = 2.1, avg alpha=0.15, avg beta=4, loss demand=3.2e-29, relative x=0.13, relative gap=-0.019, train tt equilibrium loss=1.4e-08, train flow equilibrium loss=3.1e+03, time:  166.4\n",
      "\n",
      "Epoch: 90, n_train: 10, n_test: 10\n",
      "\n",
      "90: train_loss=2.3e+06, val_loss=2.4e+06, train_loss tt=2.8e-05, val_loss tt=2.6e-05, train_loss flow=2.1e+06, val_loss flow=2.1e+06, theta = [-2.977  -1.69    0.      0.     -1.7349 -1.0059], vot = nan, psc_factor = 0.0, avg abs theta fixed effect = 2.2, avg alpha=0.15, avg beta=4, loss demand=3.2e-29, relative x=0.12, relative gap=-0.023, train tt equilibrium loss=1.7e-08, train flow equilibrium loss=3.5e+03, time:  165.4\n",
      "\n",
      "Epoch: 100, n_train: 10, n_test: 10\n",
      "\n",
      "100: train_loss=2.3e+06, val_loss=2.4e+06, train_loss tt=2.8e-05, val_loss tt=2.6e-05, train_loss flow=2e+06, val_loss flow=2.1e+06, theta = [-2.9958 -1.2674  0.      0.     -1.5125 -0.6455], vot = nan, psc_factor = 0.0, avg abs theta fixed effect = 2.2, avg alpha=0.15, avg beta=4, loss demand=3.2e-29, relative x=0.1, relative gap=-0.034, train tt equilibrium loss=1.9e-08, train flow equilibrium loss=3.6e+03, time:  167.0\n",
      "\n",
      "Epoch: 110, n_train: 10, n_test: 10\n",
      "\n",
      "110: train_loss=2.3e+06, val_loss=2.4e+06, train_loss tt=2.8e-05, val_loss tt=2.6e-05, train_loss flow=2e+06, val_loss flow=2.1e+06, theta = [-3.0382 -0.9899  0.      0.     -1.3246 -0.4172], vot = nan, psc_factor = 0.0, avg abs theta fixed effect = 2.2, avg alpha=0.15, avg beta=4, loss demand=3.2e-29, relative x=0.19, relative gap=-0.019, train tt equilibrium loss=1.2e-08, train flow equilibrium loss=2.5e+03, time:  169.4\n",
      "\n",
      "Epoch: 120, n_train: 10, n_test: 10\n",
      "\n",
      "120: train_loss=2.3e+06, val_loss=2.4e+06, train_loss tt=2.7e-05, val_loss tt=2.6e-05, train_loss flow=2e+06, val_loss flow=2.1e+06, theta = [-3.11   -0.8596  0.      0.     -1.1655 -0.3322], vot = nan, psc_factor = 0.0, avg abs theta fixed effect = 2.2, avg alpha=0.15, avg beta=4, loss demand=3.2e-29, relative x=0.15, relative gap=-0.0092, train tt equilibrium loss=1.8e-08, train flow equilibrium loss=2.2e+03, time:  166.5\n",
      "\n",
      "Epoch: 130, n_train: 10, n_test: 10\n",
      "\n",
      "130: train_loss=2.3e+06, val_loss=2.4e+06, train_loss tt=2.7e-05, val_loss tt=2.6e-05, train_loss flow=2e+06, val_loss flow=2.1e+06, theta = [-3.1779 -0.7531  0.      0.     -1.064  -0.3138], vot = nan, psc_factor = 0.0, avg abs theta fixed effect = 2.2, avg alpha=0.15, avg beta=4, loss demand=3.2e-29, relative x=0.088, relative gap=0.0012, train tt equilibrium loss=7.4e-09, train flow equilibrium loss=1.3e+03, time:  174.7\n",
      "\n",
      "Epoch: 140, n_train: 10, n_test: 10\n",
      "\n",
      "140: train_loss=2.3e+06, val_loss=2.4e+06, train_loss tt=2.7e-05, val_loss tt=2.6e-05, train_loss flow=2e+06, val_loss flow=2.1e+06, theta = [-3.2252 -0.6639  0.      0.     -1.0364 -0.3398], vot = nan, psc_factor = 0.0, avg abs theta fixed effect = 2.3, avg alpha=0.15, avg beta=4, loss demand=3.2e-29, relative x=0.07, relative gap=-0.0093, train tt equilibrium loss=7.5e-09, train flow equilibrium loss=7.5e+02, time:  172.1\n",
      "\n",
      "Epoch: 150, n_train: 10, n_test: 10\n",
      "\n",
      "150: train_loss=2.3e+06, val_loss=2.3e+06, train_loss tt=2.7e-05, val_loss tt=2.6e-05, train_loss flow=2e+06, val_loss flow=2.1e+06, theta = [-3.2714 -0.6186  0.      0.     -0.9622 -0.3797], vot = nan, psc_factor = 0.0, avg abs theta fixed effect = 2.3, avg alpha=0.15, avg beta=4, loss demand=3.2e-29, relative x=0.068, relative gap=0.00051, train tt equilibrium loss=6.3e-09, train flow equilibrium loss=6.4e+02, time:  181.2\n",
      "\n",
      "Epoch: 160, n_train: 10, n_test: 10\n",
      "\n",
      "160: train_loss=2.3e+06, val_loss=2.3e+06, train_loss tt=2.7e-05, val_loss tt=2.6e-05, train_loss flow=2e+06, val_loss flow=2.1e+06, theta = [-3.3145 -0.5592  0.      0.     -0.9002 -0.4225], vot = nan, psc_factor = 0.0, avg abs theta fixed effect = 2.3, avg alpha=0.15, avg beta=4, loss demand=3.2e-29, relative x=1.7e+04, relative gap=-0.0068, train tt equilibrium loss=2.5e-09, train flow equilibrium loss=2.3e+02, time:  172.2\n",
      "\n",
      "Epoch: 170, n_train: 10, n_test: 10\n",
      "\n",
      "170: train_loss=2.3e+06, val_loss=2.3e+06, train_loss tt=2.7e-05, val_loss tt=2.6e-05, train_loss flow=2e+06, val_loss flow=2.1e+06, theta = [-3.3519 -0.522   0.      0.     -0.8566 -0.4389], vot = nan, psc_factor = 0.0, avg abs theta fixed effect = 2.3, avg alpha=0.15, avg beta=4, loss demand=3.2e-29, relative x=0.18, relative gap=-0.0057, train tt equilibrium loss=9.8e-10, train flow equilibrium loss=1.4e+02, time:  173.5\n",
      "\n",
      "Epoch: 180, n_train: 10, n_test: 10\n",
      "\n",
      "180: train_loss=2.3e+06, val_loss=2.3e+06, train_loss tt=2.7e-05, val_loss tt=2.6e-05, train_loss flow=2e+06, val_loss flow=2.1e+06, theta = [-3.3812 -0.4861  0.      0.     -0.8549 -0.4308], vot = nan, psc_factor = 0.0, avg abs theta fixed effect = 2.3, avg alpha=0.15, avg beta=4, loss demand=3.2e-29, relative x=0.064, relative gap=-0.0051, train tt equilibrium loss=9.1e-10, train flow equilibrium loss=1.2e+02, time:  176.1\n",
      "\n",
      "Epoch: 190, n_train: 10, n_test: 10\n",
      "\n",
      "190: train_loss=2.3e+06, val_loss=2.3e+06, train_loss tt=2.7e-05, val_loss tt=2.6e-05, train_loss flow=2e+06, val_loss flow=2.1e+06, theta = [-3.4073 -0.4784  0.      0.     -0.823  -0.4215], vot = nan, psc_factor = 0.0, avg abs theta fixed effect = 2.3, avg alpha=0.15, avg beta=4, loss demand=3.2e-29, relative x=0.061, relative gap=-0.0019, train tt equilibrium loss=5.5e-10, train flow equilibrium loss=1e+02, time:  176.4\n",
      "\n",
      "Epoch: 200, n_train: 10, n_test: 10\n",
      "\n",
      "200: train_loss=2.3e+06, val_loss=2.3e+06, train_loss tt=2.7e-05, val_loss tt=2.6e-05, train_loss flow=2e+06, val_loss flow=2.1e+06, theta = [-3.4328 -0.4601  0.      0.     -0.7733 -0.4161], vot = nan, psc_factor = 0.0, avg abs theta fixed effect = 2.3, avg alpha=0.15, avg beta=4, loss demand=3.2e-29, relative x=0.06, relative gap=-0.0043, train tt equilibrium loss=1.1e-09, train flow equilibrium loss=2.6e+02, time:  179.2\n",
      "\n",
      "Epoch: 210, n_train: 10, n_test: 10\n",
      "\n",
      "210: train_loss=2.3e+06, val_loss=2.3e+06, train_loss tt=2.7e-05, val_loss tt=2.6e-05, train_loss flow=2e+06, val_loss flow=2.1e+06, theta = [-3.4562 -0.4342  0.      0.     -0.7185 -0.4088], vot = nan, psc_factor = 0.0, avg abs theta fixed effect = 2.3, avg alpha=0.15, avg beta=4, loss demand=3.2e-29, relative x=0.058, relative gap=-0.0045, train tt equilibrium loss=8.5e-10, train flow equilibrium loss=1e+02, time:  177.4\n",
      "\n",
      "Epoch: 220, n_train: 10, n_test: 10\n",
      "\n",
      "220: train_loss=2.3e+06, val_loss=2.3e+06, train_loss tt=2.7e-05, val_loss tt=2.6e-05, train_loss flow=2e+06, val_loss flow=2.1e+06, theta = [-3.4823 -0.4099  0.      0.     -0.6589 -0.4087], vot = nan, psc_factor = 0.0, avg abs theta fixed effect = 2.3, avg alpha=0.15, avg beta=4, loss demand=3.2e-29, relative x=0.057, relative gap=-0.0041, train tt equilibrium loss=9.4e-10, train flow equilibrium loss=73, time:  181.6\n",
      "\n",
      "Epoch: 230, n_train: 10, n_test: 10\n",
      "\n",
      "230: train_loss=2.3e+06, val_loss=2.3e+06, train_loss tt=2.7e-05, val_loss tt=2.6e-05, train_loss flow=2e+06, val_loss flow=2.1e+06, theta = [-3.5061 -0.3845  0.      0.     -0.6289 -0.3908], vot = nan, psc_factor = 0.0, avg abs theta fixed effect = 2.3, avg alpha=0.15, avg beta=4, loss demand=3.2e-29, relative x=0.056, relative gap=-0.0047, train tt equilibrium loss=1.2e-09, train flow equilibrium loss=51, time:  179.6\n",
      "\n",
      "Epoch: 240, n_train: 10, n_test: 10\n",
      "\n",
      "240: train_loss=2.3e+06, val_loss=2.3e+06, train_loss tt=2.7e-05, val_loss tt=2.6e-05, train_loss flow=2e+06, val_loss flow=2.1e+06, theta = [-3.5247 -0.381   0.      0.     -0.6725 -0.3462], vot = nan, psc_factor = 0.0, avg abs theta fixed effect = 2.3, avg alpha=0.15, avg beta=4, loss demand=3.2e-29, relative x=0.055, relative gap=-0.0025, train tt equilibrium loss=7.9e-10, train flow equilibrium loss=42, time:  180.3\n",
      "\n",
      "Epoch: 250, n_train: 10, n_test: 10\n",
      "\n",
      "250: train_loss=2.3e+06, val_loss=2.3e+06, train_loss tt=2.7e-05, val_loss tt=2.6e-05, train_loss flow=2e+06, val_loss flow=2.1e+06, theta = [-3.5417 -0.3697  0.      0.     -0.7442 -0.3157], vot = nan, psc_factor = 0.0, avg abs theta fixed effect = 2.3, avg alpha=0.15, avg beta=4, loss demand=3.2e-29, relative x=0.057, relative gap=-0.0028, train tt equilibrium loss=5.8e-09, train flow equilibrium loss=6.3e+02, time:  183.4\n",
      "\n",
      "Epoch: 253, n_train: 10, n_test: 10\n",
      "\n",
      "253: train_loss=2.3e+06, val_loss=2.3e+06, train_loss tt=2.7e-05, val_loss tt=2.6e-05, train_loss flow=2e+06, val_loss flow=2.1e+06, theta = [-3.5497 -0.3658  0.      0.     -0.753  -0.3214], vot = nan, psc_factor = 0.0, avg abs theta fixed effect = 2.3, avg alpha=0.15, avg beta=4, loss demand=3.2e-29, relative x=0.057, relative gap=6.5e-05, train tt equilibrium loss=2.3e-09, train flow equilibrium loss=3.9e+02, time:  54.4\n",
      "theta = {'tt': -3.549742873556616, 'speed_sd': -0.3658174320877774, 'median_inc': 0.0, 'incidents': 0.0, 'bus_stops': -0.7530322628963719, 'intersections': -0.3213737064165139}\n",
      "alpha =  0.15, beta  =  4.00\n",
      "Avg abs diff of observed and estimated OD:  0.00\n",
      "Avg observed OD:  9.51\n"
     ]
    },
    {
     "data": {
      "text/plain": "<Figure size 432x288 with 1 Axes>",
      "image/png": "[encoded data removed]"
     },
     "metadata": {},
     "output_type": "display_data"
    }
   ],
   "source": [
    "if run_model['lue']:\n",
    "    print('\\nLUE: Benchmark of aesuelogit and isuelogit (utility only)')\n",
    "\n",
    "    optimizer = tf.keras.optimizers.Adam(learning_rate=_LR)\n",
    "\n",
    "    utility_parameters = UtilityParameters(features_Y=['tt'],\n",
    "                                           features_Z=features_Z,\n",
    "                                           periods=1,\n",
    "                                           initial_values={'psc_factor': 0,\n",
    "                                                           'fixed_effect': np.zeros_like(fresno_network.links)},\n",
    "                                           signs={'tt': '-', 'speed_sd': '-', 'median_inc': '+', 'incidents': '-',\n",
    "                                                  'bus_stops': '-', 'intersections': '-'},\n",
    "                                           trainables={'psc_factor': False, 'fixed_effect': True,\n",
    "                                                       'tt': True, 'speed_sd': True, 'median_inc': True, 'incidents': True,\n",
    "                                                              'bus_stops': True, 'intersections': True\n",
    "                                                       },\n",
    "                                           )\n",
    "\n",
    "    utility_parameters.constant_initializer(0)\n",
    "\n",
    "    bpr_parameters = BPRParameters(keys=['alpha', 'beta'],\n",
    "                                   initial_values={'alpha': 0.15, 'beta': 4},\n",
    "                                   trainables=dict.fromkeys(['alpha', 'beta'], False),\n",
    "                                   )\n",
    "\n",
    "    od_parameters = ODParameters(key='od',\n",
    "                                 periods=1,\n",
    "                                 initial_values=fresno_network.q.flatten(),\n",
    "                                 true_values=fresno_network.q.flatten(),\n",
    "                                 historic_values={1: fresno_network.q.flatten()},\n",
    "                                 trainable=False)\n",
    "\n",
    "    equilibrator = Equilibrator(\n",
    "        network=fresno_network,\n",
    "        utility=utility_parameters,\n",
    "        max_iters=100,\n",
    "        method='fw',\n",
    "        iters_fw=50,\n",
    "        accuracy=1e-4,\n",
    "    )\n",
    "\n",
    "    column_generator = ColumnGenerator(equilibrator=equilibrator,\n",
    "                                       utility=utility_parameters,\n",
    "                                       n_paths=0,\n",
    "                                       ods_coverage=0.1,\n",
    "                                       ods_sampling='sequential',\n",
    "                                       )\n",
    "\n",
    "    lue = GISUELOGIT(\n",
    "        key='lue',\n",
    "        network=fresno_network,\n",
    "        dtype=tf.float64,\n",
    "        equilibrator = equilibrator,\n",
    "        utility=utility_parameters,\n",
    "        bpr=bpr_parameters,\n",
    "        od=od_parameters\n",
    "    )\n",
    "\n",
    "    train_losses_dfs['lue'], val_losses_dfs['lue'] = lue.train(\n",
    "        X_train, Y_train, X_test, Y_test,\n",
    "        optimizer=optimizer,\n",
    "        batch_size=_BATCH_SIZE,\n",
    "        loss_weights={'od': 0, 'theta': 0, 'tt': 1e10, 'flow': 1, 'eq_flow': 1},\n",
    "        threshold_relative_gap=_RELATIVE_GAP,\n",
    "        epochs_print_interval=_EPOCHS_PRINT_INTERVAL,\n",
    "        epochs=_EPOCHS)\n",
    "\n",
    "    plot_predictive_performance(train_losses=train_losses_dfs['lue'], val_losses=val_losses_dfs['lue'],\n",
    "                                xticks_spacing = _XTICKS_SPACING)\n",
    "\n",
    "\n",
    "    print(f\"theta = {dict(zip(utility_parameters.true_values.keys(), list(lue.theta.numpy())))}\")\n",
    "    print(f\"alpha = {lue.alpha: 0.2f}, beta  = {lue.beta: 0.2f}\")\n",
    "    print(f\"Avg abs diff of observed and estimated OD: {np.mean(np.abs(lue.q - fresno_network.q.flatten())): 0.2f}\")\n",
    "    print(f\"Avg observed OD: {np.mean(np.abs(fresno_network.q.flatten())): 0.2f}\")"
   ]
  },
  {
   "cell_type": "markdown",
   "metadata": {},
   "source": [
    "### Model 2: OD + utility estimation with historic OD"
   ]
  },
  {
   "cell_type": "code",
   "execution_count": 22,
   "metadata": {},
   "outputs": [
    {
     "name": "stdout",
     "output_type": "stream",
     "text": [
      "\n",
      "ODLUE: OD + utility estimation with historic OD\n",
      "\n",
      "Epoch: 0, n_train: 10, n_test: 10\n",
      "\n",
      "0: train_loss=2.7e+06, val_loss=2.7e+06, train_loss tt=3.8e-05, val_loss tt=3.6e-05, train_loss flow=2.3e+06, val_loss flow=2.3e+06, theta = [0. 0. 0. 0. 0. 0.], vot = nan, psc_factor = 0.0, avg abs theta fixed effect = 0, avg alpha=0.15, avg beta=4, loss demand=3.2e-29, relative x=1.4e-16, relative gap=1e+10, train tt equilibrium loss=4e-36, train flow equilibrium loss=3.1e-26, time:  13.2\n",
      "\n",
      "Epoch: 10, n_train: 10, n_test: 10\n",
      "\n",
      "10: train_loss=2e+06, val_loss=2.1e+06, train_loss tt=2.3e-05, val_loss tt=2.2e-05, train_loss flow=1.6e+06, val_loss flow=1.7e+06, theta = [-2.0376 -2.3269  0.     -2.5923 -2.1511 -2.2094], vot = nan, psc_factor = 0.0, avg abs theta fixed effect = 0.98, avg alpha=0.15, avg beta=4, loss demand=3.2e+02, relative x=0.48, relative gap=0.025, train tt equilibrium loss=3.9e-06, train flow equilibrium loss=1.6e+05, time:  193.3\n",
      "\n",
      "Epoch: 20, n_train: 10, n_test: 10\n",
      "\n",
      "20: train_loss=1.6e+06, val_loss=1.8e+06, train_loss tt=2.3e-05, val_loss tt=2.1e-05, train_loss flow=1.3e+06, val_loss flow=1.4e+06, theta = [-2.5721 -3.048   0.     -3.2898 -2.7621 -2.8667], vot = nan, psc_factor = 0.0, avg abs theta fixed effect = 1.2, avg alpha=0.15, avg beta=4, loss demand=1.3e+03, relative x=0.4, relative gap=0.013, train tt equilibrium loss=1.3e-06, train flow equilibrium loss=1.3e+05, time:  188.1\n",
      "\n",
      "Epoch: 30, n_train: 10, n_test: 10\n",
      "\n",
      "30: train_loss=1.4e+06, val_loss=1.6e+06, train_loss tt=2.2e-05, val_loss tt=2.1e-05, train_loss flow=1.1e+06, val_loss flow=1.2e+06, theta = [-2.7841 -3.3204  0.     -3.4349 -3.0104 -3.1299], vot = nan, psc_factor = 0.0, avg abs theta fixed effect = 1.4, avg alpha=0.15, avg beta=4, loss demand=2.8e+03, relative x=0.27, relative gap=0.013, train tt equilibrium loss=4.4e-07, train flow equilibrium loss=6.6e+04, time:  190.3\n",
      "\n",
      "Epoch: 40, n_train: 10, n_test: 10\n",
      "\n",
      "40: train_loss=1.2e+06, val_loss=1.4e+06, train_loss tt=2.2e-05, val_loss tt=2.1e-05, train_loss flow=9.8e+05, val_loss flow=1.1e+06, theta = [-2.8781 -3.4349  0.     -3.3992 -3.1275 -3.2548], vot = nan, psc_factor = 0.0, avg abs theta fixed effect = 1.4, avg alpha=0.15, avg beta=4, loss demand=5e+03, relative x=0.2, relative gap=0.0093, train tt equilibrium loss=2.2e-07, train flow equilibrium loss=2.9e+04, time:  190.1\n",
      "\n",
      "Epoch: 50, n_train: 10, n_test: 10\n",
      "\n",
      "50: train_loss=1.1e+06, val_loss=1.3e+06, train_loss tt=2.2e-05, val_loss tt=2.1e-05, train_loss flow=9.1e+05, val_loss flow=1.1e+06, theta = [-2.9263 -3.4838  0.     -3.3777 -3.1658 -3.3176], vot = nan, psc_factor = 0.0, avg abs theta fixed effect = 1.5, avg alpha=0.15, avg beta=4, loss demand=7.9e+03, relative x=0.15, relative gap=0.0064, train tt equilibrium loss=9.4e-08, train flow equilibrium loss=1.1e+04, time:  194.9\n",
      "\n",
      "Epoch: 60, n_train: 10, n_test: 10\n",
      "\n",
      "60: train_loss=1.1e+06, val_loss=1.3e+06, train_loss tt=2.2e-05, val_loss tt=2.1e-05, train_loss flow=8.7e+05, val_loss flow=1e+06, theta = [-2.9526 -3.5056  0.     -3.3663 -3.1708 -3.3391], vot = nan, psc_factor = 0.0, avg abs theta fixed effect = 1.5, avg alpha=0.15, avg beta=4, loss demand=1.1e+04, relative x=0.14, relative gap=0.0027, train tt equilibrium loss=3.7e-08, train flow equilibrium loss=4e+03, time:  193.5\n",
      "\n",
      "Epoch: 70, n_train: 10, n_test: 10\n",
      "\n",
      "70: train_loss=1.1e+06, val_loss=1.3e+06, train_loss tt=2.2e-05, val_loss tt=2.1e-05, train_loss flow=8.4e+05, val_loss flow=1e+06, theta = [-2.968  -3.5174  0.     -3.3439 -3.161  -3.3344], vot = nan, psc_factor = 0.0, avg abs theta fixed effect = 1.5, avg alpha=0.15, avg beta=4, loss demand=1.3e+04, relative x=0.13, relative gap=0.00075, train tt equilibrium loss=2e-08, train flow equilibrium loss=1.9e+03, time:  189.0\n",
      "\n",
      "Epoch: 72, n_train: 10, n_test: 10\n",
      "\n",
      "72: train_loss=1.1e+06, val_loss=1.3e+06, train_loss tt=2.2e-05, val_loss tt=2.1e-05, train_loss flow=8.3e+05, val_loss flow=1e+06, theta = [-2.9707 -3.5186  0.     -3.3453 -3.1594 -3.3325], vot = nan, psc_factor = 0.0, avg abs theta fixed effect = 1.5, avg alpha=0.15, avg beta=4, loss demand=1.4e+04, relative x=0.13, relative gap=8.5e-05, train tt equilibrium loss=1.8e-08, train flow equilibrium loss=1.7e+03, time:  37.3\n",
      "theta = {'tt': -2.9706934397549394, 'speed_sd': -3.5186208850546072, 'median_inc': 0.0, 'incidents': -3.3452553956351827, 'bus_stops': -3.15943543625305, 'intersections': -3.3325107560795866}\n",
      "alpha =  0.15, beta  =  4.00\n",
      "Avg abs diff of observed and estimated OD:  35.58\n",
      "Avg observed OD:  9.51\n"
     ]
    },
    {
     "data": {
      "text/plain": "<Figure size 432x288 with 1 Axes>",
      "image/png": "[encoded data removed]"
     },
     "metadata": {},
     "output_type": "display_data"
    }
   ],
   "source": [
    "if run_model['odlue']:\n",
    "\n",
    "    print('\\nODLUE: OD + utility estimation with historic OD')\n",
    "\n",
    "    # _RELATIVE_GAP = 1e-4\\\n",
    "    # _XTICKS_SPACING = 50\n",
    "\n",
    "    optimizer = tf.keras.optimizers.Adam(learning_rate=_LR)\n",
    "    # optimizer = tf.keras.optimizers.Adagrad(learning_rate=_LR)\n",
    "    utility_parameters = UtilityParameters(features_Y=['tt'],\n",
    "                                           features_Z=features_Z,\n",
    "                                           periods=1,\n",
    "                                           initial_values={'psc_factor': 0,\n",
    "                                                           'fixed_effect': np.zeros_like(fresno_network.links)},\n",
    "                                           signs={'tt': '-', 'speed_sd': '-', 'median_inc': '+', 'incidents': '-',\n",
    "                                                  'bus_stops': '-', 'intersections': '-'},\n",
    "                                           trainables={'psc_factor': False, 'fixed_effect': True,\n",
    "                                                       'tt': True, 'speed_sd': True, 'median_inc': True,\n",
    "                                                       'incidents': True,\n",
    "                                                       'bus_stops': True, 'intersections': True\n",
    "                                                       },\n",
    "                                           )\n",
    "\n",
    "    bpr_parameters = BPRParameters(keys=['alpha', 'beta'],\n",
    "                                   initial_values={'alpha': 0.15, 'beta': 4},\n",
    "                                   trainables=dict.fromkeys(['alpha', 'beta'], False),\n",
    "                                   )\n",
    "\n",
    "    od_parameters = ODParameters(key='od',\n",
    "                                 periods=1,\n",
    "                                 initial_values=fresno_network.q.flatten(),\n",
    "                                 historic_values={1: fresno_network.q.flatten()},\n",
    "                                 trainable=True)\n",
    "\n",
    "    equilibrator = Equilibrator(\n",
    "        network=fresno_network,\n",
    "        # paths_generator=paths_generator,\n",
    "        utility=utility_parameters,\n",
    "        max_iters=100,\n",
    "        method='fw',\n",
    "        iters_fw=50,\n",
    "        accuracy=1e-4,\n",
    "    )\n",
    "\n",
    "    column_generator = ColumnGenerator(equilibrator=equilibrator,\n",
    "                                       utility=utility_parameters,\n",
    "                                       n_paths=0,\n",
    "                                       ods_coverage=0.1,\n",
    "                                       ods_sampling='sequential',\n",
    "                                       # ods_sampling='demand',\n",
    "                                       )\n",
    "\n",
    "    odlue = GISUELOGIT(\n",
    "        key='odlue',\n",
    "        network=fresno_network,\n",
    "        dtype=tf.float64,\n",
    "        equilibrator=equilibrator,\n",
    "        column_generator=column_generator,\n",
    "        utility=utility_parameters,\n",
    "        bpr=bpr_parameters,\n",
    "        od=od_parameters,\n",
    "    )\n",
    "\n",
    "    train_losses_dfs['odlue'], val_losses_dfs['odlue'] = odlue.train(\n",
    "        X_train, Y_train, X_test, Y_test,\n",
    "        optimizer=optimizer,\n",
    "        batch_size=_BATCH_SIZE,\n",
    "        # generalization_error={'train': False, 'validation': True},\n",
    "        loss_weights={'od': 1, 'theta': 0, 'tt': 1e10, 'flow': 1, 'eq_flow': 1},\n",
    "        threshold_relative_gap=_RELATIVE_GAP,\n",
    "        epochs_print_interval=_EPOCHS_PRINT_INTERVAL,\n",
    "        epochs=_EPOCHS)\n",
    "\n",
    "    plot_predictive_performance(train_losses=train_losses_dfs['odlue'], val_losses=val_losses_dfs['odlue'],\n",
    "                                xticks_spacing = _XTICKS_SPACING)\n",
    "\n",
    "    print(f\"theta = {dict(zip(utility_parameters.true_values.keys(), list(odlue.theta.numpy())))}\")\n",
    "    print(f\"alpha = {odlue.alpha: 0.2f}, beta  = {odlue.beta: 0.2f}\")\n",
    "    print(f\"Avg abs diff of observed and estimated OD: {np.mean(np.abs(odlue.q - fresno_network.q.flatten())): 0.2f}\")\n",
    "    print(f\"Avg observed OD: {np.mean(np.abs(fresno_network.q.flatten())): 0.2f}\")"
   ]
  },
  {
   "cell_type": "markdown",
   "metadata": {},
   "source": [
    "### Model 3: ODLUE + link specific performance parameters (only alphas)"
   ]
  },
  {
   "cell_type": "code",
   "execution_count": 23,
   "metadata": {},
   "outputs": [
    {
     "name": "stdout",
     "output_type": "stream",
     "text": [
      "\n",
      "ODLULPE: ODLUE + link performance parameters with historic OD matrix (link specifics alpha)\n",
      "\n",
      "Epoch: 0, n_train: 10, n_test: 10\n",
      "\n",
      "0: train_loss=2.7e+06, val_loss=2.7e+06, train_loss tt=3.8e-05, val_loss tt=3.6e-05, train_loss flow=2.3e+06, val_loss flow=2.3e+06, theta = [0. 0. 0. 0. 0. 0.], vot = nan, psc_factor = 0.0, avg abs theta fixed effect = 0, avg alpha=0.15, avg beta=4, loss demand=3.2e-29, relative x=1.4e-16, relative gap=1e+10, train tt equilibrium loss=5e-36, train flow equilibrium loss=3.1e-26, time:  12.7\n",
      "\n",
      "Epoch: 10, n_train: 10, n_test: 10\n",
      "\n",
      "10: train_loss=1.9e+06, val_loss=2e+06, train_loss tt=2.1e-05, val_loss tt=2e-05, train_loss flow=1.6e+06, val_loss flow=1.7e+06, theta = [-2.0673 -2.3388  0.     -2.5775 -2.1559 -2.2133], vot = nan, psc_factor = 0.0, avg abs theta fixed effect = 0.98, avg alpha=0.58, avg beta=4, loss demand=3.1e+02, relative x=0.47, relative gap=0.03, train tt equilibrium loss=2.2e-06, train flow equilibrium loss=1.4e+05, time:  189.3\n",
      "\n",
      "Epoch: 20, n_train: 10, n_test: 10\n",
      "\n",
      "20: train_loss=1.6e+06, val_loss=1.7e+06, train_loss tt=2.1e-05, val_loss tt=2.1e-05, train_loss flow=1.3e+06, val_loss flow=1.4e+06, theta = [-2.6241 -3.0529  0.     -3.2461 -2.7493 -2.8579], vot = nan, psc_factor = 0.0, avg abs theta fixed effect = 1.2, avg alpha=0.59, avg beta=4, loss demand=1.2e+03, relative x=0.39, relative gap=0.014, train tt equilibrium loss=2e-06, train flow equilibrium loss=1.1e+05, time:  192.7\n",
      "\n",
      "Epoch: 30, n_train: 10, n_test: 10\n",
      "\n",
      "30: train_loss=1.4e+06, val_loss=1.6e+06, train_loss tt=2.1e-05, val_loss tt=2.1e-05, train_loss flow=1.1e+06, val_loss flow=1.3e+06, theta = [-2.8534 -3.3247  0.     -3.3633 -3.0004 -3.1194], vot = nan, psc_factor = 0.0, avg abs theta fixed effect = 1.4, avg alpha=0.6, avg beta=4, loss demand=2.7e+03, relative x=0.27, relative gap=0.0094, train tt equilibrium loss=1e-06, train flow equilibrium loss=5.8e+04, time:  188.7\n",
      "\n",
      "Epoch: 40, n_train: 10, n_test: 10\n",
      "\n",
      "40: train_loss=1.2e+06, val_loss=1.4e+06, train_loss tt=2.1e-05, val_loss tt=2.1e-05, train_loss flow=1e+06, val_loss flow=1.2e+06, theta = [-2.96   -3.4332  0.     -3.3296 -3.1258 -3.2531], vot = nan, psc_factor = 0.0, avg abs theta fixed effect = 1.4, avg alpha=0.61, avg beta=4, loss demand=4.8e+03, relative x=0.19, relative gap=0.0051, train tt equilibrium loss=5.3e-07, train flow equilibrium loss=2.4e+04, time:  190.4\n",
      "\n",
      "Epoch: 50, n_train: 10, n_test: 10\n",
      "\n",
      "50: train_loss=1.2e+06, val_loss=1.4e+06, train_loss tt=2.1e-05, val_loss tt=2.1e-05, train_loss flow=9.3e+05, val_loss flow=1.1e+06, theta = [-3.0199 -3.4687  0.     -3.3052 -3.176  -3.3141], vot = nan, psc_factor = 0.0, avg abs theta fixed effect = 1.5, avg alpha=0.62, avg beta=4, loss demand=7.3e+03, relative x=0.15, relative gap=0.003, train tt equilibrium loss=2.9e-07, train flow equilibrium loss=8.6e+03, time:  195.4\n",
      "\n",
      "Epoch: 60, n_train: 10, n_test: 10\n",
      "\n",
      "60: train_loss=1.1e+06, val_loss=1.3e+06, train_loss tt=2.1e-05, val_loss tt=2.1e-05, train_loss flow=8.9e+05, val_loss flow=1.1e+06, theta = [-3.0672 -3.478   0.     -3.2853 -3.1915 -3.3519], vot = nan, psc_factor = 0.0, avg abs theta fixed effect = 1.5, avg alpha=0.63, avg beta=4, loss demand=9.8e+03, relative x=0.16, relative gap=0.0015, train tt equilibrium loss=1.6e-07, train flow equilibrium loss=3.8e+03, time:  187.2\n",
      "\n",
      "Epoch: 70, n_train: 10, n_test: 10\n",
      "\n",
      "70: train_loss=1.1e+06, val_loss=1.3e+06, train_loss tt=2.1e-05, val_loss tt=2.1e-05, train_loss flow=8.6e+05, val_loss flow=1e+06, theta = [-3.1023 -3.4726  0.     -3.2646 -3.1868 -3.3649], vot = nan, psc_factor = 0.0, avg abs theta fixed effect = 1.5, avg alpha=0.63, avg beta=4, loss demand=1.2e+04, relative x=0.12, relative gap=0.00099, train tt equilibrium loss=7.7e-08, train flow equilibrium loss=1.8e+03, time:  190.9\n",
      "\n",
      "Epoch: 75, n_train: 10, n_test: 10\n",
      "\n",
      "75: train_loss=1.1e+06, val_loss=1.3e+06, train_loss tt=2.1e-05, val_loss tt=2.1e-05, train_loss flow=8.6e+05, val_loss flow=1e+06, theta = [-3.1164 -3.469   0.     -3.2586 -3.1863 -3.3677], vot = nan, psc_factor = 0.0, avg abs theta fixed effect = 1.5, avg alpha=0.63, avg beta=4, loss demand=1.3e+04, relative x=0.12, relative gap=5.7e-05, train tt equilibrium loss=4.8e-08, train flow equilibrium loss=1.3e+03, time:  95.0\n",
      "theta = {'tt': -3.1164069462399246, 'speed_sd': -3.468993491065452, 'median_inc': 0.0, 'incidents': -3.258574597231946, 'bus_stops': -3.1862784456386737, 'intersections': -3.367732502111844}\n",
      "alpha =  0.63, beta  =  4.00\n",
      "Avg abs diff of observed and estimated OD:  34.31\n",
      "Avg observed OD:  9.51\n"
     ]
    },
    {
     "data": {
      "text/plain": "<Figure size 432x288 with 1 Axes>",
      "image/png": "[encoded data removed]"
     },
     "metadata": {},
     "output_type": "display_data"
    }
   ],
   "source": [
    "if run_model['odlulpe-1']:\n",
    "\n",
    "    print('\\nODLULPE: ODLUE + link performance parameters with historic OD matrix (link specifics alpha)')\n",
    "\n",
    "    optimizer = tf.keras.optimizers.Adam(learning_rate=_LR)\n",
    "\n",
    "    # _LR = 1e-2\n",
    "    # _RELATIVE_GAP = 1e-5\n",
    "    # _XTICKS_SPACING = 50\n",
    "\n",
    "    # Some initializations of the bpr parameters, makes the optimization to fail (e.g. alpha =1, beta = 1). Using a common\n",
    "    # alpha but different betas for every link make the estimation more stable but there is overfitting after a certain amount of iterations\n",
    "\n",
    "    bpr_parameters = BPRParameters(keys=['alpha', 'beta'],\n",
    "                                   # initial_values={'alpha': 0.15*np.ones_like(fresno_network.links,dtype = np.float32),\n",
    "                                   #                 'beta': 4*np.ones_like(fresno_network.links,dtype = np.float32)},\n",
    "                                   initial_values={'alpha': 0.15*np.ones_like(fresno_network.links,dtype = np.float32),\n",
    "                                                   'beta': 4},\n",
    "                                   # initial_values={'alpha': 0.15, 'beta': 4},\n",
    "                                   # initial_values={'alpha': 0.15,\n",
    "                                   #                 'beta': 4 * np.ones_like(fresno_network.links, dtype=np.float32)},\n",
    "                                   # initial_values={'alpha': 0.15, 'beta': 4},\n",
    "                                   trainables={'alpha': True, 'beta':False},\n",
    "                                   # trainables={'alpha': True, 'beta': True},\n",
    "                                   # trainables={'alpha': False, 'beta': True},\n",
    "                                   )\n",
    "\n",
    "    od_parameters = ODParameters(key='od',\n",
    "                                 periods=1,\n",
    "                                 initial_values=fresno_network.q.flatten(),\n",
    "                                 historic_values={1: fresno_network.q.flatten()},\n",
    "                                 trainable=True)\n",
    "\n",
    "    utility_parameters = UtilityParameters(features_Y=['tt'],\n",
    "                                           features_Z=features_Z,\n",
    "                                           periods=1,\n",
    "                                           initial_values={'psc_factor': 0, 'tt':0,\n",
    "                                                           'fixed_effect': np.zeros_like(fresno_network.links)},\n",
    "                                           signs={'tt': '-', 'speed_sd': '-', 'median_inc': '+', 'incidents': '-',\n",
    "                                                  'bus_stops': '-', 'intersections': '-'},\n",
    "                                           trainables={'psc_factor': False, 'fixed_effect': True,\n",
    "                                                       'tt': True, 'speed_sd': True, 'median_inc': True,\n",
    "                                                       'incidents': True,\n",
    "                                                       'bus_stops': True, 'intersections': True\n",
    "                                                       },\n",
    "                                           )\n",
    "\n",
    "    equilibrator = Equilibrator(\n",
    "        network=fresno_network,\n",
    "        # paths_generator=paths_generator,\n",
    "        utility=utility_parameters,\n",
    "        max_iters=100,\n",
    "        method='fw',\n",
    "        iters_fw=50,\n",
    "        accuracy=1e-4,\n",
    "    )\n",
    "\n",
    "    column_generator = ColumnGenerator(equilibrator=equilibrator,\n",
    "                                       utility=utility_parameters,\n",
    "                                       n_paths=0,\n",
    "                                       ods_coverage=0.1,\n",
    "                                       ods_sampling='sequential',\n",
    "                                       # ods_sampling='demand',\n",
    "                                       )\n",
    "\n",
    "    odlulpe_1 = GISUELOGIT(\n",
    "        key='odlulpe-1',\n",
    "        network=fresno_network,\n",
    "        dtype=tf.float64,\n",
    "        equilibrator=equilibrator,\n",
    "        column_generator=column_generator,\n",
    "        utility=utility_parameters,\n",
    "        bpr=bpr_parameters,\n",
    "        od=od_parameters,\n",
    "    )\n",
    "\n",
    "    train_losses_dfs['odlulpe-1'], val_losses_dfs['odlulpe-1'] = odlulpe_1.train(\n",
    "        X_train, Y_train, X_test, Y_test,\n",
    "        optimizer=optimizer,\n",
    "        # generalization_error={'train': False, 'validation': True},\n",
    "        batch_size=_BATCH_SIZE,\n",
    "        # loss_weights={'od': 1, 'theta': 0, 'tt': 1, 'flow': 1, 'eq_flow': 1},\n",
    "        loss_weights={'od': 1, 'theta': 0, 'tt': 1e10, 'flow': 1, 'eq_flow': 1},\n",
    "        threshold_relative_gap=_RELATIVE_GAP,\n",
    "        epochs_print_interval=_EPOCHS_PRINT_INTERVAL,\n",
    "        # loss_metric=mnrmse,\n",
    "        epochs=_EPOCHS)\n",
    "\n",
    "    plot_predictive_performance(train_losses=train_losses_dfs['odlulpe-1'], val_losses=val_losses_dfs['odlulpe-1'],\n",
    "                                xticks_spacing = _XTICKS_SPACING)\n",
    "\n",
    "    print(f\"theta = {dict(zip(utility_parameters.true_values.keys(), list(odlulpe_1.theta.numpy())))}\")\n",
    "    print(f\"alpha = {np.mean(odlulpe_1.alpha): 0.2f}, beta  = {np.mean(odlulpe_1.beta): 0.2f}\")\n",
    "    print(f\"Avg abs diff of observed and estimated OD: {np.mean(np.abs(odlulpe_1.q - fresno_network.q.flatten())): 0.2f}\")\n",
    "    print(f\"Avg observed OD: {np.mean(np.abs(fresno_network.q.flatten())): 0.2f}\")"
   ]
  },
  {
   "cell_type": "markdown",
   "metadata": {},
   "source": [
    "### Model 4: ODLUE + link specific performance parameters (alphas and betas)"
   ]
  },
  {
   "cell_type": "code",
   "execution_count": 24,
   "metadata": {},
   "outputs": [
    {
     "name": "stdout",
     "output_type": "stream",
     "text": [
      "\n",
      "ODLULPE: ODLUE + link performance parameters with historic OD matrix (link specifics alphas and betas)\n",
      "\n",
      "Epoch: 0, n_train: 10, n_test: 10\n",
      "\n",
      "0: train_loss=2.7e+06, val_loss=2.7e+06, train_loss tt=3.8e-05, val_loss tt=3.6e-05, train_loss flow=2.3e+06, val_loss flow=2.3e+06, theta = [0. 0. 0. 0. 0. 0.], vot = nan, psc_factor = 0.0, avg abs theta fixed effect = 0, avg alpha=0.15, avg beta=4, loss demand=3.2e-29, relative x=1.4e-16, relative gap=1e+10, train tt equilibrium loss=4.9e-36, train flow equilibrium loss=3.1e-26, time:  13.0\n",
      "\n",
      "Epoch: 10, n_train: 10, n_test: 10\n",
      "\n",
      "10: train_loss=1.9e+06, val_loss=2e+06, train_loss tt=1.9e-05, val_loss tt=1.8e-05, train_loss flow=1.6e+06, val_loss flow=1.7e+06, theta = [-2.0902 -2.3339  0.     -2.559  -2.1553 -2.208 ], vot = nan, psc_factor = 0.0, avg abs theta fixed effect = 0.98, avg alpha=0.58, avg beta=2.4, loss demand=3.2e+02, relative x=0.48, relative gap=0.029, train tt equilibrium loss=1.6e-06, train flow equilibrium loss=1.5e+05, time:  187.9\n",
      "\n",
      "Epoch: 20, n_train: 10, n_test: 10\n",
      "\n",
      "20: train_loss=1.6e+06, val_loss=1.7e+06, train_loss tt=1.9e-05, val_loss tt=1.8e-05, train_loss flow=1.3e+06, val_loss flow=1.4e+06, theta = [-2.6598 -3.0518  0.     -3.2292 -2.762  -2.8497], vot = nan, psc_factor = 0.0, avg abs theta fixed effect = 1.2, avg alpha=0.6, avg beta=2.4, loss demand=1.3e+03, relative x=38, relative gap=0.016, train tt equilibrium loss=7.6e-07, train flow equilibrium loss=1.2e+05, time:  188.1\n",
      "\n",
      "Epoch: 30, n_train: 10, n_test: 10\n",
      "\n",
      "30: train_loss=1.3e+06, val_loss=1.5e+06, train_loss tt=1.9e-05, val_loss tt=1.8e-05, train_loss flow=1.1e+06, val_loss flow=1.2e+06, theta = [-2.8906 -3.3288  0.     -3.3024 -3.0084 -3.1002], vot = nan, psc_factor = 0.0, avg abs theta fixed effect = 1.4, avg alpha=0.6, avg beta=2.4, loss demand=2.8e+03, relative x=0.28, relative gap=0.012, train tt equilibrium loss=2.7e-07, train flow equilibrium loss=6.3e+04, time:  188.5\n",
      "\n",
      "Epoch: 40, n_train: 10, n_test: 10\n",
      "\n",
      "40: train_loss=1.2e+06, val_loss=1.4e+06, train_loss tt=1.8e-05, val_loss tt=1.8e-05, train_loss flow=9.8e+05, val_loss flow=1.1e+06, theta = [-2.9938 -3.4445  0.     -3.2534 -3.1093 -3.2095], vot = nan, psc_factor = 0.0, avg abs theta fixed effect = 1.4, avg alpha=0.61, avg beta=2.4, loss demand=5.1e+03, relative x=0.21, relative gap=0.0071, train tt equilibrium loss=1.4e-07, train flow equilibrium loss=2.8e+04, time:  188.6\n",
      "\n",
      "Epoch: 50, n_train: 10, n_test: 10\n",
      "\n",
      "50: train_loss=1.1e+06, val_loss=1.3e+06, train_loss tt=1.8e-05, val_loss tt=1.8e-05, train_loss flow=9.1e+05, val_loss flow=1.1e+06, theta = [-3.0473 -3.4837  0.     -3.2354 -3.1359 -3.261 ], vot = nan, psc_factor = 0.0, avg abs theta fixed effect = 1.5, avg alpha=0.62, avg beta=2.4, loss demand=8e+03, relative x=0.18, relative gap=0.0044, train tt equilibrium loss=5.5e-08, train flow equilibrium loss=1e+04, time:  192.7\n",
      "\n",
      "Epoch: 60, n_train: 10, n_test: 10\n",
      "\n",
      "60: train_loss=1.1e+06, val_loss=1.3e+06, train_loss tt=1.8e-05, val_loss tt=1.8e-05, train_loss flow=8.6e+05, val_loss flow=1.1e+06, theta = [-3.0756 -3.4927  0.     -3.2459 -3.1265 -3.2721], vot = nan, psc_factor = 0.0, avg abs theta fixed effect = 1.5, avg alpha=0.62, avg beta=2.4, loss demand=1.1e+04, relative x=0.31, relative gap=0.0015, train tt equilibrium loss=2.1e-08, train flow equilibrium loss=3.8e+03, time:  187.7\n",
      "\n",
      "Epoch: 70, n_train: 10, n_test: 10\n",
      "\n",
      "70: train_loss=1e+06, val_loss=1.3e+06, train_loss tt=1.8e-05, val_loss tt=1.8e-05, train_loss flow=8.4e+05, val_loss flow=1e+06, theta = [-3.0917 -3.496   0.     -3.2372 -3.1192 -3.2603], vot = nan, psc_factor = 0.0, avg abs theta fixed effect = 1.5, avg alpha=0.62, avg beta=2.4, loss demand=1.3e+04, relative x=0.15, relative gap=0.00011, train tt equilibrium loss=1e-08, train flow equilibrium loss=1.8e+03, time:  186.2\n",
      "\n",
      "Epoch: 77, n_train: 10, n_test: 10\n",
      "\n",
      "77: train_loss=1e+06, val_loss=1.2e+06, train_loss tt=1.8e-05, val_loss tt=1.8e-05, train_loss flow=8.3e+05, val_loss flow=1e+06, theta = [-3.101  -3.4951  0.     -3.2155 -3.118  -3.2518], vot = nan, psc_factor = 0.0, avg abs theta fixed effect = 1.5, avg alpha=0.63, avg beta=2.4, loss demand=1.5e+04, relative x=0.14, relative gap=-6.4e-05, train tt equilibrium loss=6.4e-09, train flow equilibrium loss=1.1e+03, time:  130.4\n",
      "theta = {'tt': -3.101022889068678, 'speed_sd': -3.495118611861742, 'median_inc': 0.0, 'incidents': -3.2155489158287276, 'bus_stops': -3.11796897672199, 'intersections': -3.2517618322459114}\n",
      "alpha =  0.63, beta  =  2.43\n",
      "Avg abs diff of observed and estimated OD:  36.37\n",
      "Avg observed OD:  9.51\n"
     ]
    },
    {
     "data": {
      "text/plain": "<Figure size 432x288 with 1 Axes>",
      "image/png": "[encoded data removed]"
     },
     "metadata": {},
     "output_type": "display_data"
    }
   ],
   "source": [
    "if run_model['odlulpe-2']:\n",
    "\n",
    "    print('\\nODLULPE: ODLUE + link performance parameters with historic OD matrix (link specifics alphas and betas)')\n",
    "\n",
    "    optimizer = tf.keras.optimizers.Adam(learning_rate=_LR)\n",
    "\n",
    "    # _LR = 5e-1\n",
    "    # _RELATIVE_GAP = 1e-5\n",
    "\n",
    "    # Some initializations of the bpr parameters, makes the optimization to fail (e.g. alpha =1, beta = 1). Using a common\n",
    "    # alpha but different betas for every link make the estimation more stable but there is overfitting after a certain amount of iterations\n",
    "\n",
    "    bpr_parameters = BPRParameters(keys=['alpha', 'beta'],\n",
    "                                   initial_values={'alpha': 0.15*np.ones_like(fresno_network.links,dtype = np.float32),\n",
    "                                                   'beta': 4*np.ones_like(fresno_network.links,dtype = np.float32)},\n",
    "                                   # initial_values={'alpha': 0.15*np.ones_like(fresno_network.links,dtype = np.float32),\n",
    "                                   #                 'beta': 4},\n",
    "                                   # initial_values={'alpha': 0.15, 'beta': 4},\n",
    "                                   # initial_values={'alpha': 0.15,\n",
    "                                   #                 'beta': 4 * np.ones_like(fresno_network.links, dtype=np.float32)},\n",
    "                                   # initial_values={'alpha': 0.15, 'beta': 4},\n",
    "                                   # trainables={'alpha': True, 'beta':False},\n",
    "                                   trainables={'alpha': True, 'beta': True},\n",
    "                                   # trainables={'alpha': False, 'beta': True},\n",
    "                                   )\n",
    "\n",
    "    od_parameters = ODParameters(key='od',\n",
    "                                 periods=1,\n",
    "                                 initial_values=fresno_network.q.flatten(),\n",
    "                                 historic_values={1: fresno_network.q.flatten()},\n",
    "                                 trainable=True)\n",
    "\n",
    "    utility_parameters = UtilityParameters(features_Y=['tt'],\n",
    "                                           features_Z=features_Z,\n",
    "                                           periods=1,\n",
    "                                           initial_values={'psc_factor': 0, 'tt':0,\n",
    "                                                           'fixed_effect': np.zeros_like(fresno_network.links)},\n",
    "                                           signs={'tt': '-', 'speed_sd': '-', 'median_inc': '+', 'incidents': '-',\n",
    "                                                  'bus_stops': '-', 'intersections': '-'},\n",
    "                                           trainables={'psc_factor': False, 'fixed_effect': True,\n",
    "                                                       'tt': True, 'speed_sd': True, 'median_inc': True,\n",
    "                                                       'incidents': True,\n",
    "                                                       'bus_stops': True, 'intersections': True\n",
    "                                                       },\n",
    "                                           )\n",
    "\n",
    "    equilibrator = Equilibrator(\n",
    "        network=fresno_network,\n",
    "        # paths_generator=paths_generator,\n",
    "        utility=utility_parameters,\n",
    "        max_iters=100,\n",
    "        method='fw',\n",
    "        iters_fw=50,\n",
    "        accuracy=1e-4,\n",
    "    )\n",
    "\n",
    "    column_generator = ColumnGenerator(equilibrator=equilibrator,\n",
    "                                       utility=utility_parameters,\n",
    "                                       n_paths=0,\n",
    "                                       ods_coverage=0.1,\n",
    "                                       ods_sampling='sequential',\n",
    "                                       # ods_sampling='demand',\n",
    "                                       )\n",
    "\n",
    "    odlulpe_2 = GISUELOGIT(\n",
    "        key='odlulpe_2',\n",
    "        network=fresno_network,\n",
    "        dtype=tf.float64,\n",
    "        equilibrator=equilibrator,\n",
    "        column_generator=column_generator,\n",
    "        utility=utility_parameters,\n",
    "        bpr=bpr_parameters,\n",
    "        od=od_parameters,\n",
    "    )\n",
    "\n",
    "    train_losses_dfs['odlulpe_2'], val_losses_dfs['odlulpe_2'] = odlulpe_2.train(\n",
    "        X_train, Y_train, X_test, Y_test,\n",
    "        optimizer=optimizer,\n",
    "        # generalization_error={'train': False, 'validation': True},\n",
    "        batch_size=_BATCH_SIZE,\n",
    "        # loss_weights={'od': 1, 'theta': 0, 'tt': 1, 'flow': 1, 'eq_flow': 1},\n",
    "        loss_weights={'od': 1, 'theta': 0, 'tt': 1e10, 'flow': 1, 'eq_flow': 1},\n",
    "        threshold_relative_gap=_RELATIVE_GAP,\n",
    "        epochs_print_interval=_EPOCHS_PRINT_INTERVAL,\n",
    "        # loss_metric=mnrmse,\n",
    "        epochs=_EPOCHS)\n",
    "\n",
    "    plot_predictive_performance(train_losses=train_losses_dfs['odlulpe_2'], val_losses=val_losses_dfs['odlulpe_2'],\n",
    "                                xticks_spacing = _XTICKS_SPACING)\n",
    "\n",
    "    print(f\"theta = {dict(zip(utility_parameters.true_values.keys(), list(odlulpe_2.theta.numpy())))}\")\n",
    "    print(f\"alpha = {np.mean(odlulpe_2.alpha): 0.2f}, beta  = {np.mean(odlulpe_2.beta): 0.2f}\")\n",
    "    print(f\"Avg abs diff of observed and estimated OD: {np.mean(np.abs(odlulpe_2.q - fresno_network.q.flatten())): 0.2f}\")\n",
    "    print(f\"Avg observed OD: {np.mean(np.abs(fresno_network.q.flatten())): 0.2f}\")"
   ]
  },
  {
   "cell_type": "code",
   "execution_count": 24,
   "metadata": {},
   "outputs": [],
   "source": []
  }
 ],
 "metadata": {
  "kernelspec": {
   "display_name": "aesuelogit-1kW0OCrg-py3.9",
   "language": "python",
   "name": "aesuelogit-1kw0ocrg-py3.9"
  },
  "language_info": {
   "codemirror_mode": {
    "name": "ipython",
    "version": 3
   },
   "file_extension": ".py",
   "mimetype": "text/x-python",
   "name": "python",
   "nbconvert_exporter": "python",
   "pygments_lexer": "ipython3",
   "version": "3.9.1"
  }
 },
 "nbformat": 4,
 "nbformat_minor": 1
}
