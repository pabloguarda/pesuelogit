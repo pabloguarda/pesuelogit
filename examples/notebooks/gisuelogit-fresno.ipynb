{
 "cells": [
  {
   "cell_type": "markdown",
   "metadata": {
    "collapsed": true
   },
   "source": [
    "## Setup"
   ]
  },
  {
   "cell_type": "code",
   "execution_count": 1,
   "metadata": {},
   "outputs": [],
   "source": [
    "import os\n",
    "from pathlib import Path\n",
    "from sklearn.model_selection import train_test_split\n",
    "from sklearn import preprocessing\n",
    "import matplotlib.pyplot as plt\n",
    "import seaborn as sns\n",
    "from datetime import datetime\n",
    "\n",
    "import numpy as np\n",
    "import pandas as pd\n",
    "import random\n",
    "# import cudf as pd\n",
    "import tensorflow as tf\n",
    "import isuelogit as isl\n",
    "import glob"
   ]
  },
  {
   "cell_type": "code",
   "execution_count": 2,
   "metadata": {},
   "outputs": [
    {
     "name": "stdout",
     "output_type": "stream",
     "text": [
      "main dir: /Users/pablo/Library/CloudStorage/OneDrive-Personal/data-science/github/gisuelogit\n"
     ]
    }
   ],
   "source": [
    "# Path management\n",
    "main_dir = str(Path(os.path.abspath('')).parents[1])\n",
    "os.chdir(main_dir)\n",
    "print('main dir:', main_dir)\n",
    "\n",
    "isl.config.dirs['read_network_data'] = \"input/network-data/fresno/\""
   ]
  },
  {
   "cell_type": "code",
   "execution_count": 3,
   "metadata": {},
   "outputs": [],
   "source": [
    "# Internal modules\n",
    "from src.gisuelogit.models import UtilityParameters, BPRParameters, ODParameters, GISUELOGIT, NGD\n",
    "from src.gisuelogit.visualizations import plot_predictive_performance, plot_convergence_estimates\n",
    "from src.gisuelogit.networks import load_k_shortest_paths, read_paths, build_fresno_network, \\\n",
    "    Equilibrator, sparsify_OD, ColumnGenerator, read_OD\n",
    "from src.gisuelogit.etl import get_design_tensor, get_y_tensor, data_curation, temporal_split, add_period_id\n",
    "from src.gisuelogit.descriptive_statistics import mse, btcg_mse, mnrmse, nrmse"
   ]
  },
  {
   "cell_type": "code",
   "execution_count": 4,
   "metadata": {},
   "outputs": [],
   "source": [
    "# Seed for reproducibility\n",
    "_SEED = 2022\n",
    "np.random.seed(_SEED)\n",
    "random.seed(_SEED)\n",
    "tf.random.set_seed(_SEED)"
   ]
  },
  {
   "cell_type": "markdown",
   "metadata": {},
   "source": [
    "## Build Fresno network"
   ]
  },
  {
   "cell_type": "code",
   "execution_count": 5,
   "metadata": {},
   "outputs": [],
   "source": [
    "fresno_network = build_fresno_network()"
   ]
  },
  {
   "cell_type": "markdown",
   "metadata": {},
   "source": [
    "## Read OD matrix"
   ]
  },
  {
   "cell_type": "code",
   "execution_count": 6,
   "metadata": {},
   "outputs": [
    {
     "name": "stdout",
     "output_type": "stream",
     "text": [
      "Matrix Q (1789, 1789) read in 0.0[s] with sparse format\n",
      "66266.3 trips were loaded among 6970 o-d pairs\n"
     ]
    }
   ],
   "source": [
    "read_OD(network=fresno_network, sparse=True)"
   ]
  },
  {
   "cell_type": "markdown",
   "metadata": {},
   "source": [
    "## Read paths"
   ]
  },
  {
   "cell_type": "code",
   "execution_count": 7,
   "metadata": {},
   "outputs": [
    {
     "name": "stdout",
     "output_type": "stream",
     "text": [
      "18289 paths were read in 25.0[s]              \n",
      "\n",
      "18289 paths were loaded in the network\n",
      "\n",
      "Updating incidence matrices\n",
      "\n",
      "Matrix D (2413, 18289) generated in 42.0[s]               \n",
      "\n",
      "Matrix M (6970, 18289) generated in 11.5[s]               \n",
      "\n",
      "Matrix C (18289, 18289) generated in 5.9[s]               \n",
      "\n"
     ]
    }
   ],
   "source": [
    "#read_paths(network=fresno_network, update_incidence_matrices=True, filename='paths-fresno.csv')\n",
    "read_paths(network=fresno_network, update_incidence_matrices=True, filename = 'paths-full-model-fresno.csv')\n",
    "\n",
    "# For quick testing\n",
    "# Q = fresno_network.load_OD(sparsify_OD(fresno_network.Q, prop_od_pairs=0.99))\n",
    "# load_k_shortest_paths(network=fresno_network, k=2, update_incidence_matrices=True)"
   ]
  },
  {
   "cell_type": "markdown",
   "metadata": {},
   "source": [
    "## Read spatiotemporal data"
   ]
  },
  {
   "cell_type": "code",
   "execution_count": 8,
   "metadata": {},
   "outputs": [],
   "source": [
    "folderpath = isl.config.dirs['read_network_data'] + 'links/spatiotemporal-data/'\n",
    "df = pd.concat([pd.read_csv(file) for file in glob.glob(folderpath + \"*fresno-link-data*\")], axis=0)\n",
    "\n",
    "df['date'] = pd.to_datetime(df['date'], format='%Y-%m-%d')\n",
    "# Select data from Tuesday to Thursday\n",
    "df = df[df['date'].dt.dayofweek.between(1, 3)]\n",
    "# df = df[df['date'].dt.year == 2019]\n",
    "\n",
    "df['period'] = df['date'].astype(str) + '-' + df['hour'].astype(str)\n",
    "df['period'] = df.period.map(hash)\n",
    "\n",
    "df = add_period_id(df, period_feature='hour')"
   ]
  },
  {
   "cell_type": "markdown",
   "metadata": {},
   "source": [
    "## Data curation"
   ]
  },
  {
   "cell_type": "code",
   "execution_count": 9,
   "metadata": {},
   "outputs": [],
   "source": [
    "df['tt_ff'] = np.where(df['link_type'] != 'LWRLK', 0,df['length']/df['speed_ref_avg'])\n",
    "df.loc[(df.link_type == \"LWRLK\") & (df.speed_ref_avg == 0),'tt_ff'] = float('nan')\n",
    "\n",
    "df['tt_avg'] = np.where(df['link_type'] != 'LWRLK', 0,df['length']/df['speed_hist_avg'])\n",
    "df.loc[(df.link_type == \"LWRLK\") & (df.speed_hist_avg == 0),'tt_avg'] = float('nan')\n",
    "\n",
    "df = data_curation(df)"
   ]
  },
  {
   "cell_type": "markdown",
   "metadata": {},
   "source": [
    "## Utility function"
   ]
  },
  {
   "cell_type": "code",
   "execution_count": 33,
   "metadata": {},
   "outputs": [],
   "source": [
    "# features_Z = ['speed_sd', 'median_inc', 'incidents', 'bus_stops', 'intersections']\n",
    "features_Z = ['tt_sd', 'median_inc', 'incidents', 'bus_stops', 'intersections']\n",
    "\n",
    "utility_parameters = UtilityParameters(features_Y=['tt'],\n",
    "                                       features_Z=features_Z,\n",
    "                                       initial_values={'tt': 0, 'c': 0, 's': 0, 'psc_factor': 0,\n",
    "                                                       'fixed_effect': np.zeros_like(fresno_network.links)},\n",
    "                                       signs={'tt': '-', 'tt_sd': '-', 'median_inc': '+', 'incidents': '-',\n",
    "                                              'bus_stops': '-', 'intersections': '-'},\n",
    "                                       trainables={'psc_factor': False, 'fixed_effect': False},\n",
    "                                       )\n",
    "\n",
    "utility_parameters.constant_initializer(0)"
   ]
  },
  {
   "cell_type": "markdown",
   "metadata": {},
   "source": [
    "## Data processing"
   ]
  },
  {
   "cell_type": "code",
   "execution_count": 34,
   "metadata": {},
   "outputs": [],
   "source": [
    "n_links = len(fresno_network.links)\n",
    "df['date'] = pd.to_datetime(df['date'], format='%Y-%m-%d')\n",
    "df['year'] = df.date.dt.year\n",
    "X, Y = {}, {}"
   ]
  },
  {
   "cell_type": "code",
   "execution_count": 39,
   "metadata": {},
   "outputs": [
    {
     "data": {
      "text/plain": "            counts         tt_ff        tt_avg      tf_inrix         tt_sd\ncount  4497.000000  77216.000000  67024.000000  77216.000000  77216.000000\nmean   2053.331221      0.003414      0.003869      0.200588      0.053870\nstd     797.870826      0.004370      0.004626      0.230463      0.094045\nmin       3.000000      0.000000      0.000000      0.000000      0.000000\n25%    1547.000000      0.000000      0.000000      0.000000      0.000000\n50%    1931.800000      0.002503      0.002919      0.150000      0.010000\n75%    2509.000000      0.004702      0.005659      0.288000      0.073000\nmax    4784.000000      0.070349      0.059900      4.605000      1.786000",
      "text/html": "<div>\n<style scoped>\n    .dataframe tbody tr th:only-of-type {\n        vertical-align: middle;\n    }\n\n    .dataframe tbody tr th {\n        vertical-align: top;\n    }\n\n    .dataframe thead th {\n        text-align: right;\n    }\n</style>\n<table border=\"1\" class=\"dataframe\">\n  <thead>\n    <tr style=\"text-align: right;\">\n      <th></th>\n      <th>counts</th>\n      <th>tt_ff</th>\n      <th>tt_avg</th>\n      <th>tf_inrix</th>\n      <th>tt_sd</th>\n    </tr>\n  </thead>\n  <tbody>\n    <tr>\n      <th>count</th>\n      <td>4497.000000</td>\n      <td>77216.000000</td>\n      <td>67024.000000</td>\n      <td>77216.000000</td>\n      <td>77216.000000</td>\n    </tr>\n    <tr>\n      <th>mean</th>\n      <td>2053.331221</td>\n      <td>0.003414</td>\n      <td>0.003869</td>\n      <td>0.200588</td>\n      <td>0.053870</td>\n    </tr>\n    <tr>\n      <th>std</th>\n      <td>797.870826</td>\n      <td>0.004370</td>\n      <td>0.004626</td>\n      <td>0.230463</td>\n      <td>0.094045</td>\n    </tr>\n    <tr>\n      <th>min</th>\n      <td>3.000000</td>\n      <td>0.000000</td>\n      <td>0.000000</td>\n      <td>0.000000</td>\n      <td>0.000000</td>\n    </tr>\n    <tr>\n      <th>25%</th>\n      <td>1547.000000</td>\n      <td>0.000000</td>\n      <td>0.000000</td>\n      <td>0.000000</td>\n      <td>0.000000</td>\n    </tr>\n    <tr>\n      <th>50%</th>\n      <td>1931.800000</td>\n      <td>0.002503</td>\n      <td>0.002919</td>\n      <td>0.150000</td>\n      <td>0.010000</td>\n    </tr>\n    <tr>\n      <th>75%</th>\n      <td>2509.000000</td>\n      <td>0.004702</td>\n      <td>0.005659</td>\n      <td>0.288000</td>\n      <td>0.073000</td>\n    </tr>\n    <tr>\n      <th>max</th>\n      <td>4784.000000</td>\n      <td>0.070349</td>\n      <td>0.059900</td>\n      <td>4.605000</td>\n      <td>1.786000</td>\n    </tr>\n  </tbody>\n</table>\n</div>"
     },
     "execution_count": 39,
     "metadata": {},
     "output_type": "execute_result"
    }
   ],
   "source": [
    "df.query('year == 2019')[['counts', 'tt_ff', 'tt_avg', 'tf_inrix', 'tt_sd']].describe()"
   ]
  },
  {
   "cell_type": "code",
   "execution_count": 40,
   "metadata": {},
   "outputs": [
    {
     "data": {
      "text/plain": "            counts         tt_ff        tt_avg      tf_inrix         tt_sd\ncount  3661.000000  62738.000000  56142.000000  62738.000000  62738.000000\nmean   1992.405818      0.003377      0.003777      0.199508      0.026840\nstd     798.893860      0.004327      0.004474      0.230470      0.043691\nmin      31.000000      0.000000      0.000000      0.000000      0.000000\n25%    1465.000000      0.000000      0.000000      0.000000      0.000000\n50%    1942.000000      0.002491      0.002880      0.151000      0.010000\n75%    2396.000000      0.004578      0.005436      0.279000      0.036000\nmax    4766.000000      0.070349      0.054574      3.775000      0.858000",
      "text/html": "<div>\n<style scoped>\n    .dataframe tbody tr th:only-of-type {\n        vertical-align: middle;\n    }\n\n    .dataframe tbody tr th {\n        vertical-align: top;\n    }\n\n    .dataframe thead th {\n        text-align: right;\n    }\n</style>\n<table border=\"1\" class=\"dataframe\">\n  <thead>\n    <tr style=\"text-align: right;\">\n      <th></th>\n      <th>counts</th>\n      <th>tt_ff</th>\n      <th>tt_avg</th>\n      <th>tf_inrix</th>\n      <th>tt_sd</th>\n    </tr>\n  </thead>\n  <tbody>\n    <tr>\n      <th>count</th>\n      <td>3661.000000</td>\n      <td>62738.000000</td>\n      <td>56142.000000</td>\n      <td>62738.000000</td>\n      <td>62738.000000</td>\n    </tr>\n    <tr>\n      <th>mean</th>\n      <td>1992.405818</td>\n      <td>0.003377</td>\n      <td>0.003777</td>\n      <td>0.199508</td>\n      <td>0.026840</td>\n    </tr>\n    <tr>\n      <th>std</th>\n      <td>798.893860</td>\n      <td>0.004327</td>\n      <td>0.004474</td>\n      <td>0.230470</td>\n      <td>0.043691</td>\n    </tr>\n    <tr>\n      <th>min</th>\n      <td>31.000000</td>\n      <td>0.000000</td>\n      <td>0.000000</td>\n      <td>0.000000</td>\n      <td>0.000000</td>\n    </tr>\n    <tr>\n      <th>25%</th>\n      <td>1465.000000</td>\n      <td>0.000000</td>\n      <td>0.000000</td>\n      <td>0.000000</td>\n      <td>0.000000</td>\n    </tr>\n    <tr>\n      <th>50%</th>\n      <td>1942.000000</td>\n      <td>0.002491</td>\n      <td>0.002880</td>\n      <td>0.151000</td>\n      <td>0.010000</td>\n    </tr>\n    <tr>\n      <th>75%</th>\n      <td>2396.000000</td>\n      <td>0.004578</td>\n      <td>0.005436</td>\n      <td>0.279000</td>\n      <td>0.036000</td>\n    </tr>\n    <tr>\n      <th>max</th>\n      <td>4766.000000</td>\n      <td>0.070349</td>\n      <td>0.054574</td>\n      <td>3.775000</td>\n      <td>0.858000</td>\n    </tr>\n  </tbody>\n</table>\n</div>"
     },
     "execution_count": 40,
     "metadata": {},
     "output_type": "execute_result"
    }
   ],
   "source": [
    "df.query('year == 2020')[['counts', 'tt_ff', 'tt_avg', 'tf_inrix', 'tt_sd']].describe()"
   ]
  },
  {
   "cell_type": "code",
   "execution_count": 41,
   "metadata": {},
   "outputs": [],
   "source": [
    "# Set free flow travel times\n",
    "tt_ff_links = df.groupby('link_key')['tt_ff'].min()\n",
    "for link in fresno_network.links:\n",
    "    fresno_network.links_dict[link.key].performance_function.tf = float(tt_ff_links[tt_ff_links.index==str(link.key)])"
   ]
  },
  {
   "cell_type": "code",
   "execution_count": 42,
   "outputs": [],
   "source": [
    "# Select only dates used for previous paper\n",
    "\n",
    "# df = df.query('date == \"2019-10-01\"  | date == \"2020-10-06\"')\n",
    "# df = df.query('date == \"2019-10-01\"')\n",
    "# df = df.query('hour == 16')\n",
    "# df = df.query('hour == 17')\n",
    "df = df.query('hour == 16 | hour == 17')"
   ],
   "metadata": {
    "collapsed": false
   }
  },
  {
   "cell_type": "markdown",
   "source": [
    "## EDA"
   ],
   "metadata": {
    "collapsed": false
   }
  },
  {
   "cell_type": "code",
   "execution_count": 43,
   "outputs": [],
   "source": [
    "eda_df = df.copy()\n",
    "eda_df['date'] = eda_df['date'].astype(str)\n",
    "\n",
    "# Transform to monthly income\n",
    "eda_df['median_inc'] = eda_df['median_inc']/12"
   ],
   "metadata": {
    "collapsed": false
   }
  },
  {
   "cell_type": "code",
   "execution_count": 44,
   "outputs": [
    {
     "data": {
      "text/plain": "<Figure size 640x480 with 1 Axes>",
      "image/png": "[encoded data removed]"
     },
     "metadata": {},
     "output_type": "display_data"
    }
   ],
   "source": [
    "sns.lineplot(x= 'date', y = 'counts', data =eda_df.groupby('date')[['counts']].mean().reset_index())\n",
    "plt.tight_layout()\n",
    "plt.xticks(rotation=90)\n",
    "plt.show()"
   ],
   "metadata": {
    "collapsed": false
   }
  },
  {
   "cell_type": "code",
   "execution_count": 45,
   "outputs": [
    {
     "data": {
      "text/plain": "<Figure size 640x480 with 1 Axes>",
      "image/png": "[encoded data removed]"
     },
     "metadata": {},
     "output_type": "display_data"
    }
   ],
   "source": [
    "sns.lineplot(x= 'date', y = 'speed_avg', data =eda_df.groupby('date')[['speed_avg']].mean().reset_index())\n",
    "plt.tight_layout()\n",
    "plt.xticks(rotation=90)\n",
    "plt.show()"
   ],
   "metadata": {
    "collapsed": false
   }
  },
  {
   "cell_type": "code",
   "execution_count": 46,
   "outputs": [
    {
     "data": {
      "text/plain": "<Figure size 640x480 with 1 Axes>",
      "image/png": "[encoded data removed]"
     },
     "metadata": {},
     "output_type": "display_data"
    }
   ],
   "source": [
    "sns.lineplot(x= 'date', y = 'value', hue = 'variable', data =pd.melt(eda_df.groupby('date')[features_Z].mean().reset_index(),id_vars= ['date']))\n",
    "plt.tight_layout()\n",
    "plt.xticks(rotation=90)\n",
    "plt.show()"
   ],
   "metadata": {
    "collapsed": false
   }
  },
  {
   "cell_type": "markdown",
   "metadata": {},
   "source": [
    "## Training and validation sets"
   ]
  },
  {
   "cell_type": "code",
   "execution_count": 47,
   "metadata": {},
   "outputs": [],
   "source": [
    "for year in sorted(df['year'].unique()):\n",
    "    df_year = df[df['year'] == year].sort_values('period')\n",
    "\n",
    "    n_timepoints = len(df_year.period.unique())\n",
    "\n",
    "    traveltime_data = get_y_tensor(y=df_year[['tt_avg']], n_links=n_links, n_timepoints=n_timepoints)\n",
    "    flow_data = get_y_tensor(y=df_year[['counts']], n_links=n_links, n_timepoints=n_timepoints)\n",
    "\n",
    "    Y[year] = tf.concat([traveltime_data, flow_data], axis=2)\n",
    "\n",
    "    X[year] = get_design_tensor(Z=df_year[features_Z+['period_id']], n_links=n_links, n_timepoints=n_timepoints)\n",
    "\n",
    "    tt_ff = get_design_tensor(Z=df_year[['tt_ff']], n_links=n_links, n_timepoints=n_timepoints)"
   ]
  },
  {
   "cell_type": "code",
   "execution_count": 48,
   "metadata": {},
   "outputs": [],
   "source": [
    "# Prepare the training and validation dataset\n",
    "\n",
    "# X = X[2019]\n",
    "# Y = Y[2019]\n",
    "\n",
    "# X_train, X_test, Y_train, Y_test = temporal_split(X[2019].numpy(), Y[2019].numpy(), n_days = X[2019].shape[0])\n",
    "\n",
    "X_train, X_test, Y_train, Y_test = X[2019], X[2020], Y[2019], Y[2020]\n",
    "# X_test, Y_test = None, None"
   ]
  },
  {
   "cell_type": "markdown",
   "metadata": {},
   "source": [
    "## Network equilibrium predictor"
   ]
  },
  {
   "cell_type": "code",
   "execution_count": 49,
   "metadata": {},
   "outputs": [],
   "source": [
    "equilibrator = Equilibrator(\n",
    "    network=fresno_network,\n",
    "    # paths_generator=paths_generator,\n",
    "    utility=utility_parameters,\n",
    "    max_iters=100,\n",
    "    method='fw',\n",
    "    iters_fw=50,\n",
    "    accuracy=1e-4,\n",
    ")\n",
    "\n",
    "column_generator = ColumnGenerator(equilibrator=equilibrator,\n",
    "                                   utility=utility_parameters,\n",
    "                                   n_paths=0,\n",
    "                                   ods_coverage=0.1,\n",
    "                                   ods_sampling='sequential',\n",
    "                                   # ods_sampling='demand',\n",
    "                                   )"
   ]
  },
  {
   "cell_type": "markdown",
   "metadata": {},
   "source": [
    "## Configuration"
   ]
  },
  {
   "cell_type": "code",
   "execution_count": 50,
   "metadata": {},
   "outputs": [
    {
     "name": "stdout",
     "output_type": "stream",
     "text": [
      "_LOSS_WEIGHTS: {'od': 0, 'tt': 1, 'flow': 1, 'eq_flow': 1}, _MOMENTUM_EQUILIBRIUM: {'lue': 0.99, 'odlue': 0.99, 'odlulpe-1': 0.99, 'odlulpe-2': 0.99, 'tvodlulpe': 0.99}, epochs {'learning': 500, 'equilibrium': 50}\n"
     ]
    }
   ],
   "source": [
    "#_EPOCHS = {'learning': 50, 'equilibrium': 10}\n",
    "_EPOCHS = {'learning': 500, 'equilibrium': 50}\n",
    "_BATCH_SIZE = None\n",
    "_LR = 5e-1\n",
    "_RELATIVE_GAP = 1e-5\n",
    "_XTICKS_SPACING = 50\n",
    "_EPOCHS_PRINT_INTERVAL = 5\n",
    "\n",
    "# Excluding historic OD gives more freedom for the model to find an equilibria and minimize reconstruction error\n",
    "_LOSS_WEIGHTS ={'od': 0, 'tt': 1, 'flow': 1, 'eq_flow': 1}\n",
    "\n",
    "# _LOSS_METRIC  = mnrmse\n",
    "# _MOMENTUM_EQUILIBRIUM = {'lue': 0.95, 'odlue': 0.95, 'odlulpe-1': 0.95, 'odlulpe-2': 0.95}\n",
    "\n",
    "# NRMSE encourages a larger reduction in link flow loss and it does not requires to add much momentum to the equilibrium loss component\n",
    "_LOSS_METRIC  = nrmse\n",
    "_MOMENTUM_EQUILIBRIUM = {'lue': 0.99, 'odlue': 0.99, 'odlulpe-1': 0.99, 'odlulpe-2': 0.99,\n",
    "                         'tvodlulpe':0.99}\n",
    "\n",
    "# Including historic OD matrix\n",
    "# _LOSS_WEIGHTS ={'od': 1, 'tt': 1, 'flow': 1, 'eq_flow': 1}\n",
    "# _MOMENTUM_EQUILIBRIUM = 0.99\n",
    "\n",
    "# _LOSS_METRIC = mse\n",
    "# _LOSS_WEIGHTS ={'od': 1, 'theta': 0, 'tt': 1e10, 'flow': 1, 'eq_flow': 1}\n",
    "\n",
    "print(f\"_LOSS_WEIGHTS: {_LOSS_WEIGHTS}, _MOMENTUM_EQUILIBRIUM: {_MOMENTUM_EQUILIBRIUM}, \"\n",
    "      f\"epochs { _EPOCHS}\")"
   ]
  },
  {
   "cell_type": "markdown",
   "metadata": {},
   "source": [
    "## Models"
   ]
  },
  {
   "cell_type": "code",
   "execution_count": 51,
   "metadata": {},
   "outputs": [],
   "source": [
    "run_model = dict.fromkeys(['equilibrium', 'lue', 'ode', 'odlue', 'odlulpe-1','odlulpe-2', 'tvodlulpe'], False)\n",
    "\n",
    "run_model['lue'] = True\n",
    "# run_model['ode'] = True\n",
    "# run_model['odlue'] = True\n",
    "# run_model['odlulpe-1'] = True\n",
    "# run_model['odlulpe-2'] = True\n",
    "run_model['tvodlulpe'] = True"
   ]
  },
  {
   "cell_type": "code",
   "execution_count": 52,
   "metadata": {},
   "outputs": [],
   "source": [
    "train_results_dfs = {}\n",
    "test_results_dfs = {}"
   ]
  },
  {
   "cell_type": "markdown",
   "metadata": {},
   "source": [
    "### Model 2: Benchmark of gisuelogit and isuelogit"
   ]
  },
  {
   "cell_type": "code",
   "execution_count": 55,
   "metadata": {},
   "outputs": [
    {
     "name": "stdout",
     "output_type": "stream",
     "text": [
      "\n",
      "LUE: Benchmark of gisuelogit and isuelogit (utility only)\n",
      "\n",
      "Epoch: 0/500, n_train: 32, n_test: 26\n",
      "\n",
      "0: train_loss=2.6e+06, val_loss=2.4e+06, train_loss tt=3.8e-05, val_loss tt=3.7e-05, train_loss flow=2.6e+06, val_loss flow=2.4e+06, theta = [0. 0. 0. 0. 0. 0.], vot = nan, psc_factor = 0.0, avg theta fixed effect = 0, avg alpha=0.15, avg beta=4, loss demand=3.2e-29, lambda eq=1, relative x=1.2e-16, relative gap=1e-05, train flow equilibrium loss=5e-26, time: 43.6\n",
      "\n",
      "Epoch: 1/500, n_train: 32, n_test: 26\n",
      "\n",
      "1: train_loss=9.7e+05, val_loss=9.1e+05, train_loss tt=3.6e-05, val_loss tt=3.5e-05, train_loss flow=2.5e+06, val_loss flow=2.4e+06, theta = [-0.4985 -0.4995  0.     -0.5    -0.4999 -0.5   ], vot = nan, psc_factor = 0.0, avg theta fixed effect = -0.0031, avg alpha=0.15, avg beta=4, loss demand=3.2e-29, lambda eq=0.34, relative x=0.23, relative gap=12, train flow equilibrium loss=3.7e+05, time: 49.9\n",
      "\n",
      "Epoch: 5/500, n_train: 32, n_test: 26\n",
      "\n",
      "5: train_loss=8.7e+05, val_loss=8.3e+05, train_loss tt=3.1e-05, val_loss tt=3e-05, train_loss flow=2.4e+06, val_loss flow=2.2e+06, theta = [-1.6842 -2.1161  0.     -1.7398 -2.0976 -1.8487], vot = nan, psc_factor = 0.0, avg theta fixed effect = -0.075, avg alpha=0.15, avg beta=4, loss demand=3.2e-29, lambda eq=0.34, relative x=0.27, relative gap=0.16, train flow equilibrium loss=3e+05, time: 127.1\n",
      "\n",
      "Epoch: 10/500, n_train: 32, n_test: 26\n",
      "\n",
      "10: train_loss=7.8e+05, val_loss=7.5e+05, train_loss tt=2.7e-05, val_loss tt=2.6e-05, train_loss flow=2.2e+06, val_loss flow=2e+06, theta = [-2.4957 -3.385   0.     -2.6095 -3.3021 -2.804 ], vot = nan, psc_factor = 0.0, avg theta fixed effect = -0.15, avg alpha=0.15, avg beta=4, loss demand=3.2e-29, lambda eq=0.36, relative x=0.33, relative gap=0.056, train flow equilibrium loss=2.5e+05, time: 157.6\n",
      "\n",
      "Epoch: 15/500, n_train: 32, n_test: 26\n",
      "\n",
      "15: train_loss=7.1e+05, val_loss=6.8e+05, train_loss tt=2.5e-05, val_loss tt=2.4e-05, train_loss flow=2e+06, val_loss flow=1.9e+06, theta = [-3.0125 -4.1811  0.     -3.0661 -4.0306 -3.3886], vot = nan, psc_factor = 0.0, avg theta fixed effect = -0.21, avg alpha=0.15, avg beta=4, loss demand=3.2e-29, lambda eq=0.37, relative x=0.38, relative gap=0.027, train flow equilibrium loss=2.3e+05, time: 150.3\n",
      "\n",
      "Epoch: 20/500, n_train: 32, n_test: 26\n",
      "\n",
      "20: train_loss=6.5e+05, val_loss=6.3e+05, train_loss tt=2.4e-05, val_loss tt=2.3e-05, train_loss flow=1.8e+06, val_loss flow=1.7e+06, theta = [-3.3813 -4.7099  0.     -3.2984 -4.458  -3.7448], vot = nan, psc_factor = 0.0, avg theta fixed effect = -0.26, avg alpha=0.15, avg beta=4, loss demand=3.2e-29, lambda eq=0.38, relative x=0.41, relative gap=0.014, train flow equilibrium loss=2.3e+05, time: 148.9\n",
      "\n",
      "Epoch: 25/500, n_train: 32, n_test: 26\n",
      "\n",
      "25: train_loss=6e+05, val_loss=5.9e+05, train_loss tt=2.3e-05, val_loss tt=2.2e-05, train_loss flow=1.7e+06, val_loss flow=1.6e+06, theta = [-3.6746 -5.1489  0.     -3.388  -4.7341 -3.9552], vot = nan, psc_factor = 0.0, avg theta fixed effect = -0.3, avg alpha=0.15, avg beta=4, loss demand=3.2e-29, lambda eq=0.39, relative x=0.42, relative gap=0.0072, train flow equilibrium loss=2.3e+05, time: 141.9\n",
      "\n",
      "Epoch: 30/500, n_train: 32, n_test: 26\n",
      "\n",
      "30: train_loss=5.6e+05, val_loss=5.6e+05, train_loss tt=2.3e-05, val_loss tt=2.2e-05, train_loss flow=1.6e+06, val_loss flow=1.5e+06, theta = [-3.9059 -5.4794  0.     -3.3631 -4.9276 -4.0734], vot = nan, psc_factor = 0.0, avg theta fixed effect = -0.33, avg alpha=0.15, avg beta=4, loss demand=3.2e-29, lambda eq=0.4, relative x=0.43, relative gap=0.0029, train flow equilibrium loss=2.3e+05, time: 149.5\n",
      "\n",
      "Epoch: 35/500, n_train: 32, n_test: 26\n",
      "\n",
      "35: train_loss=5.2e+05, val_loss=5.3e+05, train_loss tt=2.3e-05, val_loss tt=2.2e-05, train_loss flow=1.5e+06, val_loss flow=1.5e+06, theta = [-4.0957 -5.7216  0.     -3.232  -5.0282 -4.1422], vot = nan, psc_factor = 0.0, avg theta fixed effect = -0.35, avg alpha=0.15, avg beta=4, loss demand=3.2e-29, lambda eq=0.42, relative x=0.43, relative gap=0.00042, train flow equilibrium loss=2.3e+05, time: 137.9\n",
      "\n",
      "Epoch: 40/500, n_train: 32, n_test: 26\n",
      "\n",
      "40: train_loss=5e+05, val_loss=5.1e+05, train_loss tt=2.3e-05, val_loss tt=2.2e-05, train_loss flow=1.4e+06, val_loss flow=1.4e+06, theta = [-4.2645 -5.9553  0.     -3.0226 -5.0488 -4.1636], vot = nan, psc_factor = 0.0, avg theta fixed effect = -0.36, avg alpha=0.15, avg beta=4, loss demand=3.2e-29, lambda eq=0.43, relative x=0.43, relative gap=0.0029, train flow equilibrium loss=2.3e+05, time: 136.4\n",
      "\n",
      "Epoch: 45/500, n_train: 32, n_test: 26\n",
      "\n",
      "45: train_loss=4.8e+05, val_loss=5e+05, train_loss tt=2.3e-05, val_loss tt=2.2e-05, train_loss flow=1.4e+06, val_loss flow=1.4e+06, theta = [-4.4357 -6.1702  0.     -2.7561 -5.0363 -4.1439], vot = nan, psc_factor = 0.0, avg theta fixed effect = -0.38, avg alpha=0.15, avg beta=4, loss demand=3.2e-29, lambda eq=0.44, relative x=0.43, relative gap=0.0051, train flow equilibrium loss=2.3e+05, time: 142.4\n",
      "\n",
      "Epoch: 50/500, n_train: 32, n_test: 26\n",
      "\n",
      "50: train_loss=4.6e+05, val_loss=4.8e+05, train_loss tt=2.3e-05, val_loss tt=2.2e-05, train_loss flow=1.3e+06, val_loss flow=1.4e+06, theta = [-4.6125 -6.383   0.     -2.4073 -4.9547 -4.0984], vot = nan, psc_factor = 0.0, avg theta fixed effect = -0.39, avg alpha=0.15, avg beta=4, loss demand=3.2e-29, lambda eq=0.45, relative x=0.42, relative gap=0.0076, train flow equilibrium loss=2.2e+05, time: 140.8\n",
      "\n",
      "Epoch: 55/500, n_train: 32, n_test: 26\n",
      "\n",
      "55: train_loss=4.6e+05, val_loss=4.7e+05, train_loss tt=2.3e-05, val_loss tt=2.2e-05, train_loss flow=1.3e+06, val_loss flow=1.4e+06, theta = [-4.8057 -6.5645  0.     -1.9783 -4.8088 -4.0392], vot = nan, psc_factor = 0.0, avg theta fixed effect = -0.4, avg alpha=0.15, avg beta=4, loss demand=3.2e-29, lambda eq=0.46, relative x=0.41, relative gap=0.011, train flow equilibrium loss=2.1e+05, time: 142.5\n",
      "\n",
      "Epoch: 60/500, n_train: 32, n_test: 26\n",
      "\n",
      "60: train_loss=4.5e+05, val_loss=4.6e+05, train_loss tt=2.3e-05, val_loss tt=2.2e-05, train_loss flow=1.4e+06, val_loss flow=1.4e+06, theta = [-4.9836 -6.6264  0.     -1.4406 -4.4851 -3.9242], vot = nan, psc_factor = 0.0, avg theta fixed effect = -0.41, avg alpha=0.15, avg beta=4, loss demand=3.2e-29, lambda eq=0.48, relative x=0.4, relative gap=0.018, train flow equilibrium loss=1.9e+05, time: 135.1\n",
      "\n",
      "Epoch: 65/500, n_train: 32, n_test: 26\n",
      "\n",
      "65: train_loss=4.4e+05, val_loss=4.6e+05, train_loss tt=2.3e-05, val_loss tt=2.2e-05, train_loss flow=1.4e+06, val_loss flow=1.5e+06, theta = [-5.1299 -6.5592  0.     -0.8078 -3.9478 -3.7049], vot = nan, psc_factor = 0.0, avg theta fixed effect = -0.42, avg alpha=0.15, avg beta=4, loss demand=3.2e-29, lambda eq=0.49, relative x=0.38, relative gap=0.027, train flow equilibrium loss=1.6e+05, time: 157.7\n",
      "\n",
      "Epoch: 70/500, n_train: 32, n_test: 26\n",
      "\n",
      "70: train_loss=4.5e+05, val_loss=4.5e+05, train_loss tt=2.3e-05, val_loss tt=2.2e-05, train_loss flow=1.6e+06, val_loss flow=1.6e+06, theta = [-5.2879 -6.4186  0.     -0.2048 -3.1838 -3.3725], vot = nan, psc_factor = 0.0, avg theta fixed effect = -0.42, avg alpha=0.15, avg beta=4, loss demand=3.2e-29, lambda eq=0.5, relative x=0.36, relative gap=0.036, train flow equilibrium loss=1.2e+05, time: 162.8\n",
      "\n",
      "Epoch: 75/500, n_train: 32, n_test: 26\n",
      "\n",
      "75: train_loss=4.5e+05, val_loss=4.5e+05, train_loss tt=2.4e-05, val_loss tt=2.2e-05, train_loss flow=1.7e+06, val_loss flow=1.7e+06, theta = [-5.4736 -6.1502  0.      0.     -2.2425 -2.8814], vot = nan, psc_factor = 0.0, avg theta fixed effect = -0.43, avg alpha=0.15, avg beta=4, loss demand=3.2e-29, lambda eq=0.52, relative x=0.32, relative gap=0.035, train flow equilibrium loss=8.3e+04, time: 150.9\n",
      "\n",
      "Epoch: 80/500, n_train: 32, n_test: 26\n",
      "\n",
      "80: train_loss=4.7e+05, val_loss=4.6e+05, train_loss tt=2.4e-05, val_loss tt=2.3e-05, train_loss flow=1.9e+06, val_loss flow=1.8e+06, theta = [-5.7034 -5.8162  0.      0.     -1.278  -2.1593], vot = nan, psc_factor = 0.0, avg theta fixed effect = -0.43, avg alpha=0.15, avg beta=4, loss demand=3.2e-29, lambda eq=0.53, relative x=0.27, relative gap=0.064, train flow equilibrium loss=5e+04, time: 141.8\n",
      "\n",
      "Epoch: 85/500, n_train: 32, n_test: 26\n",
      "\n",
      "85: train_loss=4.9e+05, val_loss=4.7e+05, train_loss tt=2.4e-05, val_loss tt=2.3e-05, train_loss flow=2.1e+06, val_loss flow=2e+06, theta = [-5.9605 -5.4162  0.      0.     -0.2341 -1.2832], vot = nan, psc_factor = 0.0, avg theta fixed effect = -0.43, avg alpha=0.15, avg beta=4, loss demand=3.2e-29, lambda eq=0.54, relative x=0.2, relative gap=0.1, train flow equilibrium loss=2.7e+04, time: 150.4\n",
      "\n",
      "Epoch: 90/500, n_train: 32, n_test: 26\n",
      "\n",
      "90: train_loss=5.2e+05, val_loss=4.8e+05, train_loss tt=2.5e-05, val_loss tt=2.3e-05, train_loss flow=2.3e+06, val_loss flow=2.1e+06, theta = [-6.4942 -5.1772  0.      0.      0.     -1.1646], vot = nan, psc_factor = 0.0, avg theta fixed effect = -0.45, avg alpha=0.15, avg beta=4, loss demand=3.2e-29, lambda eq=0.55, relative x=0.14, relative gap=0.012, train flow equilibrium loss=1.4e+04, time: 147.0\n",
      "\n",
      "Epoch: 95/500, n_train: 32, n_test: 26\n",
      "\n",
      "95: train_loss=5.3e+05, val_loss=4.9e+05, train_loss tt=2.5e-05, val_loss tt=2.4e-05, train_loss flow=2.4e+06, val_loss flow=2.2e+06, theta = [-6.9606 -4.5866  0.      0.      0.     -0.8204], vot = nan, psc_factor = 0.0, avg theta fixed effect = -0.48, avg alpha=0.15, avg beta=4, loss demand=3.2e-29, lambda eq=0.57, relative x=0.095, relative gap=0.073, train flow equilibrium loss=7.3e+03, time: 149.6\n",
      "\n",
      "Epoch: 100/500, n_train: 32, n_test: 26\n",
      "\n",
      "100: train_loss=5.4e+05, val_loss=4.9e+05, train_loss tt=2.6e-05, val_loss tt=2.5e-05, train_loss flow=2.5e+06, val_loss flow=2.3e+06, theta = [-7.4258 -4.0439  0.      0.      0.     -0.3341], vot = nan, psc_factor = 0.0, avg theta fixed effect = -0.52, avg alpha=0.15, avg beta=4, loss demand=3.2e-29, lambda eq=0.58, relative x=0.066, relative gap=0.13, train flow equilibrium loss=3.3e+03, time: 137.3\n",
      "\n",
      "Epoch: 105/500, n_train: 32, n_test: 26\n",
      "\n",
      "105: train_loss=5.3e+05, val_loss=4.8e+05, train_loss tt=2.7e-05, val_loss tt=2.6e-05, train_loss flow=2.6e+06, val_loss flow=2.3e+06, theta = [-7.9468 -3.5684  0.      0.      0.      0.    ], vot = nan, psc_factor = 0.0, avg theta fixed effect = -0.56, avg alpha=0.15, avg beta=4, loss demand=3.2e-29, lambda eq=0.59, relative x=0.045, relative gap=0.11, train flow equilibrium loss=1.4e+03, time: 152.9\n",
      "\n",
      "Epoch: 110/500, n_train: 32, n_test: 26\n",
      "\n",
      "110: train_loss=5.2e+05, val_loss=4.7e+05, train_loss tt=2.8e-05, val_loss tt=2.7e-05, train_loss flow=2.6e+06, val_loss flow=2.4e+06, theta = [-8.3475 -2.9344  0.      0.      0.      0.    ], vot = nan, psc_factor = 0.0, avg theta fixed effect = -0.6, avg alpha=0.15, avg beta=4, loss demand=3.2e-29, lambda eq=0.6, relative x=0.031, relative gap=0.03, train flow equilibrium loss=4.7e+02, time: 152.8\n",
      "\n",
      "Epoch: 115/500, n_train: 32, n_test: 26\n",
      "\n",
      "115: train_loss=5.1e+05, val_loss=4.6e+05, train_loss tt=2.9e-05, val_loss tt=2.8e-05, train_loss flow=2.6e+06, val_loss flow=2.4e+06, theta = [-8.6719 -1.8927  0.      0.      0.      0.    ], vot = nan, psc_factor = 0.0, avg theta fixed effect = -0.62, avg alpha=0.15, avg beta=4, loss demand=3.2e-29, lambda eq=0.61, relative x=0.022, relative gap=0.057, train flow equilibrium loss=1.1e+02, time: 148.9\n",
      "\n",
      "Epoch: 120/500, n_train: 32, n_test: 26\n",
      "\n",
      "120: train_loss=5e+05, val_loss=4.5e+05, train_loss tt=2.9e-05, val_loss tt=2.8e-05, train_loss flow=2.6e+06, val_loss flow=2.4e+06, theta = [-8.8843 -0.8379  0.      0.      0.      0.    ], vot = nan, psc_factor = 0.0, avg theta fixed effect = -0.64, avg alpha=0.15, avg beta=4, loss demand=3.2e-29, lambda eq=0.63, relative x=0.016, relative gap=0.063, train flow equilibrium loss=65, time: 143.0\n",
      "\n",
      "Epoch: 125/500, n_train: 32, n_test: 26\n",
      "\n",
      "125: train_loss=4.8e+05, val_loss=4.3e+05, train_loss tt=2.9e-05, val_loss tt=2.8e-05, train_loss flow=2.6e+06, val_loss flow=2.4e+06, theta = [-8.9224  0.      0.      0.      0.      0.    ], vot = nan, psc_factor = 0.0, avg theta fixed effect = -0.65, avg alpha=0.15, avg beta=4, loss demand=3.2e-29, lambda eq=0.64, relative x=0.015, relative gap=0.052, train flow equilibrium loss=89, time: 145.3\n",
      "\n",
      "Epoch: 130/500, n_train: 32, n_test: 26\n",
      "\n",
      "130: train_loss=4.6e+05, val_loss=4.2e+05, train_loss tt=2.9e-05, val_loss tt=2.7e-05, train_loss flow=2.6e+06, val_loss flow=2.4e+06, theta = [-9.2884  0.      0.      0.      0.      0.    ], vot = nan, psc_factor = 0.0, avg theta fixed effect = -0.66, avg alpha=0.15, avg beta=4, loss demand=3.2e-29, lambda eq=0.65, relative x=0.02, relative gap=0.00019, train flow equilibrium loss=6.9e+02, time: 170.0\n",
      "\n",
      "Epoch: 135/500, n_train: 32, n_test: 26\n",
      "\n",
      "135: train_loss=4.5e+05, val_loss=4e+05, train_loss tt=2.8e-05, val_loss tt=2.7e-05, train_loss flow=2.6e+06, val_loss flow=2.4e+06, theta = [-9.8355  0.      0.      0.      0.      0.    ], vot = nan, psc_factor = 0.0, avg theta fixed effect = -0.68, avg alpha=0.15, avg beta=4, loss demand=3.2e-29, lambda eq=0.66, relative x=0.027, relative gap=0.00028, train flow equilibrium loss=4.3e+02, time: 163.1\n",
      "\n",
      "Epoch: 140/500, n_train: 32, n_test: 26\n",
      "\n",
      "140: train_loss=4.3e+05, val_loss=3.9e+05, train_loss tt=2.9e-05, val_loss tt=2.7e-05, train_loss flow=2.6e+06, val_loss flow=2.4e+06, theta = [-10.211   0.      0.      0.      0.      0.   ], vot = nan, psc_factor = 0.0, avg theta fixed effect = -0.69, avg alpha=0.15, avg beta=4, loss demand=3.2e-29, lambda eq=0.67, relative x=0.025, relative gap=0.00016, train flow equilibrium loss=1.8e+02, time: 181.3\n",
      "\n",
      "Epoch: 145/500, n_train: 32, n_test: 26\n",
      "\n",
      "145: train_loss=4.2e+05, val_loss=3.8e+05, train_loss tt=2.9e-05, val_loss tt=2.8e-05, train_loss flow=2.6e+06, val_loss flow=2.4e+06, theta = [-10.531   0.      0.      0.      0.      0.   ], vot = nan, psc_factor = 0.0, avg theta fixed effect = -0.7, avg alpha=0.15, avg beta=4, loss demand=3.2e-29, lambda eq=0.68, relative x=0.019, relative gap=0.0012, train flow equilibrium loss=3.7e+02, time: 164.9\n",
      "\n",
      "Epoch: 150/500, n_train: 32, n_test: 26\n",
      "\n",
      "150: train_loss=4e+05, val_loss=3.6e+05, train_loss tt=2.9e-05, val_loss tt=2.7e-05, train_loss flow=2.6e+06, val_loss flow=2.4e+06, theta = [-11.0876   0.       0.       0.       0.       0.    ], vot = nan, psc_factor = 0.0, avg theta fixed effect = -0.74, avg alpha=0.15, avg beta=4, loss demand=3.2e-29, lambda eq=0.69, relative x=0.022, relative gap=0.00026, train flow equilibrium loss=5.3e+02, time: 174.4\n",
      "\n",
      "Epoch: 153/500, n_train: 32, n_test: 26\n",
      "\n",
      "153: train_loss=4e+05, val_loss=3.6e+05, train_loss tt=2.9e-05, val_loss tt=2.7e-05, train_loss flow=2.6e+06, val_loss flow=2.4e+06, theta = [-11.5963   0.       0.       0.       0.       0.    ], vot = nan, psc_factor = 0.0, avg theta fixed effect = -0.76, avg alpha=0.15, avg beta=4, loss demand=3.2e-29, lambda eq=0.7, relative x=0.023, relative gap=9.9e-06, train flow equilibrium loss=6.2e+02, time: 111.5\n",
      "theta = {'tt': -11.596312223198062, 'tt_sd': 0.0, 'median_inc': 0.0, 'incidents': 0.0, 'bus_stops': 0.0, 'intersections': 0.0}\n",
      "alpha =  0.15, beta  =  4.00\n",
      "Avg abs diff of observed and estimated OD:  0.00\n",
      "Avg observed OD:  9.51\n"
     ]
    },
    {
     "data": {
      "text/plain": "<Figure size 500x500 with 1 Axes>",
      "image/png": "[encoded data removed]"
     },
     "metadata": {},
     "output_type": "display_data"
    },
    {
     "data": {
      "text/plain": "<Figure size 500x400 with 1 Axes>",
      "image/png": "[encoded data removed]"
     },
     "metadata": {},
     "output_type": "display_data"
    }
   ],
   "source": [
    "if run_model['lue']:\n",
    "    print('\\nLUE: Benchmark of gisuelogit and isuelogit (utility only)')\n",
    "\n",
    "    # _MOMENTUM_EQUILIBRIUM = 1\n",
    "\n",
    "    optimizer = tf.keras.optimizers.Adam(learning_rate=_LR)\n",
    "\n",
    "    utility_parameters = UtilityParameters(features_Y=['tt'],\n",
    "                                           features_Z=features_Z,\n",
    "                                           # initial_values ={'tt': -1, 'tt_sd': -1, 'median_inc': 1,\n",
    "                                           #                  'incidents': -1, 'bus_stops': -1, 'intersections': -1,\n",
    "                                           #                  'psc_factor': 0, 'fixed_effect': np.zeros_like(fresno_network.links)},\n",
    "                                           initial_values={'psc_factor': 0,\n",
    "                                                           'fixed_effect': np.zeros_like(fresno_network.links)},\n",
    "                                           signs={'tt': '-', 'tt_sd': '-', 'median_inc': '+', 'incidents': '-',\n",
    "                                                  'bus_stops': '-', 'intersections': '-'},\n",
    "                                           trainables={'psc_factor': False, 'fixed_effect': True,\n",
    "                                                       'tt': True, 'tt_sd': True, 'median_inc': True, 'incidents': True,\n",
    "                                                              'bus_stops': True, 'intersections': True\n",
    "                                                       },\n",
    "                                           )\n",
    "\n",
    "    utility_parameters.constant_initializer(0)\n",
    "\n",
    "    bpr_parameters = BPRParameters(keys=['alpha', 'beta'],\n",
    "                                   initial_values={'alpha': 0.15, 'beta': 4},\n",
    "                                   trainables=dict.fromkeys(['alpha', 'beta'], False),\n",
    "                                   )\n",
    "\n",
    "    od_parameters = ODParameters(key='od',\n",
    "                                 initial_values=fresno_network.q.flatten(),\n",
    "                                 true_values=fresno_network.q.flatten(),\n",
    "                                 historic_values={1: fresno_network.q.flatten()},\n",
    "                                 trainable=False)\n",
    "\n",
    "    equilibrator = Equilibrator(\n",
    "        network=fresno_network,\n",
    "        utility=utility_parameters,\n",
    "        max_iters=100,\n",
    "        method='fw',\n",
    "        iters_fw=50,\n",
    "        accuracy=1e-4,\n",
    "    )\n",
    "\n",
    "    column_generator = ColumnGenerator(equilibrator=equilibrator,\n",
    "                                       utility=utility_parameters,\n",
    "                                       n_paths=0,\n",
    "                                       ods_coverage=0.1,\n",
    "                                       ods_sampling='sequential',\n",
    "                                       )\n",
    "\n",
    "    lue = GISUELOGIT(\n",
    "        key='lue',\n",
    "        network=fresno_network,\n",
    "        dtype=tf.float64,\n",
    "        equilibrator = equilibrator,\n",
    "        utility=utility_parameters,\n",
    "        bpr=bpr_parameters,\n",
    "        od=od_parameters\n",
    "    )\n",
    "\n",
    "    train_results_dfs['lue'], test_results_dfs['lue'] = lue.train(\n",
    "        X_train, Y_train, X_test, Y_test,\n",
    "        optimizer=optimizer,\n",
    "        batch_size=_BATCH_SIZE,\n",
    "        threshold_relative_gap=_RELATIVE_GAP,\n",
    "        momentum_equilibrium = _MOMENTUM_EQUILIBRIUM['lue'],\n",
    "        loss_weights= dict(_LOSS_WEIGHTS, od = 0),\n",
    "        loss_metric=_LOSS_METRIC,\n",
    "        epochs_print_interval=_EPOCHS_PRINT_INTERVAL,\n",
    "        epochs=_EPOCHS)\n",
    "\n",
    "    sns.displot(pd.DataFrame({'fixed_effect':np.array(lue.fixed_effect)}),\n",
    "            x=\"fixed_effect\", multiple=\"stack\", kind=\"kde\", alpha = 0.8)\n",
    "\n",
    "    plot_predictive_performance(train_losses=train_results_dfs['lue'], val_losses=test_results_dfs['lue'],\n",
    "                                xticks_spacing = _XTICKS_SPACING)\n",
    "\n",
    "\n",
    "    print(f\"theta = {dict(zip(utility_parameters.true_values.keys(), list(lue.theta.numpy())))}\")\n",
    "    print(f\"alpha = {lue.alpha: 0.2f}, beta  = {lue.beta: 0.2f}\")\n",
    "    print(f\"Avg abs diff of observed and estimated OD: {np.mean(np.abs(lue.q - fresno_network.q.flatten())): 0.2f}\")\n",
    "    print(f\"Avg observed OD: {np.mean(np.abs(fresno_network.q.flatten())): 0.2f}\")"
   ]
  },
  {
   "cell_type": "markdown",
   "metadata": {},
   "source": [
    "### Model 3: OD + utility estimation with historic OD"
   ]
  },
  {
   "cell_type": "code",
   "execution_count": 27,
   "metadata": {},
   "outputs": [],
   "source": [
    "if run_model['odlue']:\n",
    "\n",
    "    # _MOMENTUM_EQUILIBRIUM = 0.99\n",
    "\n",
    "    print('\\nODLUE: OD + utility estimation with historic OD')\n",
    "\n",
    "    # _RELATIVE_GAP = 1e-4\\\n",
    "    # _XTICKS_SPACING = 50\n",
    "\n",
    "    optimizer = tf.keras.optimizers.Adam(learning_rate=_LR)\n",
    "    # optimizer = tf.keras.optimizers.Adagrad(learning_rate=_LR)\n",
    "    utility_parameters = UtilityParameters(features_Y=['tt'],\n",
    "                                           features_Z=features_Z,\n",
    "                                           initial_values={'psc_factor': 0,\n",
    "                                                           'fixed_effect': np.zeros_like(fresno_network.links)},\n",
    "                                           signs={'tt': '-', 'tt_sd': '-', 'median_inc': '+', 'incidents': '-',\n",
    "                                                  'bus_stops': '-', 'intersections': '-'},\n",
    "                                           trainables={'psc_factor': False, 'fixed_effect': True,\n",
    "                                                       'tt': True, 'tt_sd': True, 'median_inc': True,\n",
    "                                                       'incidents': True,\n",
    "                                                       'bus_stops': True, 'intersections': True\n",
    "                                                       },\n",
    "                                           )\n",
    "\n",
    "    bpr_parameters = BPRParameters(keys=['alpha', 'beta'],\n",
    "                                   initial_values={'alpha': 0.15, 'beta': 4},\n",
    "                                   trainables=dict.fromkeys(['alpha', 'beta'], False),\n",
    "                                   )\n",
    "\n",
    "    od_parameters = ODParameters(key='od',\n",
    "                                 initial_values=fresno_network.q.flatten(),\n",
    "                                 historic_values={1: fresno_network.q.flatten()},\n",
    "                                 trainable=True)\n",
    "\n",
    "    equilibrator = Equilibrator(\n",
    "        network=fresno_network,\n",
    "        # paths_generator=paths_generator,\n",
    "        utility=utility_parameters,\n",
    "        max_iters=100,\n",
    "        method='fw',\n",
    "        iters_fw=50,\n",
    "        accuracy=1e-4,\n",
    "    )\n",
    "\n",
    "    column_generator = ColumnGenerator(equilibrator=equilibrator,\n",
    "                                       utility=utility_parameters,\n",
    "                                       n_paths=0,\n",
    "                                       ods_coverage=0.1,\n",
    "                                       ods_sampling='sequential',\n",
    "                                       # ods_sampling='demand',\n",
    "                                       )\n",
    "\n",
    "    odlue = GISUELOGIT(\n",
    "        key='odlue',\n",
    "        network=fresno_network,\n",
    "        dtype=tf.float64,\n",
    "        equilibrator=equilibrator,\n",
    "        column_generator=column_generator,\n",
    "        utility=utility_parameters,\n",
    "        bpr=bpr_parameters,\n",
    "        od=od_parameters,\n",
    "    )\n",
    "\n",
    "    train_results_dfs['odlue'], test_results_dfs['odlue'] = odlue.train(\n",
    "        X_train, Y_train, X_test, Y_test,\n",
    "        optimizer=optimizer,\n",
    "        batch_size=_BATCH_SIZE,\n",
    "        # generalization_error={'train': False, 'validation': True},\n",
    "        loss_weights= _LOSS_WEIGHTS,\n",
    "        loss_metric=_LOSS_METRIC,\n",
    "        momentum_equilibrium = _MOMENTUM_EQUILIBRIUM['odlue'],\n",
    "        threshold_relative_gap=_RELATIVE_GAP,\n",
    "        epochs_print_interval=_EPOCHS_PRINT_INTERVAL,\n",
    "        epochs=_EPOCHS)\n",
    "\n",
    "    plot_predictive_performance(train_losses=train_results_dfs['odlue'], val_losses=test_results_dfs['odlue'],\n",
    "                                xticks_spacing = _XTICKS_SPACING)\n",
    "\n",
    "    sns.displot(pd.DataFrame({'fixed_effect':np.array(odlue.fixed_effect)}),\n",
    "            x=\"fixed_effect\", multiple=\"stack\", kind=\"kde\", alpha = 0.8)\n",
    "\n",
    "    print(f\"theta = {dict(zip(utility_parameters.true_values.keys(), list(odlue.theta.numpy())))}\")\n",
    "    print(f\"alpha = {odlue.alpha: 0.2f}, beta  = {odlue.beta: 0.2f}\")\n",
    "    print(f\"Avg abs diff of observed and estimated OD: {np.mean(np.abs(odlue.q - fresno_network.q.flatten())): 0.2f}\")\n",
    "    print(f\"Avg observed OD: {np.mean(np.abs(fresno_network.q.flatten())): 0.2f}\")"
   ]
  },
  {
   "cell_type": "markdown",
   "metadata": {},
   "source": [
    "### Model 4: ODLUE + link specific performance parameters (only alphas)"
   ]
  },
  {
   "cell_type": "code",
   "execution_count": 28,
   "metadata": {},
   "outputs": [],
   "source": [
    "if run_model['odlulpe-1']:\n",
    "\n",
    "    print('\\nODLULPE: ODLUE + link performance parameters with historic OD matrix (link specifics alpha)')\n",
    "\n",
    "    # _MOMENTUM_EQUILIBRIUM = 0.99\n",
    "\n",
    "    optimizer = tf.keras.optimizers.Adam(learning_rate=_LR)\n",
    "\n",
    "    # _LR = 1e-2\n",
    "    # _RELATIVE_GAP = 1e-5\n",
    "    # _XTICKS_SPACING = 50\n",
    "\n",
    "    # Some initializations of the bpr parameters, makes the optimization to fail (e.g. alpha =1, beta = 1). Using a common\n",
    "    # alpha but different betas for every link make the estimation more stable but there is overfitting after a certain amount of iterations\n",
    "\n",
    "    bpr_parameters = BPRParameters(keys=['alpha', 'beta'],\n",
    "                                   # initial_values={'alpha': 0.15*np.ones_like(fresno_network.links,dtype = np.float32),\n",
    "                                   #                 'beta': 4*np.ones_like(fresno_network.links,dtype = np.float32)},\n",
    "                                   initial_values={'alpha': 0.15*np.ones_like(fresno_network.links,dtype = np.float32),\n",
    "                                                   'beta': 4},\n",
    "                                   # initial_values={'alpha': 0.15, 'beta': 4},\n",
    "                                   # initial_values={'alpha': 0.15,\n",
    "                                   #                 'beta': 4 * np.ones_like(fresno_network.links, dtype=np.float32)},\n",
    "                                   # initial_values={'alpha': 0.15, 'beta': 4},\n",
    "                                   trainables={'alpha': True, 'beta':False},\n",
    "                                   # trainables={'alpha': True, 'beta': True},\n",
    "                                   # trainables={'alpha': False, 'beta': True},\n",
    "                                   )\n",
    "\n",
    "    od_parameters = ODParameters(key='od',\n",
    "                                 periods=1,\n",
    "                                 initial_values=fresno_network.q.flatten(),\n",
    "                                 historic_values={1: fresno_network.q.flatten()},\n",
    "                                 trainable=True)\n",
    "\n",
    "    utility_parameters = UtilityParameters(features_Y=['tt'],\n",
    "                                           features_Z=features_Z,\n",
    "                                           periods=1,\n",
    "                                           initial_values={'psc_factor': 0, 'tt':0,\n",
    "                                                           'fixed_effect': np.zeros_like(fresno_network.links)},\n",
    "                                           signs={'tt': '-', 'tt_sd': '-', 'median_inc': '+', 'incidents': '-',\n",
    "                                                  'bus_stops': '-', 'intersections': '-'},\n",
    "                                           trainables={'psc_factor': False, 'fixed_effect': True,\n",
    "                                                       'tt': True, 'tt_sd': True, 'median_inc': True,\n",
    "                                                       'incidents': True,\n",
    "                                                       'bus_stops': True, 'intersections': True\n",
    "                                                       },\n",
    "                                           )\n",
    "\n",
    "    equilibrator = Equilibrator(\n",
    "        network=fresno_network,\n",
    "        # paths_generator=paths_generator,\n",
    "        utility=utility_parameters,\n",
    "        max_iters=100,\n",
    "        method='fw',\n",
    "        iters_fw=50,\n",
    "        accuracy=1e-4,\n",
    "    )\n",
    "\n",
    "    column_generator = ColumnGenerator(equilibrator=equilibrator,\n",
    "                                       utility=utility_parameters,\n",
    "                                       n_paths=0,\n",
    "                                       ods_coverage=0.1,\n",
    "                                       ods_sampling='sequential',\n",
    "                                       # ods_sampling='demand',\n",
    "                                       )\n",
    "\n",
    "    odlulpe_1 = GISUELOGIT(\n",
    "        key='odlulpe-1',\n",
    "        network=fresno_network,\n",
    "        dtype=tf.float64,\n",
    "        equilibrator=equilibrator,\n",
    "        column_generator=column_generator,\n",
    "        utility=utility_parameters,\n",
    "        bpr=bpr_parameters,\n",
    "        od=od_parameters,\n",
    "    )\n",
    "\n",
    "    train_results_dfs['odlulpe-1'], test_results_dfs['odlulpe-1'] = odlulpe_1.train(\n",
    "        X_train, Y_train, X_test, Y_test,\n",
    "        optimizer=optimizer,\n",
    "        # generalization_error={'train': False, 'validation': True},\n",
    "        batch_size=_BATCH_SIZE,\n",
    "        loss_weights=_LOSS_WEIGHTS,\n",
    "        loss_metric=_LOSS_METRIC,\n",
    "        momentum_equilibrium = _MOMENTUM_EQUILIBRIUM['odlulpe-1'],\n",
    "        threshold_relative_gap=_RELATIVE_GAP,\n",
    "        epochs_print_interval=_EPOCHS_PRINT_INTERVAL,\n",
    "        epochs=_EPOCHS)\n",
    "\n",
    "    plot_predictive_performance(train_losses=train_results_dfs['odlulpe-1'], val_losses=test_results_dfs['odlulpe-1'],\n",
    "                                xticks_spacing = _XTICKS_SPACING)\n",
    "\n",
    "    plot_convergence_estimates(estimates=train_results_dfs['odlulpe-1'][['epoch','alpha']],\n",
    "                                xticks_spacing = _XTICKS_SPACING)\n",
    "\n",
    "    sns.displot(pd.DataFrame({'alpha':odlulpe_1.alpha}),\n",
    "            x=\"alpha\", multiple=\"stack\", kind=\"kde\", alpha = 0.8)\n",
    "\n",
    "    sns.displot(pd.DataFrame({'fixed_effect':np.array(odlulpe_1.fixed_effect)}),\n",
    "                x=\"fixed_effect\", multiple=\"stack\", kind=\"kde\", alpha = 0.8)\n",
    "\n",
    "    print(f\"theta = {dict(zip(utility_parameters.true_values.keys(), list(odlulpe_1.theta.numpy())))}\")\n",
    "    print(f\"alpha = {np.mean(odlulpe_1.alpha): 0.2f}, beta  = {np.mean(odlulpe_1.beta): 0.2f}\")\n",
    "    print(f\"Avg abs diff of observed and estimated OD: {np.mean(np.abs(odlulpe_1.q - fresno_network.q.flatten())): 0.2f}\")\n",
    "    print(f\"Avg observed OD: {np.mean(np.abs(fresno_network.q.flatten())): 0.2f}\")"
   ]
  },
  {
   "cell_type": "markdown",
   "metadata": {},
   "source": [
    "    ### Model 5: ODLUE + link specific performance parameters (alphas and betas)"
   ]
  },
  {
   "cell_type": "code",
   "execution_count": 29,
   "metadata": {},
   "outputs": [],
   "source": [
    "if run_model['odlulpe-2']:\n",
    "\n",
    "    print('\\nODLULPE: ODLUE + link performance parameters with historic OD matrix (link specifics alphas and betas)')\n",
    "\n",
    "    # _MOMENTUM_EQUILIBRIUM = 0.99\n",
    "\n",
    "    optimizer = tf.keras.optimizers.Adam(learning_rate=_LR)\n",
    "\n",
    "    # _LR = 5e-1\n",
    "    # _RELATIVE_GAP = 1e-5\n",
    "\n",
    "    # Some initializations of the bpr parameters, makes the optimization to fail (e.g. alpha =1, beta = 1). Using a common\n",
    "    # alpha but different betas for every link make the estimation more stable but there is overfitting after a certain amount of iterations\n",
    "\n",
    "    bpr_parameters = BPRParameters(keys=['alpha', 'beta'],\n",
    "                                   initial_values={'alpha': 0.15*np.ones_like(fresno_network.links,dtype = np.float32),\n",
    "                                                   'beta': 4*np.ones_like(fresno_network.links,dtype = np.float32)},\n",
    "                                   # initial_values={'alpha': 0.15*np.ones_like(fresno_network.links,dtype = np.float32),\n",
    "                                   #                 'beta': 4},\n",
    "                                   # initial_values={'alpha': 0.15, 'beta': 4},\n",
    "                                   # initial_values={'alpha': 0.15,\n",
    "                                   #                 'beta': 4 * np.ones_like(fresno_network.links, dtype=np.float32)},\n",
    "                                   # initial_values={'alpha': 0.15, 'beta': 4},\n",
    "                                   # trainables={'alpha': True, 'beta':False},\n",
    "                                   trainables={'alpha': True, 'beta': True},\n",
    "                                   # trainables={'alpha': False, 'beta': True},\n",
    "                                   )\n",
    "\n",
    "    od_parameters = ODParameters(key='od',\n",
    "                                 periods=1,\n",
    "                                 initial_values=fresno_network.q.flatten(),\n",
    "                                 historic_values={1: fresno_network.q.flatten()},\n",
    "                                 trainable=True)\n",
    "\n",
    "    utility_parameters = UtilityParameters(features_Y=['tt'],\n",
    "                                           features_Z=features_Z,\n",
    "                                           periods=1,\n",
    "                                           initial_values={'psc_factor': 0, 'tt':0,\n",
    "                                                           'fixed_effect': np.zeros_like(fresno_network.links)},\n",
    "                                           signs={'tt': '-', 'tt_sd': '-', 'median_inc': '+', 'incidents': '-',\n",
    "                                                  'bus_stops': '-', 'intersections': '-'},\n",
    "                                           trainables={'psc_factor': False, 'fixed_effect': True,\n",
    "                                                       'tt': True, 'tt_sd': True, 'median_inc': True,\n",
    "                                                       'incidents': True,\n",
    "                                                       'bus_stops': True, 'intersections': True\n",
    "                                                       },\n",
    "                                           )\n",
    "\n",
    "    equilibrator = Equilibrator(\n",
    "        network=fresno_network,\n",
    "        # paths_generator=paths_generator,\n",
    "        utility=utility_parameters,\n",
    "        max_iters=100,\n",
    "        method='fw',\n",
    "        iters_fw=50,\n",
    "        accuracy=1e-4,\n",
    "    )\n",
    "\n",
    "    column_generator = ColumnGenerator(equilibrator=equilibrator,\n",
    "                                       utility=utility_parameters,\n",
    "                                       n_paths=0,\n",
    "                                       ods_coverage=0.1,\n",
    "                                       ods_sampling='sequential',\n",
    "                                       # ods_sampling='demand',\n",
    "                                       )\n",
    "\n",
    "    odlulpe_2 = GISUELOGIT(\n",
    "        key='odlulpe-2',\n",
    "        network=fresno_network,\n",
    "        dtype=tf.float64,\n",
    "        equilibrator=equilibrator,\n",
    "        column_generator=column_generator,\n",
    "        utility=utility_parameters,\n",
    "        bpr=bpr_parameters,\n",
    "        od=od_parameters,\n",
    "    )\n",
    "\n",
    "    train_results_dfs['odlulpe-2'], test_results_dfs['odlulpe-2'] = odlulpe_2.train(\n",
    "        X_train, Y_train, X_test, Y_test,\n",
    "        optimizer=optimizer,\n",
    "        # generalization_error={'train': False, 'validation': True},\n",
    "        batch_size=_BATCH_SIZE,\n",
    "        # loss_weights={'od': 1, 'theta': 0, 'tt': 1, 'flow': 1, 'eq_flow': 1},\n",
    "        loss_weights=_LOSS_WEIGHTS,\n",
    "        momentum_equilibrium = _MOMENTUM_EQUILIBRIUM['odlulpe-2'],\n",
    "        threshold_relative_gap=_RELATIVE_GAP,\n",
    "        epochs_print_interval=_EPOCHS_PRINT_INTERVAL,\n",
    "        loss_metric=_LOSS_METRIC,\n",
    "        epochs=_EPOCHS)\n",
    "\n",
    "    plot_predictive_performance(train_losses=train_results_dfs['odlulpe-2'], val_losses=test_results_dfs['odlulpe-2'],\n",
    "                                xticks_spacing = _XTICKS_SPACING)\n",
    "\n",
    "    plot_convergence_estimates(estimates=train_results_dfs['odlulpe-2'][['epoch','alpha','beta']],\n",
    "                                xticks_spacing = _XTICKS_SPACING)\n",
    "\n",
    "    sns.displot(pd.melt(pd.DataFrame({'alpha':odlulpe_2.alpha, 'beta': odlulpe_2.beta}), var_name = 'parameters'),\n",
    "                x=\"value\", hue=\"parameters\", multiple=\"stack\", kind=\"kde\", alpha = 0.8)\n",
    "\n",
    "    sns.displot(pd.DataFrame({'fixed_effect':np.array(odlulpe_2.fixed_effect)}),\n",
    "                x=\"fixed_effect\", multiple=\"stack\", kind=\"kde\", alpha = 0.8)\n",
    "\n",
    "    print(f\"theta = {dict(zip(utility_parameters.true_values.keys(), list(odlulpe_2.theta.numpy())))}\")\n",
    "    print(f\"alpha = {np.mean(odlulpe_2.alpha): 0.2f}, beta  = {np.mean(odlulpe_2.beta): 0.2f}\")\n",
    "    print(f\"Avg abs diff of observed and estimated OD: {np.mean(np.abs(odlulpe_2.q - fresno_network.q.flatten())): 0.2f}\")\n",
    "    print(f\"Avg observed OD: {np.mean(np.abs(fresno_network.q.flatten())): 0.2f}\")"
   ]
  },
  {
   "cell_type": "code",
   "execution_count": 30,
   "outputs": [
    {
     "name": "stdout",
     "output_type": "stream",
     "text": [
      "\n",
      "tvodlulpe: Time specific utility and OD, link performance parameters, no historic OD\n",
      "\n",
      "Epoch: 0/500, n_train: 32, n_test: 26\n",
      "\n",
      "0: train_loss=2.6e+06, val_loss=2.4e+06, train_loss tt=3.8e-05, val_loss tt=3.7e-05, train_loss flow=2.6e+06, val_loss flow=2.4e+06, theta = [0. 0. 0. 0. 0. 0.], vot = nan, psc_factor = 0.0, avg theta fixed effect = 0, avg alpha=0.15, avg beta=4, loss demand=3.2e-29, lambda eq=1, relative x=1.2e-16, relative gap=1e-05, train flow equilibrium loss=5e-26, time: 29.9\n",
      "\n",
      "Epoch: 1/500, n_train: 32, n_test: 26\n",
      "\n",
      "1: train_loss=9.6e+05, val_loss=9.1e+05, train_loss tt=2.7e-05, val_loss tt=2.6e-05, train_loss flow=2.5e+06, val_loss flow=2.4e+06, theta = [-0.4985 -0.5     0.     -0.5    -0.4999 -0.5   ], vot = nan, psc_factor = 0.0, avg theta fixed effect = -0.0031, avg alpha=0.091, avg beta=4, loss demand=4.1, lambda eq=0.34, relative x=0.24, relative gap=25, train flow equilibrium loss=3.5e+05, time: 49.2\n",
      "\n",
      "Epoch: 2/500, n_train: 32, n_test: 26\n",
      "\n",
      "2: train_loss=9.3e+05, val_loss=8.8e+05, train_loss tt=2.5e-05, val_loss tt=2.3e-05, train_loss flow=2.5e+06, val_loss flow=2.3e+06, theta = [-0.8356 -0.883   0.     -0.8373 -0.8601 -0.8633], vot = nan, psc_factor = 0.0, avg theta fixed effect = -0.012, avg alpha=0.059, avg beta=4, loss demand=8.5, lambda eq=0.34, relative x=0.24, relative gap=0.75, train flow equilibrium loss=3.1e+05, time: 54.3\n",
      "\n",
      "Epoch: 3/500, n_train: 32, n_test: 26\n",
      "\n",
      "3: train_loss=9e+05, val_loss=8.5e+05, train_loss tt=2.4e-05, val_loss tt=2.3e-05, train_loss flow=2.5e+06, val_loss flow=2.3e+06, theta = [-1.1013 -1.203   0.     -1.0966 -1.1472 -1.1553], vot = nan, psc_factor = 0.0, avg theta fixed effect = -0.023, avg alpha=0.041, avg beta=4, loss demand=16, lambda eq=0.34, relative x=0.24, relative gap=0.38, train flow equilibrium loss=2.5e+05, time: 43.0\n"
     ]
    },
    {
     "ename": "KeyboardInterrupt",
     "evalue": "",
     "output_type": "error",
     "traceback": [
      "\u001B[0;31m---------------------------------------------------------------------------\u001B[0m",
      "\u001B[0;31mKeyboardInterrupt\u001B[0m                         Traceback (most recent call last)",
      "Input \u001B[0;32mIn [30]\u001B[0m, in \u001B[0;36m<cell line: 1>\u001B[0;34m()\u001B[0m\n\u001B[1;32m     23\u001B[0m od_parameters \u001B[38;5;241m=\u001B[39m ODParameters(key\u001B[38;5;241m=\u001B[39m\u001B[38;5;124m'\u001B[39m\u001B[38;5;124mod\u001B[39m\u001B[38;5;124m'\u001B[39m,\n\u001B[1;32m     24\u001B[0m                              initial_values\u001B[38;5;241m=\u001B[39mfresno_network\u001B[38;5;241m.\u001B[39mq\u001B[38;5;241m.\u001B[39mflatten(),\n\u001B[1;32m     25\u001B[0m                              true_values\u001B[38;5;241m=\u001B[39mfresno_network\u001B[38;5;241m.\u001B[39mq\u001B[38;5;241m.\u001B[39mflatten(),\n\u001B[1;32m     26\u001B[0m                              historic_values\u001B[38;5;241m=\u001B[39m{\u001B[38;5;241m1\u001B[39m: fresno_network\u001B[38;5;241m.\u001B[39mq\u001B[38;5;241m.\u001B[39mflatten()},\n\u001B[1;32m     27\u001B[0m                              trainable\u001B[38;5;241m=\u001B[39m\u001B[38;5;28;01mTrue\u001B[39;00m)\n\u001B[1;32m     29\u001B[0m tvodlulpe \u001B[38;5;241m=\u001B[39m GISUELOGIT(\n\u001B[1;32m     30\u001B[0m     key\u001B[38;5;241m=\u001B[39m\u001B[38;5;124m'\u001B[39m\u001B[38;5;124mtvodlulpe\u001B[39m\u001B[38;5;124m'\u001B[39m,\n\u001B[1;32m     31\u001B[0m     network\u001B[38;5;241m=\u001B[39mfresno_network,\n\u001B[0;32m   (...)\u001B[0m\n\u001B[1;32m     36\u001B[0m     n_periods \u001B[38;5;241m=\u001B[39m \u001B[38;5;28mlen\u001B[39m(np\u001B[38;5;241m.\u001B[39munique(X_train[:,:,\u001B[38;5;241m-\u001B[39m\u001B[38;5;241m1\u001B[39m]\u001B[38;5;241m.\u001B[39mnumpy()\u001B[38;5;241m.\u001B[39mflatten()))\n\u001B[1;32m     37\u001B[0m )\n\u001B[0;32m---> 38\u001B[0m train_results_dfs[\u001B[38;5;124m'\u001B[39m\u001B[38;5;124mtvodlulpe\u001B[39m\u001B[38;5;124m'\u001B[39m], test_results_dfs[\u001B[38;5;124m'\u001B[39m\u001B[38;5;124mtvodlulpe\u001B[39m\u001B[38;5;124m'\u001B[39m] \u001B[38;5;241m=\u001B[39m \u001B[43mtvodlulpe\u001B[49m\u001B[38;5;241;43m.\u001B[39;49m\u001B[43mtrain\u001B[49m\u001B[43m(\u001B[49m\n\u001B[1;32m     39\u001B[0m \u001B[43m    \u001B[49m\u001B[43mX_train\u001B[49m\u001B[43m,\u001B[49m\u001B[43m \u001B[49m\u001B[43mY_train\u001B[49m\u001B[43m,\u001B[49m\u001B[43m \u001B[49m\u001B[43mX_test\u001B[49m\u001B[43m,\u001B[49m\u001B[43m \u001B[49m\u001B[43mY_test\u001B[49m\u001B[43m,\u001B[49m\n\u001B[1;32m     40\u001B[0m \u001B[43m    \u001B[49m\u001B[43moptimizer\u001B[49m\u001B[38;5;241;43m=\u001B[39;49m\u001B[43moptimizer\u001B[49m\u001B[43m,\u001B[49m\n\u001B[1;32m     41\u001B[0m \u001B[43m    \u001B[49m\u001B[38;5;66;43;03m# generalization_error={'train': False, 'validation': True},\u001B[39;49;00m\n\u001B[1;32m     42\u001B[0m \u001B[43m    \u001B[49m\u001B[43mbatch_size\u001B[49m\u001B[38;5;241;43m=\u001B[39;49m\u001B[43m_BATCH_SIZE\u001B[49m\u001B[43m,\u001B[49m\n\u001B[1;32m     43\u001B[0m \u001B[43m    \u001B[49m\u001B[43mloss_weights\u001B[49m\u001B[38;5;241;43m=\u001B[39;49m\u001B[43m \u001B[49m\u001B[43m_LOSS_WEIGHTS\u001B[49m\u001B[43m,\u001B[49m\n\u001B[1;32m     44\u001B[0m \u001B[43m    \u001B[49m\u001B[43mloss_metric\u001B[49m\u001B[38;5;241;43m=\u001B[39;49m\u001B[43m_LOSS_METRIC\u001B[49m\u001B[43m,\u001B[49m\n\u001B[1;32m     45\u001B[0m \u001B[43m    \u001B[49m\u001B[43mmomentum_equilibrium\u001B[49m\u001B[38;5;241;43m=\u001B[39;49m\u001B[43m_MOMENTUM_EQUILIBRIUM\u001B[49m\u001B[43m[\u001B[49m\u001B[38;5;124;43m'\u001B[39;49m\u001B[38;5;124;43mtvodlulpe\u001B[39;49m\u001B[38;5;124;43m'\u001B[39;49m\u001B[43m]\u001B[49m\u001B[43m,\u001B[49m\n\u001B[1;32m     46\u001B[0m \u001B[43m    \u001B[49m\u001B[43mthreshold_relative_gap\u001B[49m\u001B[38;5;241;43m=\u001B[39;49m\u001B[43m_RELATIVE_GAP\u001B[49m\u001B[43m,\u001B[49m\n\u001B[1;32m     47\u001B[0m \u001B[43m    \u001B[49m\u001B[43mepochs\u001B[49m\u001B[38;5;241;43m=\u001B[39;49m\u001B[43m_EPOCHS\u001B[49m\u001B[43m)\u001B[49m\n\u001B[1;32m     49\u001B[0m plot_predictive_performance(train_losses\u001B[38;5;241m=\u001B[39mtrain_results_dfs[\u001B[38;5;124m'\u001B[39m\u001B[38;5;124mtvodlulpe\u001B[39m\u001B[38;5;124m'\u001B[39m], val_losses\u001B[38;5;241m=\u001B[39mtest_results_dfs[\u001B[38;5;124m'\u001B[39m\u001B[38;5;124mtvodlulpe\u001B[39m\u001B[38;5;124m'\u001B[39m])\n\u001B[1;32m     51\u001B[0m plot_convergence_estimates(estimates\u001B[38;5;241m=\u001B[39mtrain_results_dfs[\u001B[38;5;124m'\u001B[39m\u001B[38;5;124mtvodlulpe\u001B[39m\u001B[38;5;124m'\u001B[39m][[\u001B[38;5;124m'\u001B[39m\u001B[38;5;124mepoch\u001B[39m\u001B[38;5;124m'\u001B[39m, \u001B[38;5;124m'\u001B[39m\u001B[38;5;124malpha\u001B[39m\u001B[38;5;124m'\u001B[39m, \u001B[38;5;124m'\u001B[39m\u001B[38;5;124mbeta\u001B[39m\u001B[38;5;124m'\u001B[39m]],\n\u001B[1;32m     52\u001B[0m                            xticks_spacing\u001B[38;5;241m=\u001B[39m_XTICKS_SPACING)\n",
      "File \u001B[0;32m~/Library/CloudStorage/OneDrive-Personal/data-science/github/gisuelogit/src/gisuelogit/models.py:1123\u001B[0m, in \u001B[0;36mGISUELOGIT.train\u001B[0;34m(self, X_train, Y_train, X_val, Y_val, optimizer, loss_weights, epochs, initial_values, trainables, threshold_relative_gap, loss_metric, momentum_equilibrium, relative_losses, generalization_error, epochs_print_interval, batch_size)\u001B[0m\n\u001B[1;32m   1119\u001B[0m current_sue_objectives \u001B[38;5;241m=\u001B[39m []\n\u001B[1;32m   1121\u001B[0m \u001B[38;5;28;01mif\u001B[39;00m \u001B[38;5;129;01mnot\u001B[39;00m terminate_algorithm:\n\u001B[0;32m-> 1123\u001B[0m     path_flows \u001B[38;5;241m=\u001B[39m \u001B[38;5;28;43mself\u001B[39;49m\u001B[38;5;241;43m.\u001B[39;49m\u001B[43mpath_flows\u001B[49m\u001B[43m(\u001B[49m\u001B[38;5;28;43mself\u001B[39;49m\u001B[38;5;241;43m.\u001B[39;49m\u001B[43mpath_probabilities\u001B[49m\u001B[43m(\u001B[49m\u001B[38;5;28;43mself\u001B[39;49m\u001B[38;5;241;43m.\u001B[39;49m\u001B[43mpath_utilities\u001B[49m\u001B[43m(\u001B[49m\u001B[38;5;28;43mself\u001B[39;49m\u001B[38;5;241;43m.\u001B[39;49m\u001B[43mlink_utilities\u001B[49m\u001B[43m(\u001B[49m\u001B[43mX_train\u001B[49m\u001B[43m)\u001B[49m\u001B[43m)\u001B[49m\u001B[43m)\u001B[49m\u001B[43m)\u001B[49m\n\u001B[1;32m   1124\u001B[0m     link_flow \u001B[38;5;241m=\u001B[39m \u001B[38;5;28mself\u001B[39m\u001B[38;5;241m.\u001B[39mlink_flows(path_flows)\n\u001B[1;32m   1125\u001B[0m     relative_x \u001B[38;5;241m=\u001B[39m \u001B[38;5;28mfloat\u001B[39m(np\u001B[38;5;241m.\u001B[39mnanmean(np\u001B[38;5;241m.\u001B[39mabs(tf\u001B[38;5;241m.\u001B[39mdivide(link_flow,\u001B[38;5;28mself\u001B[39m\u001B[38;5;241m.\u001B[39mflows()) \u001B[38;5;241m-\u001B[39m \u001B[38;5;241m1\u001B[39m)))\n",
      "File \u001B[0;32m~/Library/CloudStorage/OneDrive-Personal/data-science/github/gisuelogit/src/gisuelogit/models.py:699\u001B[0m, in \u001B[0;36mGISUELOGIT.path_flows\u001B[0;34m(self, pf)\u001B[0m\n\u001B[1;32m    693\u001B[0m     \u001B[38;5;28;01mreturn\u001B[39;00m tf\u001B[38;5;241m.\u001B[39meinsum(\u001B[38;5;124m\"\u001B[39m\u001B[38;5;124mij,i, lj -> lj\u001B[39m\u001B[38;5;124m\"\u001B[39m, \u001B[38;5;28mself\u001B[39m\u001B[38;5;241m.\u001B[39mM, \u001B[38;5;28mself\u001B[39m\u001B[38;5;241m.\u001B[39mq, pf)\n\u001B[1;32m    694\u001B[0m     \u001B[38;5;66;03m# return tf.einsum(\"ij,i, klj -> klj\", self.M, self.q, pf)\u001B[39;00m\n\u001B[1;32m    695\u001B[0m     \u001B[38;5;66;03m# return tf.einsum(\"j,lij -> lij\", tf.einsum(\"ij,i-> j\", self.M, self.q), pf)\u001B[39;00m\n\u001B[1;32m    696\u001B[0m \n\u001B[1;32m    697\u001B[0m \u001B[38;5;66;03m# todo: have a single einsum, e.g. return tf.einsum(\"ij,ki, lkj -> lij\", self.M, self.q, pf)\u001B[39;00m\n\u001B[1;32m    698\u001B[0m \u001B[38;5;66;03m# return tf.einsum(\"ij, lij -> lij\", tf.einsum(\"ij,ki-> kj\", self.M, self.q), pf)\u001B[39;00m\n\u001B[0;32m--> 699\u001B[0m od_flows \u001B[38;5;241m=\u001B[39m tf\u001B[38;5;241m.\u001B[39meinsum(\u001B[38;5;124m\"\u001B[39m\u001B[38;5;124mij,ki-> kj\u001B[39m\u001B[38;5;124m\"\u001B[39m, \u001B[38;5;28;43mself\u001B[39;49m\u001B[38;5;241;43m.\u001B[39;49m\u001B[43mM\u001B[49m, \u001B[38;5;28mself\u001B[39m\u001B[38;5;241m.\u001B[39mq)\n\u001B[1;32m    700\u001B[0m od_flows \u001B[38;5;241m=\u001B[39m tf\u001B[38;5;241m.\u001B[39mexperimental\u001B[38;5;241m.\u001B[39mnumpy\u001B[38;5;241m.\u001B[39mtake(od_flows, tf\u001B[38;5;241m.\u001B[39mcast(\u001B[38;5;28mself\u001B[39m\u001B[38;5;241m.\u001B[39mperiod_ids[:, \u001B[38;5;241m0\u001B[39m], dtype\u001B[38;5;241m=\u001B[39mtf\u001B[38;5;241m.\u001B[39mint32), \u001B[38;5;241m0\u001B[39m)\n\u001B[1;32m    702\u001B[0m \u001B[38;5;28;01mreturn\u001B[39;00m tf\u001B[38;5;241m.\u001B[39meinsum(\u001B[38;5;124m\"\u001B[39m\u001B[38;5;124mij, ij -> ij\u001B[39m\u001B[38;5;124m\"\u001B[39m, od_flows, pf)\n",
      "File \u001B[0;32m~/Library/CloudStorage/OneDrive-Personal/data-science/github/gisuelogit/src/gisuelogit/models.py:532\u001B[0m, in \u001B[0;36mGISUELOGIT.M\u001B[0;34m(self)\u001B[0m\n\u001B[1;32m    530\u001B[0m \u001B[38;5;129m@property\u001B[39m\n\u001B[1;32m    531\u001B[0m \u001B[38;5;28;01mdef\u001B[39;00m \u001B[38;5;21mM\u001B[39m(\u001B[38;5;28mself\u001B[39m):\n\u001B[0;32m--> 532\u001B[0m     \u001B[38;5;28;01mreturn\u001B[39;00m \u001B[43mtf\u001B[49m\u001B[38;5;241;43m.\u001B[39;49m\u001B[43mconstant\u001B[49m\u001B[43m(\u001B[49m\u001B[38;5;28;43mself\u001B[39;49m\u001B[38;5;241;43m.\u001B[39;49m\u001B[43mnetwork\u001B[49m\u001B[38;5;241;43m.\u001B[39;49m\u001B[43mM\u001B[49m\u001B[43m,\u001B[49m\u001B[43m \u001B[49m\u001B[43mdtype\u001B[49m\u001B[38;5;241;43m=\u001B[39;49m\u001B[38;5;28;43mself\u001B[39;49m\u001B[38;5;241;43m.\u001B[39;49m\u001B[43mdtype\u001B[49m\u001B[43m)\u001B[49m\n",
      "File \u001B[0;32m~/Library/Caches/pypoetry/virtualenvs/aesuelogit-1kW0OCrg-py3.9/lib/python3.9/site-packages/tensorflow/python/framework/constant_op.py:267\u001B[0m, in \u001B[0;36mconstant\u001B[0;34m(value, dtype, shape, name)\u001B[0m\n\u001B[1;32m    170\u001B[0m \u001B[38;5;129m@tf_export\u001B[39m(\u001B[38;5;124m\"\u001B[39m\u001B[38;5;124mconstant\u001B[39m\u001B[38;5;124m\"\u001B[39m, v1\u001B[38;5;241m=\u001B[39m[])\n\u001B[1;32m    171\u001B[0m \u001B[38;5;28;01mdef\u001B[39;00m \u001B[38;5;21mconstant\u001B[39m(value, dtype\u001B[38;5;241m=\u001B[39m\u001B[38;5;28;01mNone\u001B[39;00m, shape\u001B[38;5;241m=\u001B[39m\u001B[38;5;28;01mNone\u001B[39;00m, name\u001B[38;5;241m=\u001B[39m\u001B[38;5;124m\"\u001B[39m\u001B[38;5;124mConst\u001B[39m\u001B[38;5;124m\"\u001B[39m):\n\u001B[1;32m    172\u001B[0m   \u001B[38;5;124;03m\"\"\"Creates a constant tensor from a tensor-like object.\u001B[39;00m\n\u001B[1;32m    173\u001B[0m \n\u001B[1;32m    174\u001B[0m \u001B[38;5;124;03m  Note: All eager `tf.Tensor` values are immutable (in contrast to\u001B[39;00m\n\u001B[0;32m   (...)\u001B[0m\n\u001B[1;32m    265\u001B[0m \u001B[38;5;124;03m    ValueError: if called on a symbolic tensor.\u001B[39;00m\n\u001B[1;32m    266\u001B[0m \u001B[38;5;124;03m  \"\"\"\u001B[39;00m\n\u001B[0;32m--> 267\u001B[0m   \u001B[38;5;28;01mreturn\u001B[39;00m \u001B[43m_constant_impl\u001B[49m\u001B[43m(\u001B[49m\u001B[43mvalue\u001B[49m\u001B[43m,\u001B[49m\u001B[43m \u001B[49m\u001B[43mdtype\u001B[49m\u001B[43m,\u001B[49m\u001B[43m \u001B[49m\u001B[43mshape\u001B[49m\u001B[43m,\u001B[49m\u001B[43m \u001B[49m\u001B[43mname\u001B[49m\u001B[43m,\u001B[49m\u001B[43m \u001B[49m\u001B[43mverify_shape\u001B[49m\u001B[38;5;241;43m=\u001B[39;49m\u001B[38;5;28;43;01mFalse\u001B[39;49;00m\u001B[43m,\u001B[49m\n\u001B[1;32m    268\u001B[0m \u001B[43m                        \u001B[49m\u001B[43mallow_broadcast\u001B[49m\u001B[38;5;241;43m=\u001B[39;49m\u001B[38;5;28;43;01mTrue\u001B[39;49;00m\u001B[43m)\u001B[49m\n",
      "File \u001B[0;32m~/Library/Caches/pypoetry/virtualenvs/aesuelogit-1kW0OCrg-py3.9/lib/python3.9/site-packages/tensorflow/python/framework/constant_op.py:279\u001B[0m, in \u001B[0;36m_constant_impl\u001B[0;34m(value, dtype, shape, name, verify_shape, allow_broadcast)\u001B[0m\n\u001B[1;32m    277\u001B[0m     \u001B[38;5;28;01mwith\u001B[39;00m trace\u001B[38;5;241m.\u001B[39mTrace(\u001B[38;5;124m\"\u001B[39m\u001B[38;5;124mtf.constant\u001B[39m\u001B[38;5;124m\"\u001B[39m):\n\u001B[1;32m    278\u001B[0m       \u001B[38;5;28;01mreturn\u001B[39;00m _constant_eager_impl(ctx, value, dtype, shape, verify_shape)\n\u001B[0;32m--> 279\u001B[0m   \u001B[38;5;28;01mreturn\u001B[39;00m \u001B[43m_constant_eager_impl\u001B[49m\u001B[43m(\u001B[49m\u001B[43mctx\u001B[49m\u001B[43m,\u001B[49m\u001B[43m \u001B[49m\u001B[43mvalue\u001B[49m\u001B[43m,\u001B[49m\u001B[43m \u001B[49m\u001B[43mdtype\u001B[49m\u001B[43m,\u001B[49m\u001B[43m \u001B[49m\u001B[43mshape\u001B[49m\u001B[43m,\u001B[49m\u001B[43m \u001B[49m\u001B[43mverify_shape\u001B[49m\u001B[43m)\u001B[49m\n\u001B[1;32m    281\u001B[0m g \u001B[38;5;241m=\u001B[39m ops\u001B[38;5;241m.\u001B[39mget_default_graph()\n\u001B[1;32m    282\u001B[0m tensor_value \u001B[38;5;241m=\u001B[39m attr_value_pb2\u001B[38;5;241m.\u001B[39mAttrValue()\n",
      "File \u001B[0;32m~/Library/Caches/pypoetry/virtualenvs/aesuelogit-1kW0OCrg-py3.9/lib/python3.9/site-packages/tensorflow/python/framework/constant_op.py:304\u001B[0m, in \u001B[0;36m_constant_eager_impl\u001B[0;34m(ctx, value, dtype, shape, verify_shape)\u001B[0m\n\u001B[1;32m    302\u001B[0m \u001B[38;5;28;01mdef\u001B[39;00m \u001B[38;5;21m_constant_eager_impl\u001B[39m(ctx, value, dtype, shape, verify_shape):\n\u001B[1;32m    303\u001B[0m   \u001B[38;5;124;03m\"\"\"Creates a constant on the current device.\"\"\"\u001B[39;00m\n\u001B[0;32m--> 304\u001B[0m   t \u001B[38;5;241m=\u001B[39m \u001B[43mconvert_to_eager_tensor\u001B[49m\u001B[43m(\u001B[49m\u001B[43mvalue\u001B[49m\u001B[43m,\u001B[49m\u001B[43m \u001B[49m\u001B[43mctx\u001B[49m\u001B[43m,\u001B[49m\u001B[43m \u001B[49m\u001B[43mdtype\u001B[49m\u001B[43m)\u001B[49m\n\u001B[1;32m    305\u001B[0m   \u001B[38;5;28;01mif\u001B[39;00m shape \u001B[38;5;129;01mis\u001B[39;00m \u001B[38;5;28;01mNone\u001B[39;00m:\n\u001B[1;32m    306\u001B[0m     \u001B[38;5;28;01mreturn\u001B[39;00m t\n",
      "File \u001B[0;32m~/Library/Caches/pypoetry/virtualenvs/aesuelogit-1kW0OCrg-py3.9/lib/python3.9/site-packages/tensorflow/python/framework/constant_op.py:102\u001B[0m, in \u001B[0;36mconvert_to_eager_tensor\u001B[0;34m(value, ctx, dtype)\u001B[0m\n\u001B[1;32m    100\u001B[0m     dtype \u001B[38;5;241m=\u001B[39m dtypes\u001B[38;5;241m.\u001B[39mas_dtype(dtype)\u001B[38;5;241m.\u001B[39mas_datatype_enum\n\u001B[1;32m    101\u001B[0m ctx\u001B[38;5;241m.\u001B[39mensure_initialized()\n\u001B[0;32m--> 102\u001B[0m \u001B[38;5;28;01mreturn\u001B[39;00m \u001B[43mops\u001B[49m\u001B[38;5;241;43m.\u001B[39;49m\u001B[43mEagerTensor\u001B[49m\u001B[43m(\u001B[49m\u001B[43mvalue\u001B[49m\u001B[43m,\u001B[49m\u001B[43m \u001B[49m\u001B[43mctx\u001B[49m\u001B[38;5;241;43m.\u001B[39;49m\u001B[43mdevice_name\u001B[49m\u001B[43m,\u001B[49m\u001B[43m \u001B[49m\u001B[43mdtype\u001B[49m\u001B[43m)\u001B[49m\n",
      "\u001B[0;31mKeyboardInterrupt\u001B[0m: "
     ]
    }
   ],
   "source": [
    "if run_model['tvodlulpe']:\n",
    "\n",
    "    print('\\ntvodlulpe: Time specific utility and OD, link performance parameters, no historic OD')\n",
    "\n",
    "    optimizer = tf.keras.optimizers.Adam(learning_rate=_LR)\n",
    "\n",
    "    utility_parameters = UtilityParameters(features_Y=['tt'],\n",
    "                                           features_Z=features_Z,\n",
    "                                           initial_values={'tt': 0, 'c': 0, 's': 0, 'psc_factor': 0,\n",
    "                                                           'fixed_effect': np.zeros_like(fresno_network.links)},\n",
    "                                           signs={'tt': '-', 'tt_sd': '-', 'median_inc': '+', 'incidents': '-',\n",
    "                                                  'bus_stops': '-', 'intersections': '-'},\n",
    "                                           trainables={'psc_factor': False, 'fixed_effect': True},\n",
    "                                           )\n",
    "\n",
    "    bpr_parameters = BPRParameters(keys=['alpha', 'beta'],\n",
    "                                   initial_values={'alpha': 0.15, 'beta': 4},\n",
    "                                   # initial_values={'alpha': 0.1, 'beta': 1},\n",
    "                                   trainables={'alpha': True, 'beta': False},\n",
    "                                   # trainables=dict.fromkeys(['alpha', 'beta'], False),\n",
    "                                   )\n",
    "\n",
    "    od_parameters = ODParameters(key='od',\n",
    "                                 initial_values=fresno_network.q.flatten(),\n",
    "                                 true_values=fresno_network.q.flatten(),\n",
    "                                 historic_values={1: fresno_network.q.flatten()},\n",
    "                                 trainable=True)\n",
    "\n",
    "    tvodlulpe = GISUELOGIT(\n",
    "        key='tvodlulpe',\n",
    "        network=fresno_network,\n",
    "        dtype=tf.float64,\n",
    "        utility=utility_parameters,\n",
    "        bpr=bpr_parameters,\n",
    "        od=od_parameters,\n",
    "        n_periods = len(np.unique(X_train[:,:,-1].numpy().flatten()))\n",
    "    )\n",
    "    train_results_dfs['tvodlulpe'], test_results_dfs['tvodlulpe'] = tvodlulpe.train(\n",
    "        X_train, Y_train, X_test, Y_test,\n",
    "        optimizer=optimizer,\n",
    "        # generalization_error={'train': False, 'validation': True},\n",
    "        batch_size=_BATCH_SIZE,\n",
    "        loss_weights= _LOSS_WEIGHTS,\n",
    "        loss_metric=_LOSS_METRIC,\n",
    "        momentum_equilibrium=_MOMENTUM_EQUILIBRIUM['tvodlulpe'],\n",
    "        threshold_relative_gap=_RELATIVE_GAP,\n",
    "        epochs=_EPOCHS)\n",
    "\n",
    "    plot_predictive_performance(train_losses=train_results_dfs['tvodlulpe'], val_losses=test_results_dfs['tvodlulpe'])\n",
    "\n",
    "    plot_convergence_estimates(estimates=train_results_dfs['tvodlulpe'][['epoch', 'alpha', 'beta']],\n",
    "                               xticks_spacing=_XTICKS_SPACING)\n",
    "\n",
    "    # sns.displot(pd.melt(pd.DataFrame({'alpha': tvodlulpe.alpha, 'beta': tvodlulpe.beta}), var_name='parameters'),\n",
    "    #             x=\"value\", hue=\"parameters\", multiple=\"stack\", kind=\"kde\", alpha=0.8)\n",
    "\n",
    "    sns.displot(pd.DataFrame({'fixed_effect': np.array(tvodlulpe.fixed_effect)}),\n",
    "                x=\"fixed_effect\", multiple=\"stack\", kind=\"kde\", alpha=0.8)\n",
    "\n",
    "    plt.show()\n",
    "\n",
    "    print(f\"theta = {dict(zip(utility_parameters.true_values.keys(), list(tvodlulpe.theta.numpy())))}\")\n",
    "    print(f\"alpha = {np.mean(tvodlulpe.alpha): 0.2f}, beta  = {np.mean(tvodlulpe.beta): 0.2f}\")\n",
    "    print(f\"Avg abs diff of observed and estimated OD: {np.mean(np.abs(tvodlulpe.q - fresno_network.q.flatten())): 0.2f}\")\n",
    "    print(f\"Avg observed OD: {np.mean(np.abs(fresno_network.q.flatten())): 0.2f}\")"
   ],
   "metadata": {
    "collapsed": false
   }
  },
  {
   "cell_type": "markdown",
   "source": [
    "## Summary of parameters estimates"
   ],
   "metadata": {
    "collapsed": false
   }
  },
  {
   "cell_type": "code",
   "execution_count": null,
   "outputs": [],
   "source": [
    "results = pd.DataFrame({'parameter': [], 'model': []})\n",
    "for model in [lue,odlue, odlulpe_1, odlulpe_2]:\n",
    "    results = results.append(pd.DataFrame(\n",
    "        {'parameter': ['tt'] + features_Z +\n",
    "                      ['fixed_effect_mean','fixed_effect_std',\n",
    "                       'alpha_mean', 'alpha_std',\n",
    "                       'beta_mean', 'beta_std',\n",
    "                       'od_mean', 'od_std',],\n",
    "         'values': list(model.theta.numpy()) +\n",
    "                   [np.mean(model.fixed_effect),np.std(model.fixed_effect),\n",
    "                    np.mean(model.alpha),np.std(model.alpha),\n",
    "                    np.mean(model.beta),np.std(model.beta),\n",
    "                    np.mean(model.q),np.std(model.q)]}).\\\n",
    "                             assign(model = model.key)\n",
    "                             )"
   ],
   "metadata": {
    "collapsed": false
   }
  },
  {
   "cell_type": "code",
   "execution_count": null,
   "outputs": [],
   "source": [
    "results.pivot_table(index = ['parameter'], columns = 'model', values = 'values', sort=False).round(4)"
   ],
   "metadata": {
    "collapsed": false
   }
  },
  {
   "cell_type": "code",
   "execution_count": null,
   "outputs": [],
   "source": [
    "results_losses[['model'] + loss_columns].round(1)"
   ],
   "metadata": {
    "collapsed": false
   }
  },
  {
   "cell_type": "code",
   "execution_count": null,
   "outputs": [],
   "source": [
    "results = pd.DataFrame({'parameter': [], 'model': []})\n",
    "for model in [lue,odlue, odlulpe_1, odlulpe_2]:\n",
    "    results = results.append(pd.DataFrame(\n",
    "        {'component': ['mse_traveltime', 'mse_linkflows', 'mse_equilibrium', 'mse_od'],\n",
    "         'values': list(model.theta.numpy()) +\n",
    "                   [np.mean(model.fixed_effect),np.std(model.fixed_effect),\n",
    "                    np.mean(model.alpha),np.std(model.alpha),\n",
    "                    np.mean(model.beta),np.std(model.beta),\n",
    "                    np.mean(model.q),np.std(model.q)]}).\\\n",
    "                             assign(model = model.key)\n",
    "                             )"
   ],
   "metadata": {
    "collapsed": false
   }
  },
  {
   "cell_type": "code",
   "execution_count": null,
   "outputs": [],
   "source": [
    "results.pivot_table(index = ['parameter'], columns = 'model', values = 'values', sort=False).round(4)"
   ],
   "metadata": {
    "collapsed": false
   }
  },
  {
   "cell_type": "markdown",
   "source": [
    "## Summary of models goodness of fit"
   ],
   "metadata": {
    "collapsed": false
   }
  },
  {
   "cell_type": "code",
   "execution_count": null,
   "outputs": [],
   "source": [
    "results_losses = pd.DataFrame({})\n",
    "loss_columns = ['loss_flow', 'loss_tt', 'loss_eq_flow', 'loss_total']\n",
    "\n",
    "for i, model in enumerate([lue,odlue, odlulpe_1, odlulpe_2]):\n",
    "\n",
    "    results_losses_model = model.split_results(train_results_dfs[model.key])[1].assign(model = model.key)\n",
    "    results_losses_model = results_losses_model[results_losses_model.epoch == _EPOCHS['learning']].iloc[[0]]\n",
    "    results_losses = results_losses.append(results_losses_model)\n",
    "\n",
    "results_losses[loss_columns] = (results_losses[loss_columns]-1)*100"
   ],
   "metadata": {
    "collapsed": false
   }
  },
  {
   "cell_type": "code",
   "execution_count": null,
   "outputs": [],
   "source": [
    "results_losses[['model'] + loss_columns].round(1)"
   ],
   "metadata": {
    "collapsed": false
   }
  },
  {
   "cell_type": "markdown",
   "metadata": {},
   "source": [
    "## Write csv file with estimation results"
   ]
  },
  {
   "cell_type": "code",
   "execution_count": null,
   "metadata": {},
   "outputs": [],
   "source": [
    "train_results_df, test_results_df \\\n",
    "    = map(lambda x: pd.concat([results.assign(model = model)[['model'] + list(results.columns)]\n",
    "                               for model, results in x.items()],axis = 0), [train_results_dfs, test_results_dfs])\n",
    "\n",
    "network_name = 'Fresno'\n",
    "\n",
    "train_filename = f\"{datetime.now().strftime('%y%m%d%H%M%S')}_train_results_{network_name}.csv\"\n",
    "test_filename = f\"{datetime.now().strftime('%y%m%d%H%M%S')}_validation_results_{network_name}.csv\"\n",
    "train_results_df.to_csv(f\"./output/tables/{train_filename}\")\n",
    "print(f'File {train_filename} was written')\n",
    "test_results_df.to_csv(f\"./output/tables/{test_filename}\")\n",
    "print(f'File {test_filename} was written')"
   ]
  }
 ],
 "metadata": {
  "kernelspec": {
   "display_name": "aesuelogit-1kW0OCrg-py3.9",
   "language": "python",
   "name": "aesuelogit-1kw0ocrg-py3.9"
  },
  "language_info": {
   "codemirror_mode": {
    "name": "ipython",
    "version": 3
   },
   "file_extension": ".py",
   "mimetype": "text/x-python",
   "name": "python",
   "nbconvert_exporter": "python",
   "pygments_lexer": "ipython3",
   "version": "3.9.1"
  }
 },
 "nbformat": 4,
 "nbformat_minor": 1
}
