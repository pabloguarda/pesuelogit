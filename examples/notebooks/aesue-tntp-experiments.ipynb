{
 "cells": [
  {
   "cell_type": "markdown",
   "metadata": {
    "collapsed": true,
    "pycharm": {
     "name": "#%% md\n"
    }
   },
   "source": [
    "## Setup"
   ]
  },
  {
   "cell_type": "code",
   "execution_count": 5,
   "metadata": {
    "pycharm": {
     "name": "#%%\n"
    }
   },
   "outputs": [],
   "source": [
    "import os\n",
    "from pathlib import Path\n",
    "import random"
   ]
  },
  {
   "cell_type": "code",
   "execution_count": 2,
   "metadata": {
    "pycharm": {
     "name": "#%%\n"
    }
   },
   "outputs": [
    {
     "name": "stdout",
     "output_type": "stream",
     "text": [
      "main dir: /Users/pablo/github/aesuelogit\n"
     ]
    }
   ],
   "source": [
    "# Path management\n",
    "main_dir = str(Path(os.path.abspath('')).parents[1])\n",
    "os.chdir(main_dir)\n",
    "print('main dir:', main_dir)"
   ]
  },
  {
   "cell_type": "code",
   "execution_count": 3,
   "metadata": {
    "pycharm": {
     "name": "#%%\n"
    }
   },
   "outputs": [],
   "source": [
    "# Internal modules\n",
    "from src.aesuelogit.models import UtilityParameters, BPRParameters, ODParameters, GISUELOGIT, NGD\n",
    "from src.aesuelogit.networks import load_k_shortest_paths, build_tntp_network, Equilibrator, ColumnGenerator\n",
    "from src.aesuelogit.etl import get_design_tensor, get_y_tensor, simulate_suelogit_data\n",
    "from src.aesuelogit.experiments import *"
   ]
  },
  {
   "cell_type": "code",
   "execution_count": 4,
   "metadata": {
    "pycharm": {
     "name": "#%%\n"
    }
   },
   "outputs": [],
   "source": [
    "# Seed for reproducibility\n",
    "_SEED = 2022\n",
    "\n",
    "np.random.seed(_SEED)\n",
    "random.seed(_SEED)\n",
    "tf.random.set_seed(_SEED)"
   ]
  },
  {
   "cell_type": "markdown",
   "metadata": {
    "pycharm": {
     "name": "#%% md\n"
    }
   },
   "source": [
    "## Experiments"
   ]
  },
  {
   "cell_type": "code",
   "execution_count": 5,
   "metadata": {
    "pycharm": {
     "name": "#%%\n"
    }
   },
   "outputs": [],
   "source": [
    "list_experiments = ['convergence', 'multiday', 'noisy_counts', 'noisy_od', 'ill_scaled_od']"
   ]
  },
  {
   "cell_type": "code",
   "execution_count": 6,
   "metadata": {
    "pycharm": {
     "name": "#%%\n"
    }
   },
   "outputs": [],
   "source": [
    "run_experiment = dict.fromkeys(list_experiments,True)\n",
    "# run_experiment = dict.fromkeys(list_experiments, False)\n",
    "\n",
    "# run_experiment['convergence'] = True\n",
    "run_experiment['multiday'] = True\n",
    "# run_experiment['noisy_counts'] = True\n",
    "# run_experiment['noisy_od'] = True\n",
    "# run_experiment['ill_scaled_od'] = True"
   ]
  },
  {
   "cell_type": "markdown",
   "metadata": {
    "pycharm": {
     "name": "#%% md\n"
    }
   },
   "source": [
    "## Build network"
   ]
  },
  {
   "cell_type": "code",
   "execution_count": 7,
   "metadata": {
    "pycharm": {
     "is_executing": true,
     "name": "#%%\n"
    }
   },
   "outputs": [],
   "source": [
    "network_name = 'SiouxFalls'\n",
    "\n",
    "tntp_network = build_tntp_network(network_name=network_name)"
   ]
  },
  {
   "cell_type": "markdown",
   "metadata": {
    "pycharm": {
     "name": "#%% md\n"
    }
   },
   "source": [
    "## Read OD matrix"
   ]
  },
  {
   "cell_type": "code",
   "execution_count": 8,
   "metadata": {
    "pycharm": {
     "is_executing": true,
     "name": "#%%\n"
    }
   },
   "outputs": [
    {
     "name": "stdout",
     "output_type": "stream",
     "text": [
      "Reading Q from external file\n",
      "Matrix Q (24, 24) read in 0.7[s]                        \n",
      "\n",
      "360600.0 trips were loaded among 528 o-d pairs\n"
     ]
    }
   ],
   "source": [
    "Q = isl.reader.read_tntp_od(network_name=network_name)\n",
    "tntp_network.load_OD(Q=Q)"
   ]
  },
  {
   "cell_type": "markdown",
   "metadata": {
    "pycharm": {
     "name": "#%% md\n"
    }
   },
   "source": [
    "## Load paths"
   ]
  },
  {
   "cell_type": "code",
   "execution_count": 9,
   "metadata": {
    "pycharm": {
     "is_executing": true,
     "name": "#%%\n"
    }
   },
   "outputs": [
    {
     "name": "stdout",
     "output_type": "stream",
     "text": [
      "Generating at most 2 paths per od\n",
      "1056 paths were generated among 528 od pairs in 0.8 [s]\n",
      "\n",
      "1056 paths were loaded in the network\n",
      "Matrix D (76, 1056) generated in 1.0[s]               \n",
      "\n",
      "Matrix M (528, 1056) generated in 0.8[s]               \n",
      "\n",
      "Matrix C (1056, 1056) generated in 0.0[s]               \n",
      "\n"
     ]
    }
   ],
   "source": [
    "load_k_shortest_paths(network=tntp_network, k=2, update_incidence_matrices=True)"
   ]
  },
  {
   "cell_type": "markdown",
   "metadata": {
    "pycharm": {
     "name": "#%% md\n"
    }
   },
   "source": [
    "## Read synthetic traffic data"
   ]
  },
  {
   "cell_type": "code",
   "execution_count": 10,
   "metadata": {
    "pycharm": {
     "is_executing": true,
     "name": "#%%\n"
    }
   },
   "outputs": [],
   "source": [
    "df = pd.read_csv(\n",
    "    main_dir + '/output/network-data/' + tntp_network.key + '/links/' + tntp_network.key + '-link-data.csv')\n",
    "\n",
    "n_days = len(df.period.unique())\n",
    "n_links = len(tntp_network.links)\n",
    "n_hours = 1\n",
    "\n",
    "features_Z = ['c', 's']"
   ]
  },
  {
   "cell_type": "markdown",
   "metadata": {
    "pycharm": {
     "name": "#%% md\n"
    }
   },
   "source": [
    "## Data processing"
   ]
  },
  {
   "cell_type": "code",
   "execution_count": 11,
   "metadata": {
    "pycharm": {
     "name": "#%%\n"
    }
   },
   "outputs": [
    {
     "name": "stderr",
     "output_type": "stream",
     "text": [
      "2022-05-31 12:49:01.666189: I tensorflow/core/platform/cpu_feature_guard.cc:151] This TensorFlow binary is optimized with oneAPI Deep Neural Network Library (oneDNN) to use the following CPU instructions in performance-critical operations:  AVX2 FMA\n",
      "To enable them in other operations, rebuild TensorFlow with the appropriate compiler flags.\n"
     ]
    }
   ],
   "source": [
    "traveltime_data = get_design_tensor(y=df['traveltime'], n_links=n_links, n_days=n_days, n_hours=n_hours)\n",
    "flow_data = get_y_tensor(y=df[['counts']], n_links=n_links, n_days=n_days, n_hours=n_hours)\n",
    "\n",
    "Y = tf.concat([traveltime_data, flow_data], axis=3)\n",
    "X = get_design_tensor(Z=df[['traveltime'] + features_Z], n_links=n_links, n_days=n_days, n_hours=n_hours)"
   ]
  },
  {
   "cell_type": "markdown",
   "metadata": {
    "pycharm": {
     "name": "#%% md\n"
    }
   },
   "source": [
    "## Network equilibrium predictions"
   ]
  },
  {
   "cell_type": "code",
   "execution_count": 12,
   "metadata": {
    "pycharm": {
     "is_executing": true,
     "name": "#%%\n"
    }
   },
   "outputs": [],
   "source": [
    "equilibrator = Equilibrator(\n",
    "    network=tntp_network,\n",
    "    max_iters=100,\n",
    "    method='fw',\n",
    "    iters_fw=50,\n",
    "    accuracy=1e-4,\n",
    ")"
   ]
  },
  {
   "cell_type": "markdown",
   "metadata": {
    "pycharm": {
     "name": "#%% md\n"
    }
   },
   "source": [
    "## Learning parameters"
   ]
  },
  {
   "cell_type": "code",
   "execution_count": 13,
   "metadata": {
    "pycharm": {
     "name": "#%%\n"
    }
   },
   "outputs": [],
   "source": [
    "_EPOCHS = 20\n",
    "_BATCH_SIZE = 4\n",
    "_LR = 5e-1  # Default is 1e-3. With 1e-1, training becomes unstable"
   ]
  },
  {
   "cell_type": "markdown",
   "metadata": {
    "pycharm": {
     "name": "#%% md\n"
    }
   },
   "source": [
    "## Utility Function"
   ]
  },
  {
   "cell_type": "code",
   "execution_count": 14,
   "metadata": {
    "pycharm": {
     "name": "#%%\n"
    }
   },
   "outputs": [],
   "source": [
    "utility_parameters = UtilityParameters(features_Y=['tt'],\n",
    "                                       features_Z=features_Z,\n",
    "                                       true_values={'tt': -1, 'c': -6, 's': -3, 'psc_factor': 0, 'fixed_effect': 0},\n",
    "                                       initial_values={'tt': 0, 'c': 0, 's': 0, 'psc_factor': 0,\n",
    "                                                       'fixed_effect': np.zeros_like(tntp_network.links)},\n",
    "                                       trainables={'psc_factor': False, 'fixed_effect': False},\n",
    "                                       # trainables = None, #['features','psc_factor, fixed_effect']\n",
    "                                       )"
   ]
  },
  {
   "cell_type": "markdown",
   "metadata": {
    "pycharm": {
     "name": "#%% md\n"
    }
   },
   "source": [
    "## Convergence Experiment"
   ]
  },
  {
   "cell_type": "code",
   "execution_count": 18,
   "metadata": {
    "pycharm": {
     "is_executing": true,
     "name": "#%%\n"
    }
   },
   "outputs": [
    {
     "name": "stdout",
     "output_type": "stream",
     "text": [
      "\n",
      "Epoch: 0, n_train: 102, n_test: 26\n",
      "\n",
      "SUE via fw (max iters: 100)\n",
      "\n",
      "Equilibrium gaps: ['0E+00']\n",
      "Initial Fisk Objective: -52,510.66\n",
      "Final Fisk Objective: -52,510.62\n",
      "Improvement Fisk Objective: 0.00%\n",
      "Final gap: 0E+00. Acc. bound: 1E-04. Time: 0.3 [s]\n",
      "\n",
      "\n",
      "\n",
      "SUE via fw (max iters: 100)\n",
      "\n",
      "Equilibrium gaps: ['0E+00']\n",
      "Initial Fisk Objective: -52,324.36\n",
      "Final Fisk Objective: -52,324.29\n",
      "Improvement Fisk Objective: 0.00%\n",
      "Final gap: 0E+00. Acc. bound: 1E-04. Time: 0.3 [s]\n",
      "\n",
      "\n",
      "0: train_loss=1.4e+08,  val_loss=1.4e+08, train_loss tt=1.3e+02, val_loss tt=1.3e+02, train_loss flow=1.4e+08, val_loss flow=1.4e+08, train_loss bpr=1e+02, val_loss bpr=1e+02, theta = [-5.747  -2.7351 -4.4711], vot = 2.10, psc_factor = 0.0, avg abs theta fixed effect = 0, avg alpha = 0.15, avg beta = 1, avg abs diff demand =6.8e+02, time:  1.0\n",
      "train generalization error =1.1, \n",
      "val generalization error =1.1, \n",
      "\n",
      "Epoch: 1, n_train: 102, n_test: 26\n",
      "\n",
      "SUE via fw (max iters: 100)\n",
      "\n",
      "Equilibrium gaps: ['0E+00']\n",
      "Initial Fisk Objective: 34,159,958.5\n",
      "Final Fisk Objective: 34,159,958.5\n",
      "Improvement Fisk Objective: 0.00%\n",
      "Final gap: 0E+00. Acc. bound: 1E-04. Time: 0.2 [s]\n",
      "\n",
      "\n",
      "\n",
      "SUE via fw (max iters: 100)\n",
      "\n",
      "Equilibrium gaps: ['0E+00']\n",
      "Initial Fisk Objective: 33,748,577.85\n",
      "Final Fisk Objective: 33,748,577.85\n",
      "Improvement Fisk Objective: 0.00%\n",
      "Final gap: 0E+00. Acc. bound: 1E-04. Time: 0.2 [s]\n",
      "\n",
      "\n",
      "1: train_loss=5.7e+07,  val_loss=5.7e+07, train_loss tt=56, val_loss tt=57, train_loss flow=5.7e+07, val_loss flow=5.7e+07, train_loss bpr=56, val_loss bpr=56, theta = [-6.6274  8.4305  3.5677], vot = -0.79, psc_factor = 0.0, avg abs theta fixed effect = 0, avg alpha = 1.7, avg beta = 0.012, avg abs diff demand =5e+02, time:  2.3\n",
      "train generalization error =0.61, \n",
      "val generalization error =0.6, \n",
      "\n",
      "Epoch: 2, n_train: 102, n_test: 26\n",
      "\n",
      "SUE via fw (max iters: 100)\n",
      "\n",
      "Equilibrium gaps: ['0E+00']\n",
      "Initial Fisk Objective: 23,300,583.82\n",
      "Final Fisk Objective: 23,300,583.82\n",
      "Improvement Fisk Objective: 0.00%\n",
      "Final gap: 0E+00. Acc. bound: 1E-04. Time: 0.2 [s]\n",
      "\n",
      "\n",
      "\n",
      "SUE via fw (max iters: 100)\n",
      "\n",
      "Equilibrium gaps: ['0E+00']\n",
      "Initial Fisk Objective: 23,424,342.91\n",
      "Final Fisk Objective: 23,424,342.91\n",
      "Improvement Fisk Objective: 0.00%\n",
      "Final gap: 0E+00. Acc. bound: 1E-04. Time: 0.2 [s]\n",
      "\n",
      "\n",
      "2: train_loss=6.4e+06,  val_loss=6.7e+06, train_loss tt=55, val_loss tt=55, train_loss flow=6.4e+06, val_loss flow=6.7e+06, train_loss bpr=55, val_loss bpr=55, theta = [-9.4368  6.0392  1.4475], vot = -1.56, psc_factor = 0.0, avg abs theta fixed effect = 0, avg alpha = 1.8, avg beta = 0.022, avg abs diff demand =4e+02, time:  2.1\n",
      "train generalization error =0.71, \n",
      "val generalization error =0.73, \n",
      "\n",
      "Epoch: 3, n_train: 102, n_test: 26\n",
      "\n",
      "SUE via fw (max iters: 100)\n",
      "\n",
      "Equilibrium gaps: ['3E-05']\n",
      "Initial Fisk Objective: -67,772,168.59\n",
      "Final Fisk Objective: -67,156,329.57\n",
      "Improvement Fisk Objective: 0.91%\n",
      "Final gap: 3E-05. Acc. bound: 1E-04. Time: 0.3 [s]\n",
      "\n",
      "\n",
      "\n",
      "SUE via fw (max iters: 100)\n",
      "\n",
      "Equilibrium gaps: ['1E-04', '5E-07']\n",
      "Initial Fisk Objective: -67,706,118.75\n",
      "Final Fisk Objective: -67,289,646.14\n",
      "Improvement Fisk Objective: 0.62%\n",
      "Final gap: 5E-07. Acc. bound: 1E-04. Time: 0.4 [s]\n",
      "\n",
      "\n",
      "3: train_loss=2.9e+06,  val_loss=3.3e+06, train_loss tt=77, val_loss tt=77, train_loss flow=2.9e+06, val_loss flow=3.3e+06, train_loss bpr=73, val_loss bpr=74, theta = [-11.3275  -5.148   -6.5276], vot = 2.20, psc_factor = 0.0, avg abs theta fixed effect = 0, avg alpha = 0.38, avg beta = 1, avg abs diff demand =4e+02, time:  2.4\n",
      "train generalization error =0.11, \n",
      "val generalization error =0.14, \n",
      "\n",
      "Epoch: 4, n_train: 102, n_test: 26\n",
      "\n",
      "SUE via fw (max iters: 100)\n",
      "\n",
      "Equilibrium gaps: ['6E-04', '5E-05']\n",
      "Initial Fisk Objective: -188,819,895.18\n",
      "Final Fisk Objective: -188,265,517.89\n",
      "Improvement Fisk Objective: 0.29%\n",
      "Final gap: 5E-05. Acc. bound: 1E-04. Time: 0.4 [s]\n",
      "\n",
      "\n",
      "\n",
      "SUE via fw (max iters: 100)\n",
      "\n",
      "Equilibrium gaps: ['2E-04', '2E-04', '2E-05']\n",
      "Initial Fisk Objective: -188,397,197.05\n",
      "Final Fisk Objective: -187,868,901.45\n",
      "Improvement Fisk Objective: 0.28%\n",
      "Final gap: 2E-05. Acc. bound: 1E-04. Time: 0.5 [s]\n",
      "\n",
      "\n",
      "4: train_loss=1.2e+06,  val_loss=1.3e+06, train_loss tt=22, val_loss tt=24, train_loss flow=1.2e+06, val_loss flow=1.3e+06, train_loss bpr=18, val_loss bpr=18, theta = [ -5.7775 -15.478  -13.6269], vot = 0.37, psc_factor = 0.0, avg abs theta fixed effect = 0, avg alpha = 1.1, avg beta = 1.5, avg abs diff demand =4.1e+02, time:  2.8\n",
      "train generalization error =0.073, \n",
      "val generalization error =0.069, \n",
      "\n",
      "Epoch: 5, n_train: 102, n_test: 26\n",
      "\n",
      "SUE via fw (max iters: 100)\n",
      "\n",
      "Equilibrium gaps: ['2E-03', '5E-05']\n",
      "Initial Fisk Objective: -234,157,673.19\n",
      "Final Fisk Objective: -232,180,574.9\n",
      "Improvement Fisk Objective: 0.84%\n",
      "Final gap: 5E-05. Acc. bound: 1E-04. Time: 0.4 [s]\n",
      "\n",
      "\n",
      "\n",
      "SUE via fw (max iters: 100)\n",
      "\n",
      "Equilibrium gaps: ['3E-03', '5E-04', '2E-04', '1E-04', '1E-04', '6E-05']\n",
      "Initial Fisk Objective: -234,710,802.46\n",
      "Final Fisk Objective: -232,095,185.24\n",
      "Improvement Fisk Objective: 1.11%\n",
      "Final gap: 6E-05. Acc. bound: 1E-04. Time: 0.8 [s]\n",
      "\n",
      "\n",
      "5: train_loss=8e+05,  val_loss=8.5e+05, train_loss tt=16, val_loss tt=19, train_loss flow=8e+05, val_loss flow=8.5e+05, train_loss bpr=5.3, val_loss bpr=5.1, theta = [ -6.1945 -20.3217 -10.8506], vot = 0.30, psc_factor = 0.0, avg abs theta fixed effect = 0, avg alpha = 0.32, avg beta = 3.2, avg abs diff demand =4.1e+02, time:  3.0\n",
      "train generalization error =0.063, \n",
      "val generalization error =0.051, \n",
      "\n",
      "Epoch: 6, n_train: 102, n_test: 26\n",
      "\n",
      "SUE via fw (max iters: 100)\n",
      "\n",
      "Equilibrium gaps: ['4E-05']\n",
      "Initial Fisk Objective: -272,849,862.43\n",
      "Final Fisk Objective: -272,713,653.21\n",
      "Improvement Fisk Objective: 0.05%\n",
      "Final gap: 4E-05. Acc. bound: 1E-04. Time: 0.3 [s]\n",
      "\n",
      "\n",
      "\n",
      "SUE via fw (max iters: 100)\n",
      "\n",
      "Equilibrium gaps: ['7E-05']\n",
      "Initial Fisk Objective: -272,784,232.73\n",
      "Final Fisk Objective: -272,526,647.14\n",
      "Improvement Fisk Objective: 0.09%\n",
      "Final gap: 7E-05. Acc. bound: 1E-04. Time: 0.3 [s]\n",
      "\n",
      "\n",
      "6: train_loss=4.5e+05,  val_loss=3.6e+05, train_loss tt=7.6, val_loss tt=7.2, train_loss flow=4.5e+05, val_loss flow=3.6e+05, train_loss bpr=6.1, val_loss bpr=6, theta = [ -4.2674 -24.4142 -12.6873], vot = 0.17, psc_factor = 0.0, avg abs theta fixed effect = 0, avg alpha = 0.35, avg beta = 2.8, avg abs diff demand =4.2e+02, time:  2.4\n",
      "train generalization error =0.05, \n",
      "val generalization error =0.063, \n",
      "\n",
      "Epoch: 7, n_train: 102, n_test: 26\n",
      "\n",
      "SUE via fw (max iters: 100)\n",
      "\n",
      "Equilibrium gaps: ['8E-04', '2E-04', '9E-05']\n",
      "Initial Fisk Objective: -276,211,154.37\n",
      "Final Fisk Objective: -275,033,318.37\n",
      "Improvement Fisk Objective: 0.43%\n",
      "Final gap: 9E-05. Acc. bound: 1E-04. Time: 0.5 [s]\n",
      "\n",
      "\n",
      "\n",
      "SUE via fw (max iters: 100)\n",
      "\n",
      "Equilibrium gaps: ['2E-03', '2E-04', '3E-04', '1E-05']\n",
      "Initial Fisk Objective: -276,166,359.28\n",
      "Final Fisk Objective: -273,500,745.22\n",
      "Improvement Fisk Objective: 0.97%\n",
      "Final gap: 1E-05. Acc. bound: 1E-04. Time: 0.6 [s]\n",
      "\n",
      "\n",
      "7: train_loss=3.5e+05,  val_loss=2.6e+05, train_loss tt=4.7, val_loss tt=3.8, train_loss flow=3.5e+05, val_loss flow=2.6e+05, train_loss bpr=3, val_loss bpr=2.8, theta = [ -4.2267 -24.5942 -12.2331], vot = 0.17, psc_factor = 0.0, avg abs theta fixed effect = 0, avg alpha = 0.2, avg beta = 3.5, avg abs diff demand =4.2e+02, time:  2.9\n",
      "train generalization error =0.085, \n",
      "val generalization error =0.066, \n",
      "\n",
      "Epoch: 8, n_train: 102, n_test: 26\n",
      "\n",
      "SUE via fw (max iters: 100)\n",
      "\n",
      "Equilibrium gaps: ['0E+00']\n",
      "Initial Fisk Objective: -266,573,914.55\n",
      "Final Fisk Objective: -266,561,805.64\n",
      "Improvement Fisk Objective: 0.00%\n",
      "Final gap: 0E+00. Acc. bound: 1E-04. Time: 0.5 [s]\n",
      "\n",
      "\n",
      "\n",
      "SUE via fw (max iters: 100)\n",
      "\n",
      "Equilibrium gaps: ['6E-06']\n",
      "Initial Fisk Objective: -267,622,430.13\n",
      "Final Fisk Objective: -267,601,968.34\n",
      "Improvement Fisk Objective: 0.01%\n",
      "Final gap: 6E-06. Acc. bound: 1E-04. Time: 0.4 [s]\n",
      "\n",
      "\n",
      "8: train_loss=3.2e+05,  val_loss=2.5e+05, train_loss tt=7.3, val_loss tt=6.6, train_loss flow=3.2e+05, val_loss flow=2.5e+05, train_loss bpr=6.3, val_loss bpr=6.1, theta = [ -4.2299 -23.6509 -13.5776], vot = 0.18, psc_factor = 0.0, avg abs theta fixed effect = 0, avg alpha = 0.36, avg beta = 3, avg abs diff demand =4.2e+02, time:  3.2\n",
      "train generalization error =0.059, \n",
      "val generalization error =0.057, \n",
      "\n",
      "Epoch: 9, n_train: 102, n_test: 26\n",
      "\n",
      "SUE via fw (max iters: 100)\n",
      "\n",
      "Equilibrium gaps: ['7E-04', '3E-04', '1E-04', '5E-05']\n",
      "Initial Fisk Objective: -271,089,927.68\n",
      "Final Fisk Objective: -269,913,806.15\n",
      "Improvement Fisk Objective: 0.43%\n",
      "Final gap: 5E-05. Acc. bound: 1E-04. Time: 1.0 [s]\n",
      "\n",
      "\n",
      "\n",
      "SUE via fw (max iters: 100)\n"
     ]
    },
    {
     "name": "stdout",
     "output_type": "stream",
     "text": [
      "\n",
      "Equilibrium gaps: ['3E-05']\n",
      "Initial Fisk Objective: -268,514,960.95\n",
      "Final Fisk Objective: -268,092,796.85\n",
      "Improvement Fisk Objective: 0.16%\n",
      "Final gap: 3E-05. Acc. bound: 1E-04. Time: 0.5 [s]\n",
      "\n",
      "\n",
      "9: train_loss=3.1e+05,  val_loss=2.4e+05, train_loss tt=3.7, val_loss tt=3.2, train_loss flow=3.1e+05, val_loss flow=2.4e+05, train_loss bpr=2.9, val_loss bpr=2.7, theta = [ -3.9217 -24.0928 -13.0003], vot = 0.16, psc_factor = 0.0, avg abs theta fixed effect = 0, avg alpha = 0.2, avg beta = 3.5, avg abs diff demand =4.2e+02, time:  4.5\n",
      "train generalization error =0.077, \n",
      "val generalization error =0.055, \n",
      "\n",
      "Epoch: 10, n_train: 102, n_test: 26\n",
      "\n",
      "SUE via fw (max iters: 100)\n",
      "\n",
      "Equilibrium gaps: ['2E-03', '4E-04', '6E-05']\n",
      "Initial Fisk Objective: -265,818,648.46\n",
      "Final Fisk Objective: -264,476,603.45\n",
      "Improvement Fisk Objective: 0.50%\n",
      "Final gap: 6E-05. Acc. bound: 1E-04. Time: 1.0 [s]\n",
      "\n",
      "\n",
      "\n",
      "SUE via fw (max iters: 100)\n",
      "\n",
      "Equilibrium gaps: ['5E-04', '8E-05']\n",
      "Initial Fisk Objective: -265,063,067.96\n",
      "Final Fisk Objective: -263,881,590.06\n",
      "Improvement Fisk Objective: 0.45%\n",
      "Final gap: 8E-05. Acc. bound: 1E-04. Time: 0.7 [s]\n",
      "\n",
      "\n",
      "10: train_loss=2.7e+05,  val_loss=2e+05, train_loss tt=3.3, val_loss tt=2.1, train_loss flow=2.7e+05, val_loss flow=2e+05, train_loss bpr=2.1, val_loss bpr=1.9, theta = [ -4.2442 -23.6517 -12.6147], vot = 0.18, psc_factor = 0.0, avg abs theta fixed effect = 0, avg alpha = 0.17, avg beta = 3.9, avg abs diff demand =4.3e+02, time:  4.7\n",
      "train generalization error =0.059, \n",
      "val generalization error =0.052, \n",
      "\n",
      "Epoch: 11, n_train: 102, n_test: 26\n",
      "\n",
      "SUE via fw (max iters: 100)\n",
      "\n",
      "Equilibrium gaps: ['4E-04', '1E-04', '2E-06']\n",
      "Initial Fisk Objective: -265,271,637.74\n",
      "Final Fisk Objective: -264,535,933.34\n",
      "Improvement Fisk Objective: 0.28%\n",
      "Final gap: 2E-06. Acc. bound: 1E-04. Time: 0.9 [s]\n",
      "\n",
      "\n",
      "\n",
      "SUE via fw (max iters: 100)\n",
      "\n",
      "Equilibrium gaps: ['1E-05']\n",
      "Initial Fisk Objective: -264,877,128.38\n",
      "Final Fisk Objective: -264,850,824.31\n",
      "Improvement Fisk Objective: 0.01%\n",
      "Final gap: 1E-05. Acc. bound: 1E-04. Time: 0.4 [s]\n",
      "\n",
      "\n",
      "11: train_loss=2.6e+05,  val_loss=2e+05, train_loss tt=2.7, val_loss tt=2.1, train_loss flow=2.6e+05, val_loss flow=2e+05, train_loss bpr=2.2, val_loss bpr=2, theta = [ -3.9876 -23.6205 -12.8547], vot = 0.17, psc_factor = 0.0, avg abs theta fixed effect = 0, avg alpha = 0.19, avg beta = 3.7, avg abs diff demand =4.3e+02, time:  4.3\n",
      "train generalization error =0.05, \n",
      "val generalization error =0.053, \n",
      "\n",
      "Epoch: 12, n_train: 102, n_test: 26\n",
      "\n",
      "SUE via fw (max iters: 100)\n",
      "\n",
      "Equilibrium gaps: ['2E-06']\n",
      "Initial Fisk Objective: -260,127,465.74\n",
      "Final Fisk Objective: -259,597,710.04\n",
      "Improvement Fisk Objective: 0.20%\n",
      "Final gap: 2E-06. Acc. bound: 1E-04. Time: 0.5 [s]\n",
      "\n",
      "\n",
      "\n",
      "SUE via fw (max iters: 100)\n",
      "\n",
      "Equilibrium gaps: ['8E-05']\n",
      "Initial Fisk Objective: -260,068,441.62\n",
      "Final Fisk Objective: -259,503,494.39\n",
      "Improvement Fisk Objective: 0.22%\n",
      "Final gap: 8E-05. Acc. bound: 1E-04. Time: 0.5 [s]\n",
      "\n",
      "\n",
      "12: train_loss=2.4e+05,  val_loss=1.9e+05, train_loss tt=2.7, val_loss tt=2.2, train_loss flow=2.4e+05, val_loss flow=1.9e+05, train_loss bpr=2.2, val_loss bpr=2, theta = [ -4.0958 -23.2762 -12.908 ], vot = 0.18, psc_factor = 0.0, avg abs theta fixed effect = 0, avg alpha = 0.18, avg beta = 3.7, avg abs diff demand =4.3e+02, time:  4.0\n",
      "train generalization error =0.063, \n",
      "val generalization error =0.051, \n",
      "\n",
      "Epoch: 13, n_train: 102, n_test: 26\n",
      "\n",
      "SUE via fw (max iters: 100)\n",
      "\n",
      "Equilibrium gaps: ['2E-04', '2E-05']\n",
      "Initial Fisk Objective: -263,527,152.22\n",
      "Final Fisk Objective: -262,679,866.42\n",
      "Improvement Fisk Objective: 0.32%\n",
      "Final gap: 2E-05. Acc. bound: 1E-04. Time: 0.4 [s]\n",
      "\n",
      "\n",
      "\n",
      "SUE via fw (max iters: 100)\n",
      "\n",
      "Equilibrium gaps: ['1E-03', '2E-04', '1E-04', '3E-05']\n",
      "Initial Fisk Objective: -265,088,245.45\n",
      "Final Fisk Objective: -262,869,788.82\n",
      "Improvement Fisk Objective: 0.84%\n",
      "Final gap: 3E-05. Acc. bound: 1E-04. Time: 0.6 [s]\n",
      "\n",
      "\n",
      "13: train_loss=2.4e+05,  val_loss=1.8e+05, train_loss tt=5.8, val_loss tt=5.2, train_loss flow=2.4e+05, val_loss flow=1.8e+05, train_loss bpr=5.4, val_loss bpr=5.1, theta = [ -3.9094 -23.4208 -12.7657], vot = 0.17, psc_factor = 0.0, avg abs theta fixed effect = 0, avg alpha = 0.18, avg beta = 4, avg abs diff demand =4.3e+02, time:  3.8\n",
      "train generalization error =0.056, \n",
      "val generalization error =0.051, \n",
      "\n",
      "Epoch: 14, n_train: 102, n_test: 26\n",
      "\n",
      "SUE via fw (max iters: 100)\n",
      "\n",
      "Equilibrium gaps: ['1E-05']\n",
      "Initial Fisk Objective: -259,796,219.53\n",
      "Final Fisk Objective: -259,542,825.22\n",
      "Improvement Fisk Objective: 0.10%\n",
      "Final gap: 1E-05. Acc. bound: 1E-04. Time: 0.3 [s]\n",
      "\n",
      "\n",
      "\n",
      "SUE via fw (max iters: 100)\n",
      "\n",
      "Equilibrium gaps: ['0E+00']\n",
      "Initial Fisk Objective: -257,945,184.57\n",
      "Final Fisk Objective: -257,928,634.16\n",
      "Improvement Fisk Objective: 0.01%\n",
      "Final gap: 0E+00. Acc. bound: 1E-04. Time: 0.3 [s]\n",
      "\n",
      "\n",
      "14: train_loss=2.2e+05,  val_loss=1.7e+05, train_loss tt=11, val_loss tt=10, train_loss flow=2.2e+05, val_loss flow=1.7e+05, train_loss bpr=10, val_loss bpr=10, theta = [ -4.0796 -23.0875 -12.8632], vot = 0.18, psc_factor = 0.0, avg abs theta fixed effect = 0, avg alpha = 0.17, avg beta = 3.4, avg abs diff demand =4.3e+02, time:  2.4\n",
      "train generalization error =0.066, \n",
      "val generalization error =0.052, \n",
      "\n",
      "Epoch: 15, n_train: 102, n_test: 26\n",
      "\n",
      "SUE via fw (max iters: 100)\n",
      "\n",
      "Equilibrium gaps: ['2E-06']\n",
      "Initial Fisk Objective: -249,957,445.91\n",
      "Final Fisk Objective: -249,512,261.96\n",
      "Improvement Fisk Objective: 0.18%\n",
      "Final gap: 2E-06. Acc. bound: 1E-04. Time: 0.3 [s]\n",
      "\n",
      "\n",
      "\n",
      "SUE via fw (max iters: 100)\n",
      "\n",
      "Equilibrium gaps: ['8E-04', '6E-05']\n",
      "Initial Fisk Objective: -251,378,160.04\n",
      "Final Fisk Objective: -249,987,432.66\n",
      "Improvement Fisk Objective: 0.55%\n",
      "Final gap: 6E-05. Acc. bound: 1E-04. Time: 0.5 [s]\n",
      "\n",
      "\n",
      "15: train_loss=2.3e+05,  val_loss=2.1e+05, train_loss tt=3.4, val_loss tt=3.5, train_loss flow=2.3e+05, val_loss flow=2.1e+05, train_loss bpr=2.4, val_loss bpr=2.2, theta = [ -4.4847 -22.1496 -14.7552], vot = 0.20, psc_factor = 0.0, avg abs theta fixed effect = 0, avg alpha = 0.21, avg beta = 3.6, avg abs diff demand =4.4e+02, time:  2.5\n",
      "train generalization error =0.06, \n",
      "val generalization error =0.043, \n",
      "\n",
      "Epoch: 16, n_train: 102, n_test: 26\n",
      "\n",
      "SUE via fw (max iters: 100)\n",
      "\n",
      "Equilibrium gaps: ['1E-03', '2E-05']\n",
      "Initial Fisk Objective: -260,586,891.83\n",
      "Final Fisk Objective: -259,696,874.42\n",
      "Improvement Fisk Objective: 0.34%\n",
      "Final gap: 2E-05. Acc. bound: 1E-04. Time: 0.4 [s]\n",
      "\n",
      "\n",
      "\n",
      "SUE via fw (max iters: 100)\n",
      "\n",
      "Equilibrium gaps: ['5E-05']\n",
      "Initial Fisk Objective: -261,084,530.94\n",
      "Final Fisk Objective: -260,514,109.36\n",
      "Improvement Fisk Objective: 0.22%\n",
      "Final gap: 5E-05. Acc. bound: 1E-04. Time: 0.3 [s]\n",
      "\n",
      "\n",
      "16: train_loss=2.1e+05,  val_loss=1.7e+05, train_loss tt=4.7, val_loss tt=4.4, train_loss flow=2.1e+05, val_loss flow=1.7e+05, train_loss bpr=4.2, val_loss bpr=4.1, theta = [ -4.2807 -23.3101 -13.7382], vot = 0.18, psc_factor = 0.0, avg abs theta fixed effect = 0, avg alpha = 0.19, avg beta = 3.5, avg abs diff demand =4.4e+02, time:  2.4\n",
      "train generalization error =0.052, \n",
      "val generalization error =0.047, \n",
      "\n",
      "Epoch: 17, n_train: 102, n_test: 26\n",
      "\n",
      "SUE via fw (max iters: 100)\n",
      "\n",
      "Equilibrium gaps: ['8E-06']\n",
      "Initial Fisk Objective: -270,146,342.18\n",
      "Final Fisk Objective: -269,660,530.81\n",
      "Improvement Fisk Objective: 0.18%\n",
      "Final gap: 8E-06. Acc. bound: 1E-04. Time: 0.3 [s]\n",
      "\n",
      "\n",
      "\n",
      "SUE via fw (max iters: 100)\n",
      "\n",
      "Equilibrium gaps: ['6E-06']\n",
      "Initial Fisk Objective: -271,707,310.33\n",
      "Final Fisk Objective: -271,549,933.41\n",
      "Improvement Fisk Objective: 0.06%\n",
      "Final gap: 6E-06. Acc. bound: 1E-04. Time: 0.3 [s]\n",
      "\n",
      "\n",
      "17: train_loss=2.1e+05,  val_loss=1.7e+05, train_loss tt=5.2, val_loss tt=5.1, train_loss flow=2.1e+05, val_loss flow=1.7e+05, train_loss bpr=5.4, val_loss bpr=5.3, theta = [ -3.8979 -23.9338 -13.9427], vot = 0.16, psc_factor = 0.0, avg abs theta fixed effect = 0, avg alpha = 0.42, avg beta = 2.7, avg abs diff demand =4.4e+02, time:  2.4\n",
      "train generalization error =0.057, \n",
      "val generalization error =0.068, \n",
      "\n",
      "Epoch: 18, n_train: 102, n_test: 26\n",
      "\n",
      "SUE via fw (max iters: 100)\n",
      "\n",
      "Equilibrium gaps: ['1E-04', '3E-04', '8E-05']\n",
      "Initial Fisk Objective: -273,434,586.44\n",
      "Final Fisk Objective: -270,934,877.3\n",
      "Improvement Fisk Objective: 0.91%\n",
      "Final gap: 8E-05. Acc. bound: 1E-04. Time: 0.9 [s]\n",
      "\n",
      "\n",
      "\n",
      "SUE via fw (max iters: 100)\n",
      "\n",
      "Equilibrium gaps: ['5E-04', '4E-05']\n",
      "Initial Fisk Objective: -272,716,049.56\n",
      "Final Fisk Objective: -272,237,184.5\n",
      "Improvement Fisk Objective: 0.18%\n",
      "Final gap: 4E-05. Acc. bound: 1E-04. Time: 0.6 [s]\n",
      "\n",
      "\n",
      "18: train_loss=2.1e+05,  val_loss=1.7e+05, train_loss tt=2.2, val_loss tt=2, train_loss flow=2.1e+05, val_loss flow=1.7e+05, train_loss bpr=2.5, val_loss bpr=2.3, theta = [ -3.8625 -24.09   -13.7659], vot = 0.16, psc_factor = 0.0, avg abs theta fixed effect = 0, avg alpha = 0.22, avg beta = 3.6, avg abs diff demand =4.4e+02, time:  4.3\n",
      "train generalization error =0.056, \n",
      "val generalization error =0.069, \n"
     ]
    },
    {
     "name": "stdout",
     "output_type": "stream",
     "text": [
      "\n",
      "Epoch: 19, n_train: 102, n_test: 26\n",
      "\n",
      "SUE via fw (max iters: 100)\n",
      "\n",
      "Equilibrium gaps: ['1E-06']\n",
      "Initial Fisk Objective: -265,418,935.38\n",
      "Final Fisk Objective: -265,412,839.79\n",
      "Improvement Fisk Objective: 0.00%\n",
      "Final gap: 1E-06. Acc. bound: 1E-04. Time: 0.6 [s]\n",
      "\n",
      "\n",
      "\n",
      "SUE via fw (max iters: 100)\n",
      "\n",
      "Equilibrium gaps: ['4E-06']\n",
      "Initial Fisk Objective: -267,329,558.05\n",
      "Final Fisk Objective: -266,725,260.52\n",
      "Improvement Fisk Objective: 0.23%\n",
      "Final gap: 4E-06. Acc. bound: 1E-04. Time: 0.5 [s]\n",
      "\n",
      "\n",
      "19: train_loss=2e+05,  val_loss=1.6e+05, train_loss tt=2.6, val_loss tt=2.4, train_loss flow=2e+05, val_loss flow=1.6e+05, train_loss bpr=2.7, val_loss bpr=2.5, theta = [ -4.2612 -23.783  -14.0254], vot = 0.18, psc_factor = 0.0, avg abs theta fixed effect = 0, avg alpha = 0.17, avg beta = 3.8, avg abs diff demand =4.4e+02, time:  3.9\n",
      "train generalization error =0.042, \n",
      "val generalization error =0.049, \n",
      "\n",
      "Epoch: 20, n_train: 102, n_test: 26\n",
      "\n",
      "SUE via fw (max iters: 100)\n",
      "\n",
      "Equilibrium gaps: ['0E+00']\n",
      "Initial Fisk Objective: -273,788,724.57\n",
      "Final Fisk Objective: -273,788,330.42\n",
      "Improvement Fisk Objective: 0.00%\n",
      "Final gap: 0E+00. Acc. bound: 1E-04. Time: 0.4 [s]\n",
      "\n",
      "\n",
      "\n",
      "SUE via fw (max iters: 100)\n",
      "\n",
      "Equilibrium gaps: ['0E+00']\n",
      "Initial Fisk Objective: -273,716,687.66\n",
      "Final Fisk Objective: -273,716,687.66\n",
      "Improvement Fisk Objective: 0.00%\n",
      "Final gap: 0E+00. Acc. bound: 1E-04. Time: 0.4 [s]\n",
      "\n",
      "\n",
      "20: train_loss=2.1e+05,  val_loss=1.7e+05, train_loss tt=68, val_loss tt=68, train_loss flow=2.1e+05, val_loss flow=1.7e+05, train_loss bpr=68, val_loss bpr=68, theta = [ -3.9518 -24.6803 -14.0262], vot = 0.16, psc_factor = 0.0, avg abs theta fixed effect = 0, avg alpha = 0.24, avg beta = 1.8, avg abs diff demand =4.4e+02, time:  3.6\n",
      "train generalization error =0.061, \n",
      "val generalization error =0.11, \n"
     ]
    },
    {
     "name": "stderr",
     "output_type": "stream",
     "text": [
      "/Users/pablo/OneDrive/data-science/github/aesuelogit/src/aesuelogit/visualizations.py:63: UserWarning: Matplotlib is currently using module://matplotlib_inline.backend_inline, which is a non-GUI backend, so cannot show the figure.\n",
      "  fig.show()\n"
     ]
    },
    {
     "data": {
      "image/png": "[encoded data removed]",
      "text/plain": [
       "<Figure size 432x288 with 1 Axes>"
      ]
     },
     "metadata": {
      "needs_background": "light"
     },
     "output_type": "display_data"
    },
    {
     "data": {
      "image/png": "[encoded data removed]",
      "text/plain": [
       "<Figure size 432x288 with 1 Axes>"
      ]
     },
     "metadata": {
      "needs_background": "light"
     },
     "output_type": "display_data"
    },
    {
     "data": {
      "image/png": "[encoded data removed]",
      "text/plain": [
       "<Figure size 648x288 with 4 Axes>"
      ]
     },
     "metadata": {
      "needs_background": "light"
     },
     "output_type": "display_data"
    }
   ],
   "source": [
    "if run_experiment['convergence']:\n",
    "\n",
    "    # optimizer = NGD(learning_rate=_LR)\n",
    "    # optimizer = tf.keras.optimizers.Adagrad(learning_rate=_LR)\n",
    "    optimizer = tf.keras.optimizers.Adam(learning_rate=_LR)\n",
    "\n",
    "    bpr_parameters = BPRParameters(keys=['alpha', 'beta'],\n",
    "                                   initial_values={'alpha': 0.15, 'beta': 1},\n",
    "                                   # initial_values={'alpha': 0.05, 'beta': 2},\n",
    "                                   true_values={'alpha': 0.15, 'beta': 4},\n",
    "                                   trainables={'alpha': True, 'beta': True},\n",
    "                                   # link_specifics = dict.fromkeys(['alpha','beta'],True)\n",
    "                                   # trainables = ['alpha'],\n",
    "                                   )\n",
    "\n",
    "    od_parameters = ODParameters(key='od',\n",
    "                                 periods=1,\n",
    "                                 initial_values = np.ones_like(tntp_network.q).flatten(),\n",
    "                                 # initial_values=0.6 * tntp_network.q.flatten(),\n",
    "                                 # initial_values=tntp_network.q.flatten(),\n",
    "                                 true_values=tntp_network.q.flatten(),\n",
    "                                 historic_values={1: tntp_network.q.flatten()},\n",
    "                                 trainable=True)\n",
    "\n",
    "    model = GISUELOGIT(\n",
    "        key='model',\n",
    "        network=tntp_network,\n",
    "        equilibrator=equilibrator,\n",
    "        utility=utility_parameters,\n",
    "        bpr=bpr_parameters,\n",
    "        od=od_parameters,\n",
    "    )\n",
    "\n",
    "    convergence_experiment = ConvergenceExperiment(\n",
    "        seed=_SEED,\n",
    "        name='Convergence Experiment',\n",
    "        folderpath=isl.config.dirs['output_folder'] + 'experiments/' + network_name,\n",
    "        model=model,\n",
    "        optimizer=optimizer,\n",
    "        X=X,\n",
    "        Y=Y)\n",
    "\n",
    "    convergence_experiment.run(epochs=_EPOCHS,\n",
    "                               test_size = 0.2,\n",
    "                               batch_size=_BATCH_SIZE,\n",
    "                               loss_weights={'od': 0, 'theta': 0, 'tt': 1, 'flow': 1, 'bpr': 0},)"
   ]
  },
  {
   "cell_type": "markdown",
   "metadata": {
    "pycharm": {
     "name": "#%% md\n"
    }
   },
   "source": [
    "## Multiday experiment"
   ]
  },
  {
   "cell_type": "code",
   "execution_count": null,
   "metadata": {
    "pycharm": {
     "is_executing": true,
     "name": "#%%\n"
    }
   },
   "outputs": [
    {
     "name": "stdout",
     "output_type": "stream",
     "text": [
      "\n",
      "Multiday Experiment\n",
      "\n",
      "Replicate 1\n"
     ]
    },
    {
     "data": {
      "image/png": "[encoded data removed]",
      "text/plain": [
       "<Figure size 504x432 with 4 Axes>"
      ]
     },
     "metadata": {
      "needs_background": "light"
     },
     "output_type": "display_data"
    },
    {
     "name": "stdout",
     "output_type": "stream",
     "text": [
      "\n",
      "Replicate 2\n"
     ]
    },
    {
     "data": {
      "image/png": "[encoded data removed]",
      "text/plain": [
       "<Figure size 504x432 with 4 Axes>"
      ]
     },
     "metadata": {
      "needs_background": "light"
     },
     "output_type": "display_data"
    },
    {
     "name": "stdout",
     "output_type": "stream",
     "text": [
      "\n",
      "Replicate 3\n"
     ]
    }
   ],
   "source": [
    "if run_experiment['multiday']:\n",
    "\n",
    "    optimizer = tf.keras.optimizers.Adam(learning_rate=_LR)\n",
    "\n",
    "    bpr_parameters = BPRParameters(keys=['alpha', 'beta'],\n",
    "                                   initial_values={'alpha': 0.1, 'beta': 1},\n",
    "                                   # initial_values={'alpha': 0.15, 'beta': 4},\n",
    "                                   true_values={'alpha': 0.15, 'beta': 4},\n",
    "                                   trainables=dict.fromkeys(['alpha', 'beta'], True),\n",
    "                                   )\n",
    "\n",
    "    od_parameters = ODParameters(key='od',\n",
    "                                 periods=1,\n",
    "                                 # initial_values=100*np.ones_like(tntp_network.q).flatten(),\n",
    "                                 initial_values=0.5*tntp_network.q.flatten(),\n",
    "                                 # initial_values=tntp_network.q.flatten(),\n",
    "                                 true_values=tntp_network.q.flatten(),\n",
    "                                 historic_values={1: tntp_network.q.flatten()},\n",
    "                                 trainable=True)\n",
    "\n",
    "    model = GISUELOGIT(\n",
    "        key='model',\n",
    "        network=tntp_network,\n",
    "        equilibrator=equilibrator,\n",
    "        utility=utility_parameters,\n",
    "        bpr=bpr_parameters,\n",
    "        od=od_parameters,\n",
    "    )\n",
    "\n",
    "    multiday_experiment = MultidayExperiment(\n",
    "        seed=_SEED,\n",
    "        name='Multiday Experiment',\n",
    "        folderpath=isl.config.dirs['output_folder'] + 'experiments/' + network_name,\n",
    "        model=model,\n",
    "        optimizer=optimizer,\n",
    "        noise = {'tt': 0, 'flow': 0.1},\n",
    "        X=X,\n",
    "        Y=Y)\n",
    "\n",
    "    multiday_experiment.run(epochs=_EPOCHS,\n",
    "                            replicates = 50,\n",
    "                            replicate_report = False,\n",
    "                            show_replicate_plot = True,\n",
    "                            range_initial_values= (-5,5),\n",
    "                            batch_size=_BATCH_SIZE,\n",
    "                            levels = [10,50,100],\n",
    "                            loss_weights={'od': 0, 'theta': 0, 'tt': 1, 'flow': 1, 'bpr': 0},\n",
    "                            )"
   ]
  },
  {
   "cell_type": "code",
   "execution_count": null,
   "metadata": {},
   "outputs": [],
   "source": []
  }
 ],
 "metadata": {
  "kernelspec": {
   "display_name": "aesuelogit-1kW0OCrg-py3.9",
   "language": "python",
   "name": "aesuelogit-1kw0ocrg-py3.9"
  },
  "language_info": {
   "codemirror_mode": {
    "name": "ipython",
    "version": 3
   },
   "file_extension": ".py",
   "mimetype": "text/x-python",
   "name": "python",
   "nbconvert_exporter": "python",
   "pygments_lexer": "ipython3",
   "version": "3.9.1"
  }
 },
 "nbformat": 4,
 "nbformat_minor": 1
}
